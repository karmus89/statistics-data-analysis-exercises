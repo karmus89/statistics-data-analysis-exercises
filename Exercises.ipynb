{
 "cells": [
  {
   "cell_type": "markdown",
   "metadata": {},
   "source": [
    "*Created by Petteri Nevavuori <<petteri.nevavuori@tuni.fi>>*"
   ]
  },
  {
   "cell_type": "markdown",
   "metadata": {},
   "source": [
    "# Tehtävät\n",
    "\n",
    "*Ott & Longnecker (2010): An Introduction to Statistics and Data Analysis*"
   ]
  },
  {
   "cell_type": "markdown",
   "metadata": {
    "toc": true
   },
   "source": [
    "<h1>Sisällysluettelo<span class=\"tocSkip\"></span></h1>\n",
    "<div class=\"toc\"><ul class=\"toc-item\"><li><span><a href=\"#5.41\" data-toc-modified-id=\"5.41-1\">5.41</a></span></li><li><span><a href=\"#5.49\" data-toc-modified-id=\"5.49-2\">5.49</a></span></li><li><span><a href=\"#6.36\" data-toc-modified-id=\"6.36-3\">6.36</a></span></li><li><span><a href=\"#7.23\" data-toc-modified-id=\"7.23-4\">7.23</a></span></li><li><span><a href=\"#8.06\" data-toc-modified-id=\"8.06-5\">8.06</a></span></li><li><span><a href=\"#9.12\" data-toc-modified-id=\"9.12-6\">9.12</a></span></li><li><span><a href=\"#10.06\" data-toc-modified-id=\"10.06-7\">10.06</a></span></li><li><span><a href=\"#11.01\" data-toc-modified-id=\"11.01-8\">11.01</a></span></li><li><span><a href=\"#12.08\" data-toc-modified-id=\"12.08-9\">12.08</a></span></li><li><span><a href=\"#13.08\" data-toc-modified-id=\"13.08-10\">13.08</a></span></li><li><span><a href=\"#14.7\" data-toc-modified-id=\"14.7-11\">14.7</a></span></li><li><span><a href=\"#15.04\" data-toc-modified-id=\"15.04-12\">15.04</a></span></li></ul></div>"
   ]
  },
  {
   "cell_type": "markdown",
   "metadata": {},
   "source": [
    "## 5.41\n",
    "\n",
    "A consumer testing agency wants to evaluate the claim made by a manufacturer of discount tires. The manufacturer claims that its tires can be driven at least 35,000 miles before wearing out. To determine the average number of miles that can be obtained from the manufacturer’s tires, the agency randomly selects 60 tires from the manufacturer’s warehouse and places the tires on 15 cars driven by test drivers on a 2-mile oval track. The number of miles driven (in thousands of miles) until the tires are determined to be worn out is given in the following table.\n",
    "\n",
    "| Car          | 1  | 2  | 3  | 4  | 5  | 6  | 7  | 8  | 9  | 10 | 11 | 12 | 13 | 14 | 15 |\n",
    "|--------------|----|----|----|----|----|----|----|----|----|----|----|----|----|----|----|\n",
    "| Miles Driven | 25 | 27 | 35 | 42 | 28 | 37 | 40 | 31 | 29 | 33 | 30 | 26 | 31 | 28 | 30 |\n",
    "\n",
    "$$n = 15$$\n",
    "$$\\bar{x} = 31.47$$ \n",
    "$$s = 5.04$$"
   ]
  },
  {
   "cell_type": "markdown",
   "metadata": {},
   "source": [
    "**A. Place a 99% confidence interval on the average number of miles driven, m, prior to the tires wearing out.**"
   ]
  },
  {
   "cell_type": "markdown",
   "metadata": {},
   "source": [
    "Vaikka meillä on käytössä jo näytteistä laskettuja tilastollisia suureita, aloitetaan silti visualisoimalla dataa karkealla histogrammilla."
   ]
  },
  {
   "cell_type": "code",
   "execution_count": 1,
   "metadata": {},
   "outputs": [],
   "source": [
    "import matplotlib.pyplot as plt\n",
    "import numpy as np\n",
    "import scipy\n",
    "import seaborn as sns\n",
    "sns.set(style='dark')\n",
    "\n",
    "samples = [25,27,35,42,28,37,40,31,29,33,30,26,31,28,30]\n",
    "samples_count = len(samples)\n",
    "samples_mean = 31.47\n",
    "samples_std = 5.04"
   ]
  },
  {
   "cell_type": "code",
   "execution_count": 2,
   "metadata": {},
   "outputs": [
    {
     "data": {
      "image/png": "[encoded data removed]",
      "text/plain": [
       "<Figure size 432x288 with 1 Axes>"
      ]
     },
     "metadata": {
      "needs_background": "light"
     },
     "output_type": "display_data"
    }
   ],
   "source": [
    "plt.boxplot(samples, vert=False)\n",
    "plt.yticks([])\n",
    "plt.grid()\n",
    "plt.show()"
   ]
  },
  {
   "cell_type": "markdown",
   "metadata": {},
   "source": [
    "Kuvaajamme ilmaisee näytteiden jakauman olevan ennemmin vino kuin normaalijakautunut. Siksi keskiarvon sijasta olisi perustellumpaa käyttää mediaania jatkotoimenpiteissä. \n",
    "\n",
    "> *Data voidaan olettaa olevan normaalijakautunut. Jos kuitenkin haluat analysoida sen myös mikäli tämä oletus ei pitäisi paikkansa, voi seurata kirjan esimerkkiä 5.20. Eli tässä tapauksessa CI:n arviointi toimii eri tavalla, ei niin että otetaan vaan väli mediaanin ympäriltä.*\n",
    ">\n",
    ">**Vastaus**: Mediaania ei siis yritetä käyttää."
   ]
  },
  {
   "cell_type": "markdown",
   "metadata": {},
   "source": [
    "Jatketaanpa siis luottamusvälin laskentaa. Ensin on vuorossa vapausasteiden määritys, jotta taulukosta saadaan luettua haluttuun luottamusarvoon liittyvä $t$-arvo.\n",
    "\n",
    "$$ \\text{df} = n - 1 = 14 $$\n",
    "\n",
    "> *Kommentti: tässähän ei vielä testata mitään hypoteesia vaan arvioidaan keskiarvon luottamusväli. En ymmärrä miksi olet tässä käyttänyt yksipuolista analyysiä*\n",
    ">\n",
    ">**Vastaus**: Lasketaan siis vain luottamusväli kaksipuoleisella analyysillä. Kyseessä siis olikin estimointi hypoteesin testauksen sijasta.\n",
    "\n",
    "Nollahypoteesin hylkäysalue on toisin sanoen jakauman oikeassa laidassa, jolloin kyseessä on yksipuolinen hypoteesin testaus. Kun $\\alpha = 100\\% - 99\\% = 1\\%$, niin\n",
    "\n",
    "$$ t_{\\alpha/2} = 2.977 $$"
   ]
  },
  {
   "cell_type": "markdown",
   "metadata": {},
   "source": [
    "Kun $t$-arvo on tiedossa, lasketaan seuraavaksi luottamusvälin ala- ja ylärajat. Lasketaan ne *sekä keskiarvolla että mediaanilla*."
   ]
  },
  {
   "cell_type": "code",
   "execution_count": 3,
   "metadata": {},
   "outputs": [
    {
     "data": {
      "text/plain": [
       "(27.595963202322412, 35.34403679767758)"
      ]
     },
     "execution_count": 3,
     "metadata": {},
     "output_type": "execute_result"
    }
   ],
   "source": [
    "t = 2.977\n",
    "interval_low = samples_mean-t*samples_std/np.sqrt(samples_count)\n",
    "interval_high = samples_mean+t*samples_std/np.sqrt(samples_count)\n",
    "(interval_low, interval_high)"
   ]
  },
  {
   "cell_type": "markdown",
   "metadata": {},
   "source": [
    "$$ \\text{CI}^{\\mu}_{99\\%} \\approx (27.596, 35.344) $$"
   ]
  },
  {
   "cell_type": "markdown",
   "metadata": {},
   "source": [
    "Näytteiden keskiarvon luottamusväli jättää tavoitellun minimikeskiarvon (35) luottamusvälin sisäpuolelle."
   ]
  },
  {
   "cell_type": "markdown",
   "metadata": {},
   "source": [
    "**B. Is there significant evidence ($\\alpha = .01$) that the manufacturer’s claim is false? What is the level of significance of your test? Interpret your findings.**"
   ]
  },
  {
   "cell_type": "markdown",
   "metadata": {},
   "source": [
    "Seuraavaksi halutaan testatta varsinaiset hypoteesit. \n",
    "\n",
    "$$ \\mu_0 = 35 $$\n",
    "$$ H_0: \\mu < \\mu_0 $$\n",
    "$$ H_a: \\mu \\ge \\mu_0 $$\n",
    "\n",
    "Koska meidän testimme ovat oikeahäntäisiä, on nollahypoteesin hylkäykselle perusteita, mikäli\n",
    "\n",
    "$$ t_{comp.} \\ge t_\\alpha $$\n",
    "\n",
    "Lasketaanpa siis seuraavaksi otoksen $t$-arvo erikseen sekä keskiarvolla että mediaanilla."
   ]
  },
  {
   "cell_type": "code",
   "execution_count": 9,
   "metadata": {},
   "outputs": [
    {
     "data": {
      "text/plain": [
       "-2.7126252404984497"
      ]
     },
     "execution_count": 9,
     "metadata": {},
     "output_type": "execute_result"
    }
   ],
   "source": [
    "mu_0 = 35\n",
    "samples_t = (samples_mean - mu_0)/(samples_std/np.sqrt(samples_count))\n",
    "samples_t"
   ]
  },
  {
   "cell_type": "markdown",
   "metadata": {},
   "source": [
    "$$ t_{\\mu} \\approx -2.713 \\ll t_\\alpha$$"
   ]
  },
  {
   "cell_type": "markdown",
   "metadata": {},
   "source": [
    "Tämän tuloksen perusteella voidaan todeta, että datassa ei ole riittävästi todisteita valmistajan väitteen tueksi, eli nollahypoteesia ei voida hylätä. Tarkistetaan vielä testin tuloksen merkitsevyystaso\n",
    "\n",
    "$$ p = P(t \\ge t_{comp.}) = P(t \\ge -2.173) $$\n",
    "\n",
    "Tämän todennäköisyyden selvittämiseen hyödynnetään kirjan taulukkoa siten, että todennäköisyyttä haarukoidaan tehtävässä käytettyjen vapausasteita vastaavan $t$-arvorivin eri $\\alpha$-arvoilla. Laskennallista $t$-arvoa lähin arvo on $t_{.40} = .258$. Koska taulukon $\\alpha$-arvot ovat vain väliltä ``.40 ... .0005`` ja pienin $t$-arvo saadaan suurimmalla $\\alpha$-arvolla, on\n",
    "\n",
    "$$ p > 0.40 \\gg \\alpha $$\n",
    "\n",
    "Nollahypoteesiä ei siis tule hylätä, jolloin valmistajan väitteelle ei ole tukea."
   ]
  },
  {
   "cell_type": "markdown",
   "metadata": {},
   "source": [
    "## 5.49\n",
    "\n",
    "Refer to Exercise 5.41."
   ]
  },
  {
   "cell_type": "markdown",
   "metadata": {},
   "source": [
    "**A. Use a computer program to obtain 1000 bootstrap samples from the 15 tire wear data. Use there 1000 samples to obtain the bootstrap $p$-value for the $t$ test of $H_a: \\mu < 35$.**"
   ]
  },
  {
   "cell_type": "markdown",
   "metadata": {},
   "source": [
    "Tässä tehtävässä käytetään keskiarvoa, sillä tiedossa on jo, että mediaanilla laskettu $t$-arvo on keskiarvoakin pienempi.\n",
    "\n",
    "> *Kommentti: Bootstrap menetelmä ei edellytä normaalijakautuneisuutta, joten tämä perustelu on ainakin turha ellei väärä. Muuten ratkaisu on ok*\n",
    ">\n",
    ">**Vastaus**: Perustelu nojasi todennäköisesti ajatukseen ei-normaalijakautuneesta populaatiosta. Koska normaalijakautuneisuus voitiin olettaa, tähän perusteluun ei ole tarvetta päätyä (luku 5.9 alku)."
   ]
  },
  {
   "cell_type": "code",
   "execution_count": 112,
   "metadata": {},
   "outputs": [],
   "source": [
    "import matplotlib.pyplot as plt\n",
    "import numpy as np\n",
    "import scipy\n",
    "import seaborn as sns\n",
    "sns.set(style='dark')\n",
    "\n",
    "samples = [25,27,35,42,28,37,40,31,29,33,30,26,31,28,30]\n",
    "samples_count = len(samples)\n",
    "samples_mean = 31.47\n",
    "samples_std = 5.04\n",
    "\n",
    "bootstrap_samplings = 1000\n",
    "calculate_t = lambda mean, std: (mean - samples_mean)/(std/np.sqrt(samples_count))\n",
    "bootstrapped_ts = []\n",
    "\n",
    "for i in range(bootstrap_samplings):\n",
    "    bs_samples = [samples[np.random.randint(samples_count)] for i in range(samples_count)]\n",
    "    bs_t = calculate_t(np.mean(bs_samples), np.std(bs_samples))\n",
    "    bootstrapped_ts.append(bs_t)"
   ]
  },
  {
   "cell_type": "markdown",
   "metadata": {},
   "source": [
    "Visualisoidaanpa näin tuotetut $t$-arvot."
   ]
  },
  {
   "cell_type": "code",
   "execution_count": 113,
   "metadata": {},
   "outputs": [
    {
     "data": {
      "image/png": "[encoded data removed]",
      "text/plain": [
       "<Figure size 432x288 with 1 Axes>"
      ]
     },
     "metadata": {},
     "output_type": "display_data"
    }
   ],
   "source": [
    "plt.hist(bootstrapped_ts, bins=25)\n",
    "plt.show()"
   ]
  },
  {
   "cell_type": "markdown",
   "metadata": {},
   "source": [
    "Arvot ovat melko normaalijakautuneen näköisiä. Seuraavaksi arvot järjestetään ja otetaan tehtävänannon mukaisesti 99 % luottamusvälin laskentaan vaaditut $t$-arvot."
   ]
  },
  {
   "cell_type": "code",
   "execution_count": 37,
   "metadata": {},
   "outputs": [
    {
     "name": "stdout",
     "output_type": "stream",
     "text": [
      "(-4.830833519514148, 2.275607764210186)\n"
     ]
    }
   ],
   "source": [
    "t_low = sorted(bootstrapped_ts)[int(bootstrap_samplings*(0.005))]\n",
    "t_high = sorted(bootstrapped_ts)[int(bootstrap_samplings*(0.995))]\n",
    "print((t_low,t_high))"
   ]
  },
  {
   "cell_type": "markdown",
   "metadata": {},
   "source": [
    "$$\\hat{t}_{0.005} \\approx -4.831$$\n",
    "$$\\hat{t}_{0.995} \\approx 2.276$$\n"
   ]
  },
  {
   "cell_type": "markdown",
   "metadata": {},
   "source": [
    "Käyttämällä alkuperäisten näytteiden keskiarvoa ja keskihajontaa lasketaan likimääräisen luottamusvälin ala- ja ylärajat."
   ]
  },
  {
   "cell_type": "code",
   "execution_count": 38,
   "metadata": {},
   "outputs": [
    {
     "data": {
      "text/plain": [
       "(25.1835281094887, 34.43129936702421)"
      ]
     },
     "execution_count": 38,
     "metadata": {},
     "output_type": "execute_result"
    }
   ],
   "source": [
    "interval_low = samples_mean+(t_low*samples_std/np.sqrt(samples_count))\n",
    "interval_high = samples_mean+(t_high*samples_std/np.sqrt(samples_count))\n",
    "(interval_low, interval_high)"
   ]
  },
  {
   "cell_type": "markdown",
   "metadata": {},
   "source": [
    "$$ \\text{CI}^{\\mu}_{99\\%} \\approx (25.184, 34.431) \\text{, kun } \\alpha = .01 $$"
   ]
  },
  {
   "cell_type": "markdown",
   "metadata": {},
   "source": [
    "Luottamusvälin yläraja jää arvon 35 alle. Tämän jälkeen lasketaan niiden bootstrap-menetelmällä laskettujen $t$-arvojen osuus kaikista arvoista, joiden arvo on vähintään yhtä suuri kuin näytteistä laskettu $t$-arvo. Olkoot arvot ylittävien määrä $m$ ja kaikkien näytteistettyjen arvojen määr $B$, jolloin bootstrap-menetelmällä \n",
    "\n",
    "$$ p = \\frac{m}{B} $$"
   ]
  },
  {
   "cell_type": "code",
   "execution_count": 48,
   "metadata": {},
   "outputs": [
    {
     "data": {
      "text/plain": [
       "0.965"
      ]
     },
     "execution_count": 48,
     "metadata": {},
     "output_type": "execute_result"
    }
   ],
   "source": [
    "m = len([t for t in bootstrapped_ts if t >= samples_t])\n",
    "p = m / bootstrap_samplings\n",
    "p"
   ]
  },
  {
   "cell_type": "markdown",
   "metadata": {},
   "source": [
    "$$ p = \\frac{m}{B} = 0.965 = 96.5 \\% $$"
   ]
  },
  {
   "cell_type": "markdown",
   "metadata": {},
   "source": [
    "**B. Compare the $p$-value from part (a) to the $p$-value obtained in Exercise 5.41.**"
   ]
  },
  {
   "cell_type": "markdown",
   "metadata": {},
   "source": [
    "Harjoituksen 5.41 $p$-arvo jäi arvoitukseksi, sillä taulukosta haarukoiden ei loppujen lopuksi edes riittävän lähelle menevää $t$-arvoa ollut löydettävissä. Bootstrap-menetelmällä laskettu merkitsevyystaso taas antaa kuvan, että renkaan valmistaja on auttamattomasti luvannut liikoja."
   ]
  },
  {
   "cell_type": "markdown",
   "metadata": {},
   "source": [
    "## 6.36\n",
    "\n",
    "The effect of Benzedrine on the heart rate of dogs (in beats per minute) was examined in an experiment on 14 dogs chosen for the study. Each dog was to serve as its own control, with half of the dogs assigned to receive Benzedrine during the first study period and the other half assigned to receive a placebo (saline solution). All dogs were examined to determine the heart rates after\n",
    "2 hours on the medication. After 2 weeks in which no medication was given, the regimens for the dogs were switched for the second study period. The dogs previously on Benzedrinewere given the placebo and the others received Benzedrine. Again heart rates were measured after 2 hours. \n",
    "\n",
    "The following sample data are not arranged in the order in which they were taken but have been summarized by regimen. Use these data to test the research hypothesis that the distribution of heart rates for the dogs when receiving Benzedrine is shifted to the right of that for the same animals when on the placebo. Use a one-tailed Wilcoxon signed-rank test with $\\alpha = .05$.\n",
    "\n",
    "| Dog        | 1   | 2   | 3   | 4   | 5   | 6   | 7   | 8   | 9   | 10  | 11  | 12  | 13  | 14  |\n",
    "|------------|-----|-----|-----|-----|-----|-----|-----|-----|-----|-----|-----|-----|-----|-----|\n",
    "| Placebo    | 250 | 271 | 243 | 252 | 266 | 272 | 293 | 296 | 301 | 298 | 310 | 286 | 306 | 309 |\n",
    "| Benzedrine | 258 | 285 | 245 | 250 | 268 | 278 | 280 | 305 | 319 | 308 | 320 | 293 | 305 | 313 |"
   ]
  },
  {
   "cell_type": "code",
   "execution_count": 24,
   "metadata": {},
   "outputs": [],
   "source": [
    "import matplotlib.pyplot as plt\n",
    "import numpy as np\n",
    "import pandas as pd\n",
    "import scipy\n",
    "import seaborn as sns\n",
    "sns.set(style='dark')\n",
    "\n",
    "placebo = [250,271,243,252,266,272,293,296,301,298,310,286,306,309]\n",
    "benzedrine = [258,285,245,250,268,278,280,305,319,308,320,293,305,313]"
   ]
  },
  {
   "cell_type": "markdown",
   "metadata": {},
   "source": [
    "Aloitetaan ensin visualisoimalla datat päällekkäisillä histogrammeilla."
   ]
  },
  {
   "cell_type": "code",
   "execution_count": 12,
   "metadata": {},
   "outputs": [
    {
     "data": {
      "image/png": "[encoded data removed]",
      "text/plain": [
       "<Figure size 432x288 with 1 Axes>"
      ]
     },
     "metadata": {},
     "output_type": "display_data"
    }
   ],
   "source": [
    "plt.hist(placebo,bins=4,alpha=0.6,label='Placebo')\n",
    "plt.hist(benzedrine,bins=4,alpha=0.6,label='Benzedrine')\n",
    "plt.legend()\n",
    "plt.show()"
   ]
  },
  {
   "cell_type": "markdown",
   "metadata": {},
   "source": [
    "Kuvasta ainakin karkeasti näyttää siltä, että jotain eroa näytteissä on. Koska Wilcoxonin testi keskittyy eroihin, lasketaanpa vielä näytteiden erot ja piirretään erojen histogrammit. Erotus lasketaan siten, että ``placebo``-arvoista vähennetään ``benzedrine``-arvot."
   ]
  },
  {
   "cell_type": "code",
   "execution_count": 31,
   "metadata": {},
   "outputs": [
    {
     "data": {
      "image/png": "[encoded data removed]",
      "text/plain": [
       "<Figure size 432x288 with 1 Axes>"
      ]
     },
     "metadata": {},
     "output_type": "display_data"
    }
   ],
   "source": [
    "diffs = [p-b for p,b in zip(placebo, benzedrine)]\n",
    "plt.hist(diffs,bins=7,alpha=0.6,label='Diff')\n",
    "plt.legend()\n",
    "plt.show()"
   ]
  },
  {
   "cell_type": "markdown",
   "metadata": {},
   "source": [
    "Erotukset näyttävät jokseenkin normaalijakatuneilta. Samoin näyttää vahvasti siltä, että ``benzedrine``-arvot ovat pääsääntöisesti ``placebo``-arvoja suurempia, sillä erotukset näyttävät olevan ennemmin negatiivisella puolella. Järjestetään erotukset seuraavaksi absoluuttisen suuruden mukaiseen järjestykseen. Samalla otetaan talteen kunkin erotuksen merkki ja lasketaan absoluuttisten erotusten sijoitukset jaetut sijat huomioiden."
   ]
  },
  {
   "cell_type": "code",
   "execution_count": 58,
   "metadata": {
    "scrolled": false
   },
   "outputs": [
    {
     "data": {
      "text/html": [
       "<div>\n",
       "<style scoped>\n",
       "    .dataframe tbody tr th:only-of-type {\n",
       "        vertical-align: middle;\n",
       "    }\n",
       "\n",
       "    .dataframe tbody tr th {\n",
       "        vertical-align: top;\n",
       "    }\n",
       "\n",
       "    .dataframe thead th {\n",
       "        text-align: right;\n",
       "    }\n",
       "</style>\n",
       "<table border=\"1\" class=\"dataframe\">\n",
       "  <thead>\n",
       "    <tr style=\"text-align: right;\">\n",
       "      <th></th>\n",
       "      <th>Diff</th>\n",
       "      <th>SignPos</th>\n",
       "      <th>AbsDiff</th>\n",
       "      <th>Rank</th>\n",
       "    </tr>\n",
       "  </thead>\n",
       "  <tbody>\n",
       "    <tr>\n",
       "      <th>12</th>\n",
       "      <td>1</td>\n",
       "      <td>True</td>\n",
       "      <td>1</td>\n",
       "      <td>1.000000</td>\n",
       "    </tr>\n",
       "    <tr>\n",
       "      <th>2</th>\n",
       "      <td>-2</td>\n",
       "      <td>False</td>\n",
       "      <td>2</td>\n",
       "      <td>2.333333</td>\n",
       "    </tr>\n",
       "    <tr>\n",
       "      <th>3</th>\n",
       "      <td>2</td>\n",
       "      <td>True</td>\n",
       "      <td>2</td>\n",
       "      <td>2.333333</td>\n",
       "    </tr>\n",
       "    <tr>\n",
       "      <th>4</th>\n",
       "      <td>-2</td>\n",
       "      <td>False</td>\n",
       "      <td>2</td>\n",
       "      <td>2.333333</td>\n",
       "    </tr>\n",
       "    <tr>\n",
       "      <th>13</th>\n",
       "      <td>-4</td>\n",
       "      <td>False</td>\n",
       "      <td>4</td>\n",
       "      <td>5.000000</td>\n",
       "    </tr>\n",
       "    <tr>\n",
       "      <th>5</th>\n",
       "      <td>-6</td>\n",
       "      <td>False</td>\n",
       "      <td>6</td>\n",
       "      <td>6.000000</td>\n",
       "    </tr>\n",
       "    <tr>\n",
       "      <th>11</th>\n",
       "      <td>-7</td>\n",
       "      <td>False</td>\n",
       "      <td>7</td>\n",
       "      <td>7.000000</td>\n",
       "    </tr>\n",
       "    <tr>\n",
       "      <th>0</th>\n",
       "      <td>-8</td>\n",
       "      <td>False</td>\n",
       "      <td>8</td>\n",
       "      <td>8.000000</td>\n",
       "    </tr>\n",
       "    <tr>\n",
       "      <th>7</th>\n",
       "      <td>-9</td>\n",
       "      <td>False</td>\n",
       "      <td>9</td>\n",
       "      <td>9.000000</td>\n",
       "    </tr>\n",
       "    <tr>\n",
       "      <th>9</th>\n",
       "      <td>-10</td>\n",
       "      <td>False</td>\n",
       "      <td>10</td>\n",
       "      <td>10.500000</td>\n",
       "    </tr>\n",
       "    <tr>\n",
       "      <th>10</th>\n",
       "      <td>-10</td>\n",
       "      <td>False</td>\n",
       "      <td>10</td>\n",
       "      <td>10.500000</td>\n",
       "    </tr>\n",
       "    <tr>\n",
       "      <th>6</th>\n",
       "      <td>13</td>\n",
       "      <td>True</td>\n",
       "      <td>13</td>\n",
       "      <td>12.000000</td>\n",
       "    </tr>\n",
       "    <tr>\n",
       "      <th>1</th>\n",
       "      <td>-14</td>\n",
       "      <td>False</td>\n",
       "      <td>14</td>\n",
       "      <td>13.000000</td>\n",
       "    </tr>\n",
       "    <tr>\n",
       "      <th>8</th>\n",
       "      <td>-18</td>\n",
       "      <td>False</td>\n",
       "      <td>18</td>\n",
       "      <td>14.000000</td>\n",
       "    </tr>\n",
       "  </tbody>\n",
       "</table>\n",
       "</div>"
      ],
      "text/plain": [
       "    Diff  SignPos  AbsDiff       Rank\n",
       "12     1     True        1   1.000000\n",
       "2     -2    False        2   2.333333\n",
       "3      2     True        2   2.333333\n",
       "4     -2    False        2   2.333333\n",
       "13    -4    False        4   5.000000\n",
       "5     -6    False        6   6.000000\n",
       "11    -7    False        7   7.000000\n",
       "0     -8    False        8   8.000000\n",
       "7     -9    False        9   9.000000\n",
       "9    -10    False       10  10.500000\n",
       "10   -10    False       10  10.500000\n",
       "6     13     True       13  12.000000\n",
       "1    -14    False       14  13.000000\n",
       "8    -18    False       18  14.000000"
      ]
     },
     "execution_count": 58,
     "metadata": {},
     "output_type": "execute_result"
    }
   ],
   "source": [
    "df = pd.DataFrame(diffs,columns=['Diff'])\n",
    "df['SignPos'] = df['Diff'] >= 0\n",
    "df['AbsDiff'] = df['Diff'].abs()\n",
    "df['Rank'] = 0\n",
    "df = df.sort_values(by='AbsDiff')\n",
    "\n",
    "rank = 1\n",
    "for abs_diff in df['AbsDiff'].unique():\n",
    "    values = df[df['AbsDiff'] == abs_diff]\n",
    "    count = values.shape[0]\n",
    "    fraction = 0 if count == 1 else (1 / count)\n",
    "    df.loc[values.index, 'Rank'] = rank + fraction\n",
    "    rank += count\n",
    "df"
   ]
  },
  {
   "cell_type": "markdown",
   "metadata": {},
   "source": [
    "Seuraavaksi on vuorossa sekä negatiivisten että positiivisten sijoitusten yhteenlasku."
   ]
  },
  {
   "cell_type": "code",
   "execution_count": 61,
   "metadata": {},
   "outputs": [
    {
     "data": {
      "text/plain": [
       "(87.66666666666667, 15.333333333333334)"
      ]
     },
     "execution_count": 61,
     "metadata": {},
     "output_type": "execute_result"
    }
   ],
   "source": [
    "t_minus = df.loc[:,'Rank'][df['SignPos'] == False].sum()\n",
    "t_plus = df.loc[:,'Rank'][df['SignPos'] == True].sum()\n",
    "t_minus,t_plus"
   ]
  },
  {
   "cell_type": "markdown",
   "metadata": {},
   "source": [
    "$$T_{\\text{-}} \\approx 87.7 $$\n",
    "$$T_{\\text{+}} \\approx 15.3 \\rightarrow T $$"
   ]
  },
  {
   "cell_type": "markdown",
   "metadata": {},
   "source": [
    "Tehtävänantona oli suorittaa yksipuolinen Wilcoxonin sign-rank-testi. Tehtävän hypoteesit ovat\n",
    "\n",
    "$$H_0: \\text{Benzedriini ei nosta sykettä}$$\n",
    "$$H_a: \\text{Benzedriini nostaa sykettä}$$\n",
    "\n",
    "Kun tiedossa on, että positiivisia sijoituksia oli negatiivisia vähemmän, tarkastetaan seuraavaksi määritellyn $\\alpha$-arvon mukainen merkitsevyystaso kirjan taulukosta. Taulukosta etsitään $p=.05$ ja $n=14$ vastaava raja. Mikäli $T$ on pienempi tai yhtäsuuri kuin raja-arvo, $H_0$ tulee hylätä.\n",
    "\n",
    "$$\\text{Kriittinen raja-arvo} = 25 > T \\rightarrow H_0 \\text{ hylätään}$$"
   ]
  },
  {
   "cell_type": "markdown",
   "metadata": {},
   "source": [
    "Benzedriini toisinsanoen nostaa sykettä."
   ]
  },
  {
   "cell_type": "markdown",
   "metadata": {},
   "source": [
    "## 7.23\n",
    "\n",
    "A consumer-protection magazine was interested in comparing tires purchased from two different companies that each claimed their tires would last 40,000 miles. A random sample of 10 tires of each brand was obtained and tested under simulated road conditions. The number of miles until the tread thickness reached a specified depth was recorded for all tires. The data are\n",
    "given next (in 1,000 miles).\n",
    "\n",
    "| Brand I  | 38.9 | 39.7 | 42.3 | 39.5 | 39.6 | 35.6 | 36.0 | 39.2 | 37.6 | 39.5 |\n",
    "|----------|------|------|------|------|------|------|------|------|------|------|\n",
    "| Brand II | 44.6 | 46.9 | 48.7 | 41.5 | 37.5 | 33.1 | 43.4 | 36.5 | 32.5 | 42.0 |"
   ]
  },
  {
   "cell_type": "markdown",
   "metadata": {},
   "source": [
    "**A. Plot the data and compare the distributions of longevity for the two brands.**"
   ]
  },
  {
   "cell_type": "code",
   "execution_count": 7,
   "metadata": {},
   "outputs": [],
   "source": [
    "import matplotlib.pyplot as plt\n",
    "import numpy as np\n",
    "import pandas as pd\n",
    "import scipy.stats\n",
    "import seaborn as sns\n",
    "sns.set(style='dark')\n",
    "pd.options.display.float_format = '{:.3f}'.format\n",
    "\n",
    "brand_1 = [38.9,39.7,42.3,39.5,39.6,35.6,36.0,39.2,37.6,39.5]\n",
    "brand_2 = [44.6,46.9,48.7,41.5,37.5,33.1,43.4,36.5,32.5,42.0]"
   ]
  },
  {
   "cell_type": "markdown",
   "metadata": {},
   "source": [
    "Ensimmäisessä tehtävässä tulee visualisoida näytteitä ja niiden jakaumia. Aloitetaan tilastollisilla tunnusluvuilla."
   ]
  },
  {
   "cell_type": "code",
   "execution_count": 8,
   "metadata": {
    "scrolled": true
   },
   "outputs": [
    {
     "data": {
      "text/html": [
       "<div>\n",
       "<style scoped>\n",
       "    .dataframe tbody tr th:only-of-type {\n",
       "        vertical-align: middle;\n",
       "    }\n",
       "\n",
       "    .dataframe tbody tr th {\n",
       "        vertical-align: top;\n",
       "    }\n",
       "\n",
       "    .dataframe thead th {\n",
       "        text-align: right;\n",
       "    }\n",
       "</style>\n",
       "<table border=\"1\" class=\"dataframe\">\n",
       "  <thead>\n",
       "    <tr style=\"text-align: right;\">\n",
       "      <th></th>\n",
       "      <th>Brand 1</th>\n",
       "      <th>Brand 2</th>\n",
       "    </tr>\n",
       "  </thead>\n",
       "  <tbody>\n",
       "    <tr>\n",
       "      <th>count</th>\n",
       "      <td>10.000</td>\n",
       "      <td>10.000</td>\n",
       "    </tr>\n",
       "    <tr>\n",
       "      <th>mean</th>\n",
       "      <td>38.790</td>\n",
       "      <td>40.670</td>\n",
       "    </tr>\n",
       "    <tr>\n",
       "      <th>std</th>\n",
       "      <td>1.954</td>\n",
       "      <td>5.579</td>\n",
       "    </tr>\n",
       "    <tr>\n",
       "      <th>min</th>\n",
       "      <td>35.600</td>\n",
       "      <td>32.500</td>\n",
       "    </tr>\n",
       "    <tr>\n",
       "      <th>25%</th>\n",
       "      <td>37.925</td>\n",
       "      <td>36.750</td>\n",
       "    </tr>\n",
       "    <tr>\n",
       "      <th>50%</th>\n",
       "      <td>39.350</td>\n",
       "      <td>41.750</td>\n",
       "    </tr>\n",
       "    <tr>\n",
       "      <th>75%</th>\n",
       "      <td>39.575</td>\n",
       "      <td>44.300</td>\n",
       "    </tr>\n",
       "    <tr>\n",
       "      <th>max</th>\n",
       "      <td>42.300</td>\n",
       "      <td>48.700</td>\n",
       "    </tr>\n",
       "  </tbody>\n",
       "</table>\n",
       "</div>"
      ],
      "text/plain": [
       "       Brand 1  Brand 2\n",
       "count   10.000   10.000\n",
       "mean    38.790   40.670\n",
       "std      1.954    5.579\n",
       "min     35.600   32.500\n",
       "25%     37.925   36.750\n",
       "50%     39.350   41.750\n",
       "75%     39.575   44.300\n",
       "max     42.300   48.700"
      ]
     },
     "execution_count": 8,
     "metadata": {},
     "output_type": "execute_result"
    }
   ],
   "source": [
    "df = pd.DataFrame()\n",
    "df['Brand 1'] = brand_1\n",
    "df['Brand 2'] = brand_2\n",
    "df.describe()"
   ]
  },
  {
   "cell_type": "markdown",
   "metadata": {},
   "source": [
    "Eli toisin ilmaistuna:\n",
    "\n",
    "$$\\bar{x}_1 = 38.790 \\hspace{0.5cm}\\text{ja}\\hspace{0.5cm} s_1 = 1.954$$\n",
    "$$\\bar{x}_2 = 40.670 \\hspace{0.5cm}\\text{ja}\\hspace{0.5cm} s_2 = 5.579$$"
   ]
  },
  {
   "cell_type": "markdown",
   "metadata": {},
   "source": [
    "Jatketaanpa histogrammeilla."
   ]
  },
  {
   "cell_type": "code",
   "execution_count": 9,
   "metadata": {
    "scrolled": true
   },
   "outputs": [
    {
     "data": {
      "image/png": "[encoded data removed]",
      "text/plain": [
       "<Figure size 432x288 with 1 Axes>"
      ]
     },
     "metadata": {},
     "output_type": "display_data"
    }
   ],
   "source": [
    "df.plot.hist(alpha=0.6)\n",
    "plt.show()"
   ]
  },
  {
   "cell_type": "markdown",
   "metadata": {},
   "source": [
    "Kakkosbrändillä näyttäisi olevan enemmän hajontaa ykkösbrändiin nähden. Piirretäänpä vielä laatikkojanakuvaajat."
   ]
  },
  {
   "cell_type": "code",
   "execution_count": 10,
   "metadata": {},
   "outputs": [
    {
     "data": {
      "image/png": "[encoded data removed]",
      "text/plain": [
       "<Figure size 432x288 with 1 Axes>"
      ]
     },
     "metadata": {},
     "output_type": "display_data"
    }
   ],
   "source": [
    "df.plot.box(vert=False)\n",
    "plt.show()"
   ]
  },
  {
   "cell_type": "markdown",
   "metadata": {},
   "source": [
    "Samoin on laita myös laatikkojanakuvaajien mukaan. Vaikka ensimmäisen brändin kohdalla yksi arvoista jää poikkeavaksi, silmämääräisesti sen kuuluminen viiksen sisään näyttäisi olevan kuitenkin aika pienestä kiinni. \n",
    "\n",
    "Tämän lisäksi meitä kiinnostaa myös se, että onko brändikohtaiset näytteet normaalijakautuneita vai ei. Tuotetaan tätä varten vielä normaalijakaumakuvaajat."
   ]
  },
  {
   "cell_type": "code",
   "execution_count": 25,
   "metadata": {},
   "outputs": [
    {
     "data": {
      "image/png": "[encoded data removed]",
      "text/plain": [
       "<Figure size 432x288 with 1 Axes>"
      ]
     },
     "metadata": {},
     "output_type": "display_data"
    },
    {
     "data": {
      "image/png": "[encoded data removed]",
      "text/plain": [
       "<Figure size 432x288 with 1 Axes>"
      ]
     },
     "metadata": {},
     "output_type": "display_data"
    }
   ],
   "source": [
    "_,stats = scipy.stats.probplot(brand_1,plot=plt,)\n",
    "plt.title(\"Brand 1: Probability Plot\")\n",
    "plt.gca().legend((\"Samples\",f\"$R^2$: {stats[-1]**2:.3f}\"))\n",
    "plt.grid()\n",
    "plt.show()\n",
    "_,stats = scipy.stats.probplot(brand_2,plot=plt)\n",
    "plt.title(\"Brand 2: Probability Plot\")\n",
    "plt.gca().legend((\"Samples\",f\"$R^2$: {stats[-1]**2:.3f}\"))\n",
    "plt.grid()\n",
    "plt.show()"
   ]
  },
  {
   "cell_type": "markdown",
   "metadata": {},
   "source": [
    "Joskin ensimmäisen brändin kohdalla näytteet eivät sananmukaisesti halaa normaalijakaumaviivaa, ovat ne kuitenkin melko kauniisti asettuneet sen ympärille eikä hirmuisen suuresti poikkeavia arvoja löydy. Toisen brändin kohdalla arvot ovat ja melko hyvin normaalijakaumakäyrällä."
   ]
  },
  {
   "cell_type": "markdown",
   "metadata": {},
   "source": [
    "**B. Construct 95% confidence intervals on the means and standard deviations for the\n",
    "number of miles until tread wearout occurred for both brands.**"
   ]
  },
  {
   "cell_type": "markdown",
   "metadata": {},
   "source": [
    "Seuraavaksi jatketaan 95 % luottamusvälien laskennalla brändikohtaisille keskiarvoille ja -hajonnoille. Aloitetaan keskiarvoista. Näytteiden vähyyden vuoksi tässä kohdin turvaudutaan jo aiemmin tutuksi tulleseen bootstrap-menetelmään."
   ]
  },
  {
   "cell_type": "code",
   "execution_count": 17,
   "metadata": {},
   "outputs": [],
   "source": [
    "def bootstrap_t_values(samples):\n",
    "    samples_count = len(samples)\n",
    "    samples_mean = np.mean(samples)\n",
    "    samples_std = np.std(samples)\n",
    "\n",
    "    bootstrapped_ts = []\n",
    "    for i in range(1000):\n",
    "        bs_samples = [samples[np.random.randint(samples_count)] for i in range(samples_count)]\n",
    "        bs_t = (np.mean(bs_samples) - samples_mean)/(np.std(bs_samples)/np.sqrt(samples_count))\n",
    "        bootstrapped_ts.append(bs_t)\n",
    "    return sorted(bootstrapped_ts)\n",
    "\n",
    "brand_1_ts = bootstrap_t_values(brand_1)\n",
    "brand_2_ts = bootstrap_t_values(brand_2)"
   ]
  },
  {
   "cell_type": "markdown",
   "metadata": {},
   "source": [
    "Visualisoidaan tuotetut $t$-arvot histogrammein."
   ]
  },
  {
   "cell_type": "code",
   "execution_count": 18,
   "metadata": {},
   "outputs": [
    {
     "data": {
      "image/png": "[encoded data removed]",
      "text/plain": [
       "<Figure size 432x288 with 1 Axes>"
      ]
     },
     "metadata": {},
     "output_type": "display_data"
    }
   ],
   "source": [
    "plt.hist(brand_1_ts,bins=40,alpha=0.6,label='Brand 1')\n",
    "plt.hist(brand_2_ts,bins=40,alpha=0.6,label='Brand 2')\n",
    "plt.legend()\n",
    "plt.title(\"Histograms of bootstrapped $t$-values\")\n",
    "plt.xlabel(\"$t$-value\")\n",
    "plt.ylabel(\"Count\")\n",
    "plt.show()"
   ]
  },
  {
   "cell_type": "markdown",
   "metadata": {},
   "source": [
    "Jotain hienoista eroa on huomattavissa. Lasketaanpa seuraavaksi vaihteluvälit brändikohtaisesti."
   ]
  },
  {
   "cell_type": "code",
   "execution_count": 19,
   "metadata": {},
   "outputs": [
    {
     "name": "stdout",
     "output_type": "stream",
     "text": [
      "Brand 1: (37.488, 40.642)\n",
      "Brand 2: (36.545, 45.130)\n"
     ]
    }
   ],
   "source": [
    "def calculate_mean_ci(samples, bootstrapped_ts, alpha):\n",
    "    samples_count = len(samples)\n",
    "    samples_mean = np.mean(samples)\n",
    "    samples_std = np.std(samples)\n",
    "\n",
    "    t_low = bootstrapped_ts[int(len(bootstrapped_ts)*(0+alpha/2))]\n",
    "    t_high = bootstrapped_ts[int(len(bootstrapped_ts)*(1-alpha/2))]\n",
    "\n",
    "    interval_low = samples_mean+(t_low*samples_std/np.sqrt(samples_count))\n",
    "    interval_high = samples_mean+(t_high*samples_std/np.sqrt(samples_count))\n",
    "    \n",
    "    return (interval_low, interval_high)\n",
    "\n",
    "brand_1_mean_ci = calculate_mean_ci(brand_1, brand_1_ts, 0.05)\n",
    "brand_2_mean_ci = calculate_mean_ci(brand_2, brand_2_ts, 0.05)\n",
    "\n",
    "print(f\"Brand 1: ({brand_1_mean_ci[0]:.3f}, {brand_1_mean_ci[1]:.3f})\")\n",
    "print(f\"Brand 2: ({brand_2_mean_ci[0]:.3f}, {brand_2_mean_ci[1]:.3f})\")\n"
   ]
  },
  {
   "cell_type": "markdown",
   "metadata": {},
   "source": [
    "Seuraavaksi on vuorossa keskihajonnan vaihteluvälien selvitys. Koska molempien jakaumien kohdilla voidaan ensimmäiseen osioon nojaten tehdä oletus normaalijakautuneisuudesta (kirjassa on kutakuinkin yhtä heitteleviä kuvaajia nimetty normaalijakautuneiksi), edetään $\\chi^2$-pohjaisilla hajonnan vaihteluvälin selvitysmenetelmillä. Menetelmää varten vaadittavat suureet ovat\n",
    "\n",
    "$$\\alpha = 0.05$$\n",
    "$$ \\text{df}=9 $$\n",
    "$$ s_1 = 1.954 $$\n",
    "$$ s_2 = 5.579 $$\n",
    "\n",
    "Koska $\\chi^2$-raja-arvot ovat riippuvaisia vain $\\alpha$:sta ja vapausasteista, ne ovat\n",
    "\n",
    "$$\\chi^2_L=19.02 \\hspace{0.5cm}\\text{ja}\\hspace{0.5cm} \\chi^2_R=2.700 $$\n",
    "\n",
    "Lasketaan lopuksi vielä brändikohtaiset hajonnan vaihteluvälit näitä tietoja käyttäen."
   ]
  },
  {
   "cell_type": "code",
   "execution_count": 20,
   "metadata": {},
   "outputs": [
    {
     "name": "stdout",
     "output_type": "stream",
     "text": [
      "Brand 1: (1.344, 3.567)\n",
      "Brand 2: (3.838, 10.186)\n"
     ]
    }
   ],
   "source": [
    "df = 9\n",
    "s1 = 1.954\n",
    "s2 = 5.579\n",
    "chi2_left = 19.02\n",
    "chi2_right = 2.7\n",
    "\n",
    "calculate_std_ci = lambda s: (np.sqrt(df*s**2/chi2_left),np.sqrt(df*s**2/chi2_right))\n",
    "\n",
    "brand_1_std_ci = calculate_std_ci(s1)\n",
    "brand_2_std_ci = calculate_std_ci(s2)\n",
    "\n",
    "print(f\"Brand 1: ({brand_1_std_ci[0]:.3f}, {brand_1_std_ci[1]:.3f})\")\n",
    "print(f\"Brand 2: ({brand_2_std_ci[0]:.3f}, {brand_2_std_ci[1]:.3f})\")"
   ]
  },
  {
   "cell_type": "markdown",
   "metadata": {},
   "source": [
    "Lopputulos luottamusvälien kohdalla on siis seuraava:\n",
    "\n",
    "$$\\text{Brand 1}: \\text{CI}^{\\mu}_{95\\%}=(37.488, 40.642) \\hspace{0.5cm}\\text{ja}\\hspace{0.5cm} \\text{CI}^{\\sigma}_{95\\%}=(1.344, 3.567)$$\n",
    "$$\\text{Brand 2}: \\text{CI}^{\\mu}_{95\\%}=(36.545, 45.130) \\hspace{0.5cm}\\text{ja}\\hspace{0.5cm} \\text{CI}^{\\sigma}_{95\\%}=(3.838, 10.186)$$\n"
   ]
  },
  {
   "cell_type": "markdown",
   "metadata": {},
   "source": [
    "**C. Does there appear to be a difference in wear characteristics for the two brands? Justify\n",
    "your statement with appropriate plots of the data, tests of hypotheses, and confidence\n",
    "intervals.**"
   ]
  },
  {
   "cell_type": "markdown",
   "metadata": {},
   "source": [
    "Lopuksi tulee vielä vertailla brändien otoksia keskenään. Pelkästään luottamusvälien kohdalla voidaan todeta, että otosten populaatioiden kulumarajojen keskiarvot ovat samalla alueella. Ero tulee hajonnan suuruuksissa, jossa toisen brändin hajonnan luottamusvälin alaraja on suurempi, kuin esimmäisen brändin hajonnan luottamusvälin yläraja. Esitetäänpä tämä vielä kuvaajana."
   ]
  },
  {
   "cell_type": "code",
   "execution_count": 42,
   "metadata": {},
   "outputs": [
    {
     "data": {
      "image/png": "[encoded data removed]",
      "text/plain": [
       "<Figure size 432x288 with 1 Axes>"
      ]
     },
     "metadata": {},
     "output_type": "display_data"
    },
    {
     "data": {
      "image/png": "[encoded data removed]",
      "text/plain": [
       "<Figure size 432x288 with 1 Axes>"
      ]
     },
     "metadata": {},
     "output_type": "display_data"
    }
   ],
   "source": [
    "plt.plot((37.488, 40.642),(6,6),marker='o',label='Brand 1')\n",
    "plt.plot((36.545, 45.130),(4,4),marker='o',label='Brand 2')\n",
    "plt.ylim(0,10);plt.yticks([]);plt.legend()\n",
    "plt.title(\"Confidence Intervals of $\\mu$\")\n",
    "plt.show()\n",
    "\n",
    "plt.plot((1.344, 3.567),(6,6),marker='o',label='Brand 1')\n",
    "plt.plot((3.838, 10.186),(4,4),marker='o',label='Brand 2')\n",
    "plt.ylim(0,10);plt.yticks([]);plt.legend()\n",
    "plt.title(\"Confidence Intervals of $\\sigma$\")\n",
    "plt.show()"
   ]
  },
  {
   "cell_type": "markdown",
   "metadata": {},
   "source": [
    "> *Kommentti: Kommenttina vaan loppupäätelmistä että jos otokset ovat samankokoisia, en oikein näe että varianssien luottamusväleillä olisi paljon merkitystä vaan varianssit itse kertovat datan hajautuneisuuden.*\n",
    ">\n",
    "> **Vastaus**: Hajontahan tosiaan on molempiin suuntiin eikä siis vaikuta populaatioiden keskiarvon arviointiin tässä kohdin."
   ]
  },
  {
   "cell_type": "markdown",
   "metadata": {},
   "source": [
    "Kuten kuvaajista voi nähdä ja lasketuista hajontojen luottamusväleistä samoin todeta, ovat brändien hajonnat toisistaan täysin poikkeavat. Kuvaajien perusteella kuitenkin intuitiivisesti voitaisiin todeta, että kakkosbrändin keskiarvo voisi olla silti ensimmäistä brändiä korkeampi. Testataanpa tätä hypoteesiä. Kun $\\mu_1$ on ensimmäisen brändin keskiarvo ja $\\mu_2$ toisen, niin\n",
    "\n",
    "$$ \\text{df} = 9 $$\n",
    "$$ \\alpha = 5\\% $$\n",
    "\n",
    "$$ \\mu_2 \\rightarrow \\mu_0 $$\n",
    "$$ H_0 = \\mu_1 \\ge \\mu_0 $$\n",
    "$$ H_a = \\mu_1 < \\mu_0 $$\n",
    "\n",
    "Kyseessä on siis yksipuolinen testi. Aloitetaan katsomalla taulukosta $t$-arvon raja-arvo, joka on\n",
    "\n",
    "$$ t_\\alpha = 1.833 $$\n",
    "\n",
    "Jatketaan seuraavaksi ensimmäisen brändin laskennallisen $t$-arvon laskemisella."
   ]
  },
  {
   "cell_type": "code",
   "execution_count": 45,
   "metadata": {},
   "outputs": [
    {
     "data": {
      "text/plain": [
       "-3.206818654011671"
      ]
     },
     "execution_count": 45,
     "metadata": {},
     "output_type": "execute_result"
    }
   ],
   "source": [
    "mu_0 = np.mean(brand_2)\n",
    "brand_1_t = (np.mean(brand_1) - mu_0)/(np.std(brand_1)/np.sqrt(len(brand_1)))\n",
    "brand_1_t"
   ]
  },
  {
   "cell_type": "markdown",
   "metadata": {},
   "source": [
    "$$ t_1 \\approx -3.207 \\ll t_\\alpha $$"
   ]
  },
  {
   "cell_type": "markdown",
   "metadata": {},
   "source": [
    "Selvitetäänpä asiaa vielä toisesta näkökulmasta. Käännetään hypoteesit toisin päin siten, että testattavaa onkin toisen brändin keskiarvo.\n",
    "\n",
    "$$ \\mu_1 \\rightarrow \\mu_0 $$\n",
    "$$ H_0 = \\mu_2 \\le \\mu_0 $$\n",
    "$$ H_a = \\mu_2 > \\mu_0 $$\n",
    "\n",
    "Koska $t_\\alpha$ pysyy samana, voidaan $t_2$ laskea suoraan."
   ]
  },
  {
   "cell_type": "code",
   "execution_count": 46,
   "metadata": {},
   "outputs": [
    {
     "data": {
      "text/plain": [
       "1.1232321145693316"
      ]
     },
     "execution_count": 46,
     "metadata": {},
     "output_type": "execute_result"
    }
   ],
   "source": [
    "mu_0 = np.mean(brand_1)\n",
    "brand_2_t = (np.mean(brand_2) - mu_0)/(np.std(brand_2)/np.sqrt(len(brand_2)))\n",
    "brand_2_t"
   ]
  },
  {
   "cell_type": "markdown",
   "metadata": {},
   "source": [
    "$$ t_2 \\approx 1.123 < t_\\alpha $$"
   ]
  },
  {
   "cell_type": "markdown",
   "metadata": {},
   "source": [
    "Nollahypoteesiä ei kummassakaan tapauksessa voida ainakaan käytettävissä olevan datan perusteella hylätä. Toisin sanoen varmuutta siitä, onko toinen brändeistä merkittävästi toista parempi, ei voida saada. Jos jotain, voidaan se todeta, että ensimmäisen brändin laatu on tasaisempaa, kuin toisen."
   ]
  },
  {
   "cell_type": "markdown",
   "metadata": {},
   "source": [
    "## 8.06\n",
    "\n",
    "A large laboratory has four types of devices used to determine the pH of soil samples. The laboratory wants to determine whether there are differences in the average readings given by these devices. The lab uses 24 soil samples having known pH in the study, and randomly assigns six of the samples to each device. The soil samples are tested and the response recorded is the difference between the pH reading of the device and the known pH of the soil. These values, along with summary statistics, are given in the following table.\n",
    "\n",
    "| Device/Sample | 1     | 2     | 3     | 4     | 5     | 6     | Size | Mean   | Deviation |\n",
    "|---------------|-------|-------|-------|-------|-------|-------|------|--------|-----------|\n",
    "| A             | -.307 | -.294 | .079  | .019  | -.136 | -.324 | 6    | -.1605 | .1767     |\n",
    "| B             | -.176 | .125  | -.013 | .082  | .091  | .459  | 6    | .0947  | .2091     |\n",
    "| C             | .137  | -.063 | .240  | -.050 | .318  | .154  | 6    | .1227  | .1532     |\n",
    "| D             | -.042 | .690  | .201  | .166  | .219  | .407  | 6    | .2735  | .2492     |"
   ]
  },
  {
   "cell_type": "markdown",
   "metadata": {},
   "source": [
    "**A. Based on your intuition, is there evidence to indicate any difference among the mean\n",
    "differences in pH readings for the four devices?**"
   ]
  },
  {
   "cell_type": "markdown",
   "metadata": {},
   "source": [
    "Ensin tehtävänä on käyttää vain omaa intuitiota laitteiden välisten mittauserojen tarkasteluun. Tarkemmin sanottuna päätellä tulisi, että onko erot merkittäviä laitekohtaisten päätelmien tekemiseksi. Erotushan lasketaan tehtävänannossa \n",
    "\n",
    "$$\\text{pH}_\\text{true} - \\text{pH}_\\text{measured}$$\n",
    "\n",
    "- A: Laitteen keskiarvo ja hajonta huomioiden ei keskimäärin oikein mittaaminen ole ainakaan poissuljettu vaihtoehto. Se on kuitenkin todettava, että hajonnan ja keskiarvon absoluuttiset arvot ovat melko lähellä toisiaan, jolloin todennäköisintä voisi kuitenkin olla, että A yliarvioi lukemia.\n",
    "- B: Keskiarvon ja hajontojen absoluuttiset arvot eroavat siinä määrin toisistaan, että melko lähellä nollaa oleva keskiarvo voi hyvinkin kieliä totuudenmukaisemmasta mittaustuloksesta.\n",
    "- C: Tämän laitteen ongelmana on kutakuinkin sama, kuin laitteen A kohdalla. Keskiarvo ja hajonta huomoiden oikein mittaaminen on toki mahdollista, mutta ns. nollaerotus on hajonnan toisessa ääripäässä ennemmin kuin vankasti sen sisäpuolella. A-laitteeseen verrattuna tämä laite aliarvioi mittatulokset.\n",
    "- D: Laitteen keskiarvo ja hajonta ei sinällään salli mahdollisuutta nollaerotukselle, eli laite ainakin näiden tietojen pohjalta aliarvioi melko varmasti.\n",
    "\n",
    "Tehtävänannon hypoteeseiksi voidaan muodostaa seuraavat olettamat:\n",
    "\n",
    "$$ H_0 : \\text{Laitteiden mittausten keskiarvot ovat samat, eli } \\mu_1=\\mu_2=\\mu_3=\\mu_4 $$\n",
    "$$ H_a : \\text{Jokin laitteista eroaa muista} $$\n",
    "\n",
    "Näiden hypoteesien valossa näyttäisi intuitiivisesti siltä, että laitteissa on eroja ja nollahypoteesi tulisi hylätä.\n",
    "\n",
    "> *Kommentti: Eikö tämä mene päinvastoin kun nollahypoteesi on että keskiarvot ovat samoja?*\n",
    ">\n",
    "> **Vastaus**: Totta! Korjattu."
   ]
  },
  {
   "cell_type": "markdown",
   "metadata": {},
   "source": [
    "**B. Run an analysis of variance to confirm or reject your conclusion of part (a). Use $\\alpha = .05$.**"
   ]
  },
  {
   "cell_type": "markdown",
   "metadata": {},
   "source": [
    "Seuraavaksi on laskettava näiden neljän otoksen varianssianalyysi. Laskennassa hyödynnetään $F$-testiä."
   ]
  },
  {
   "cell_type": "code",
   "execution_count": 4,
   "metadata": {},
   "outputs": [
    {
     "data": {
      "text/html": [
       "<div>\n",
       "<style scoped>\n",
       "    .dataframe tbody tr th:only-of-type {\n",
       "        vertical-align: middle;\n",
       "    }\n",
       "\n",
       "    .dataframe tbody tr th {\n",
       "        vertical-align: top;\n",
       "    }\n",
       "\n",
       "    .dataframe thead th {\n",
       "        text-align: right;\n",
       "    }\n",
       "</style>\n",
       "<table border=\"1\" class=\"dataframe\">\n",
       "  <thead>\n",
       "    <tr style=\"text-align: right;\">\n",
       "      <th></th>\n",
       "      <th>A</th>\n",
       "      <th>B</th>\n",
       "      <th>C</th>\n",
       "      <th>D</th>\n",
       "    </tr>\n",
       "    <tr>\n",
       "      <th>Samples</th>\n",
       "      <th></th>\n",
       "      <th></th>\n",
       "      <th></th>\n",
       "      <th></th>\n",
       "    </tr>\n",
       "  </thead>\n",
       "  <tbody>\n",
       "    <tr>\n",
       "      <th>0</th>\n",
       "      <td>-0.307</td>\n",
       "      <td>-0.176</td>\n",
       "      <td>0.137</td>\n",
       "      <td>-0.042</td>\n",
       "    </tr>\n",
       "    <tr>\n",
       "      <th>1</th>\n",
       "      <td>-0.294</td>\n",
       "      <td>0.125</td>\n",
       "      <td>-0.063</td>\n",
       "      <td>0.690</td>\n",
       "    </tr>\n",
       "    <tr>\n",
       "      <th>2</th>\n",
       "      <td>0.079</td>\n",
       "      <td>-0.013</td>\n",
       "      <td>0.240</td>\n",
       "      <td>0.201</td>\n",
       "    </tr>\n",
       "    <tr>\n",
       "      <th>3</th>\n",
       "      <td>0.019</td>\n",
       "      <td>0.082</td>\n",
       "      <td>-0.050</td>\n",
       "      <td>0.166</td>\n",
       "    </tr>\n",
       "    <tr>\n",
       "      <th>4</th>\n",
       "      <td>-0.136</td>\n",
       "      <td>0.091</td>\n",
       "      <td>0.318</td>\n",
       "      <td>0.219</td>\n",
       "    </tr>\n",
       "    <tr>\n",
       "      <th>5</th>\n",
       "      <td>-0.324</td>\n",
       "      <td>0.459</td>\n",
       "      <td>0.154</td>\n",
       "      <td>0.407</td>\n",
       "    </tr>\n",
       "  </tbody>\n",
       "</table>\n",
       "</div>"
      ],
      "text/plain": [
       "             A      B      C      D\n",
       "Samples                            \n",
       "0       -0.307 -0.176  0.137 -0.042\n",
       "1       -0.294  0.125 -0.063  0.690\n",
       "2        0.079 -0.013  0.240  0.201\n",
       "3        0.019  0.082 -0.050  0.166\n",
       "4       -0.136  0.091  0.318  0.219\n",
       "5       -0.324  0.459  0.154  0.407"
      ]
     },
     "execution_count": 4,
     "metadata": {},
     "output_type": "execute_result"
    }
   ],
   "source": [
    "import matplotlib.pyplot as plt\n",
    "import numpy as np\n",
    "import pandas as pd\n",
    "import scipy.stats\n",
    "import seaborn as sns\n",
    "sns.set(style='dark')\n",
    "\n",
    "n = 6\n",
    "a = [-.307,-.294,.079,.019,-.136,-.324]\n",
    "b = [-.176,.125,-.013,.082,.091,.459]\n",
    "c = [.137,-.063,.240,-.050,.318,.154]\n",
    "d = [-.042,.690,.201,.166,.219,.407]\n",
    "\n",
    "samples = pd.DataFrame([a,b,c,d],index=['A','B','C','D']).T\n",
    "samples.index.name = 'Samples'\n",
    "samples"
   ]
  },
  {
   "cell_type": "markdown",
   "metadata": {},
   "source": [
    "Aloitetaan ensin normaalijakaumakuvaajien tuottamisella otoskohtaisesti."
   ]
  },
  {
   "cell_type": "code",
   "execution_count": 5,
   "metadata": {},
   "outputs": [
    {
     "data": {
      "image/png": "[encoded data removed]",
      "text/plain": [
       "<Figure size 432x288 with 1 Axes>"
      ]
     },
     "metadata": {},
     "output_type": "display_data"
    },
    {
     "data": {
      "image/png": "[encoded data removed]",
      "text/plain": [
       "<Figure size 432x288 with 1 Axes>"
      ]
     },
     "metadata": {},
     "output_type": "display_data"
    },
    {
     "data": {
      "image/png": "[encoded data removed]",
      "text/plain": [
       "<Figure size 432x288 with 1 Axes>"
      ]
     },
     "metadata": {},
     "output_type": "display_data"
    },
    {
     "data": {
      "image/png": "[encoded data removed]",
      "text/plain": [
       "<Figure size 432x288 with 1 Axes>"
      ]
     },
     "metadata": {},
     "output_type": "display_data"
    }
   ],
   "source": [
    "for key,value in {'A':a,'B':b,'C':c,'D':d}.items():\n",
    "    _,stats = scipy.stats.probplot(value,plot=plt,)\n",
    "    plt.title(f\"{key}: Probability Plot\")\n",
    "    plt.gca().legend((\"Samples\",f\"$R^2$: {stats[-1]**2:.3f}\"))\n",
    "    plt.show()"
   ]
  },
  {
   "cell_type": "markdown",
   "metadata": {},
   "source": [
    "Tehdäänpä otoksista myös laatikkojanakuvaajat."
   ]
  },
  {
   "cell_type": "code",
   "execution_count": 6,
   "metadata": {},
   "outputs": [
    {
     "data": {
      "image/png": "[encoded data removed]",
      "text/plain": [
       "<Figure size 432x288 with 1 Axes>"
      ]
     },
     "metadata": {},
     "output_type": "display_data"
    }
   ],
   "source": [
    "samples.plot.box()\n",
    "plt.title(\"Boxplots of Device samples\")\n",
    "plt.show()"
   ]
  },
  {
   "cell_type": "markdown",
   "metadata": {},
   "source": [
    "Koska kyseessä on pienet näytekoot, on melko epävarmojen kuvaajien lisäksi laskettava ja analysoitava residuaalit."
   ]
  },
  {
   "cell_type": "code",
   "execution_count": 7,
   "metadata": {},
   "outputs": [
    {
     "data": {
      "text/html": [
       "<div>\n",
       "<style scoped>\n",
       "    .dataframe tbody tr th:only-of-type {\n",
       "        vertical-align: middle;\n",
       "    }\n",
       "\n",
       "    .dataframe tbody tr th {\n",
       "        vertical-align: top;\n",
       "    }\n",
       "\n",
       "    .dataframe thead th {\n",
       "        text-align: right;\n",
       "    }\n",
       "</style>\n",
       "<table border=\"1\" class=\"dataframe\">\n",
       "  <thead>\n",
       "    <tr style=\"text-align: right;\">\n",
       "      <th></th>\n",
       "      <th>A</th>\n",
       "      <th>B</th>\n",
       "      <th>C</th>\n",
       "      <th>D</th>\n",
       "    </tr>\n",
       "    <tr>\n",
       "      <th>Residuals</th>\n",
       "      <th></th>\n",
       "      <th></th>\n",
       "      <th></th>\n",
       "      <th></th>\n",
       "    </tr>\n",
       "  </thead>\n",
       "  <tbody>\n",
       "    <tr>\n",
       "      <th>0</th>\n",
       "      <td>-0.1465</td>\n",
       "      <td>-0.270667</td>\n",
       "      <td>0.014333</td>\n",
       "      <td>-0.3155</td>\n",
       "    </tr>\n",
       "    <tr>\n",
       "      <th>1</th>\n",
       "      <td>-0.1335</td>\n",
       "      <td>0.030333</td>\n",
       "      <td>-0.185667</td>\n",
       "      <td>0.4165</td>\n",
       "    </tr>\n",
       "    <tr>\n",
       "      <th>2</th>\n",
       "      <td>0.2395</td>\n",
       "      <td>-0.107667</td>\n",
       "      <td>0.117333</td>\n",
       "      <td>-0.0725</td>\n",
       "    </tr>\n",
       "    <tr>\n",
       "      <th>3</th>\n",
       "      <td>0.1795</td>\n",
       "      <td>-0.012667</td>\n",
       "      <td>-0.172667</td>\n",
       "      <td>-0.1075</td>\n",
       "    </tr>\n",
       "    <tr>\n",
       "      <th>4</th>\n",
       "      <td>0.0245</td>\n",
       "      <td>-0.003667</td>\n",
       "      <td>0.195333</td>\n",
       "      <td>-0.0545</td>\n",
       "    </tr>\n",
       "    <tr>\n",
       "      <th>5</th>\n",
       "      <td>-0.1635</td>\n",
       "      <td>0.364333</td>\n",
       "      <td>0.031333</td>\n",
       "      <td>0.1335</td>\n",
       "    </tr>\n",
       "  </tbody>\n",
       "</table>\n",
       "</div>"
      ],
      "text/plain": [
       "                A         B         C       D\n",
       "Residuals                                    \n",
       "0         -0.1465 -0.270667  0.014333 -0.3155\n",
       "1         -0.1335  0.030333 -0.185667  0.4165\n",
       "2          0.2395 -0.107667  0.117333 -0.0725\n",
       "3          0.1795 -0.012667 -0.172667 -0.1075\n",
       "4          0.0245 -0.003667  0.195333 -0.0545\n",
       "5         -0.1635  0.364333  0.031333  0.1335"
      ]
     },
     "execution_count": 7,
     "metadata": {},
     "output_type": "execute_result"
    }
   ],
   "source": [
    "residuals = pd.DataFrame()\n",
    "for column in samples.columns:\n",
    "    residuals.loc[:,column] = samples.loc[:,column]-samples.loc[:,column].mean()\n",
    "residuals.index.name = 'Residuals'\n",
    "residuals"
   ]
  },
  {
   "cell_type": "code",
   "execution_count": 8,
   "metadata": {},
   "outputs": [
    {
     "data": {
      "image/png": "[encoded data removed]",
      "text/plain": [
       "<Figure size 432x288 with 1 Axes>"
      ]
     },
     "metadata": {},
     "output_type": "display_data"
    }
   ],
   "source": [
    "_,stats = scipy.stats.probplot(residuals.values.flatten(),plot=plt)\n",
    "plt.title(f\"Residuals Probability Plot\")\n",
    "plt.gca().legend((\"Samples\",f\"$R^2$: {stats[-1]**2:.3f}\"))\n",
    "plt.show()"
   ]
  },
  {
   "cell_type": "markdown",
   "metadata": {},
   "source": [
    "Lähtökohtaisesti voidaan todeta, että jokaisen otoksen kohdalla voidaan tehdä oletus normaalijakautuneisuudesta, sillä residuaalit näyttävät olevan normaalijakautuneita. Koska tehtävänantona on monen otoksen varianssianalyysi, otoksien näytteiden on myös oltava riippumattomia satunnaisnäytteitä yhdenmukaisen varianssin omaavista populaatiosta. Näin on, tehtävänantoon nojaten. \n",
    "\n",
    "> *Kommentti: tässä näyttäisi olevan ongelmia. Tehtävä noudattaa käsittääkseni kirjan esimerkkiä 8.3. SSW ja SSB on mielestäni jaettu väärillä luvuilla (SSW pitäisi jakaa kaikkien näytteiden lukumäärällä – 1 ja SSB vastaavasti yhden ryhmän).*\n",
    ">\n",
    "> **Vastaus**: Totta. Kirja sivulta 410 löytyi kaavat ja olen nähtävästi sekoittanut jakajat keskenään. Korjattu ja laskettu uudelleen."
   ]
  },
  {
   "cell_type": "markdown",
   "metadata": {},
   "source": [
    "Lasketaan seuraavaksi likimääräinen arvio otosten varianssista $s^2_W$ käyttäen näytteen neliösummaa $\\text{SSW}$."
   ]
  },
  {
   "cell_type": "code",
   "execution_count": 9,
   "metadata": {},
   "outputs": [
    {
     "data": {
      "text/plain": [
       "0.8028956666666667"
      ]
     },
     "execution_count": 9,
     "metadata": {},
     "output_type": "execute_result"
    }
   ],
   "source": [
    "ssw = 0\n",
    "for sample in [a,b,c,d]:\n",
    "    ssw += sum([(v-np.mean(sample))**2 for v in sample])\n",
    "ssw"
   ]
  },
  {
   "cell_type": "markdown",
   "metadata": {},
   "source": [
    "$$ \\text{SSW} \\approx 0.803 $$"
   ]
  },
  {
   "cell_type": "code",
   "execution_count": 10,
   "metadata": {},
   "outputs": [
    {
     "data": {
      "text/plain": [
       "0.040144783333333336"
      ]
     },
     "execution_count": 10,
     "metadata": {},
     "output_type": "execute_result"
    }
   ],
   "source": [
    "within_samples = ssw / 20\n",
    "within_samples"
   ]
  },
  {
   "cell_type": "markdown",
   "metadata": {},
   "source": [
    "$$ n_T = \\text{näytteiden määrä} = 24 $$\n",
    "$$ t = \\text{otosten määrä} = 4 $$"
   ]
  },
  {
   "cell_type": "markdown",
   "metadata": {},
   "source": [
    "$$s^2_W = \\frac{\\text{SSW}}{n_t-t} \\approx .040 $$"
   ]
  },
  {
   "cell_type": "markdown",
   "metadata": {},
   "source": [
    "$F$-testiä varten on myös laskettava $s^2_B$, joka on otosten keskiarvojen varianssin mitta."
   ]
  },
  {
   "cell_type": "code",
   "execution_count": 11,
   "metadata": {},
   "outputs": [
    {
     "data": {
      "text/plain": [
       "0.5837481666666666"
      ]
     },
     "execution_count": 11,
     "metadata": {},
     "output_type": "execute_result"
    }
   ],
   "source": [
    "samples_mean = np.mean([a,b,c,d])\n",
    "ssb = 0\n",
    "for sample in [a,b,c,d]:\n",
    "    ssb += n*(np.mean(sample) - samples_mean)**2\n",
    "ssb"
   ]
  },
  {
   "cell_type": "markdown",
   "metadata": {},
   "source": [
    "$$ \\text{SSB} \\approx .584$$"
   ]
  },
  {
   "cell_type": "code",
   "execution_count": 12,
   "metadata": {},
   "outputs": [
    {
     "data": {
      "text/plain": [
       "0.1945827222222222"
      ]
     },
     "execution_count": 12,
     "metadata": {},
     "output_type": "execute_result"
    }
   ],
   "source": [
    "between_samples = ssb/3\n",
    "between_samples"
   ]
  },
  {
   "cell_type": "markdown",
   "metadata": {},
   "source": [
    "$$ s^2_B = \\frac{\\text{SSB}}{t-1} \\approx .195 $$"
   ]
  },
  {
   "cell_type": "code",
   "execution_count": 13,
   "metadata": {},
   "outputs": [
    {
     "data": {
      "text/plain": [
       "4.847023848816111"
      ]
     },
     "execution_count": 13,
     "metadata": {},
     "output_type": "execute_result"
    }
   ],
   "source": [
    "f_test = between_samples / within_samples\n",
    "f_test"
   ]
  },
  {
   "cell_type": "markdown",
   "metadata": {},
   "source": [
    "$$ F = \\frac{s^2_B}{s^2_W} \\approx 4.847 $$"
   ]
  },
  {
   "cell_type": "markdown",
   "metadata": {},
   "source": [
    "Mikäli $F$-testin arvo ylittää taulukoidun raja-arvon suhteessa $\\alpha$-arvoon sekä kahteen neliösummien jakajana toimineeseen vapausasteiden määrään nähden, on nollahypoteesi otosten keskiarvojen samankaltaisuudesta hylättävä."
   ]
  },
  {
   "cell_type": "markdown",
   "metadata": {},
   "source": [
    "$$ F_{\\alpha,\\text{df}_1,\\text{df}_2} = F_{.05,3,23} = 3.03 < F$$"
   ]
  },
  {
   "cell_type": "markdown",
   "metadata": {},
   "source": [
    "Nollahypoteesi tulee siis hylätä."
   ]
  },
  {
   "cell_type": "markdown",
   "metadata": {},
   "source": [
    "**C. Compute the p-value of the F test in part (b).**"
   ]
  },
  {
   "cell_type": "markdown",
   "metadata": {},
   "source": [
    "Taulukkoja käytettäessä on testin $p$-arvo jälleen haarukoitava. $F$-testin tulos haarukoituu käytetyillä vapausasteilla väliin\n",
    "\n",
    "$$ F_{.01,3,23} = 4.76 < F < F_{.005,3,23} = 5.58 $$\n",
    "\n",
    "Toisin sanoen testin $p$-arvo on\n",
    "\n",
    "$$ 0.005 < p < 0.01 $$"
   ]
  },
  {
   "cell_type": "markdown",
   "metadata": {},
   "source": [
    "**D. What conditions must be satisfied for your analysis in parts (b) and (c) to be valid?**"
   ]
  },
  {
   "cell_type": "markdown",
   "metadata": {},
   "source": [
    "Nämä mainittiinkin jo edeltävässä tehtävässä ja todennettiinkin, mutta\n",
    "\n",
    "1. Normaalijakaumaoletuksen on pädettävä otoksiin\n",
    "2. Näytteiden on oltava satunnaisesti nostettuja ja riippumattomia.\n",
    "3. Näytteistetyn populaation varianssin on oltava sama kautta otosten.\n",
    "\n",
    "(1) todennettiin normaalijakaumakuvaajilla ja (2-3) tehtävänannon tekstiin nojaten."
   ]
  },
  {
   "cell_type": "markdown",
   "metadata": {},
   "source": [
    "**E. Suppose the 24 soil samples have widely different pH values. What problems may\n",
    "occur by simply randomly assigning the soil samples to the different devices?**"
   ]
  },
  {
   "cell_type": "markdown",
   "metadata": {},
   "source": [
    "Otokset voisivat näyttää merkittävästi varianssin osalta soisitaan eroavilta, jolloin esimerkiksi $F$-testin tekemisellä ei saataisi luotettavia tuloksia keskiarvojen samankaltaisuuden arviointiin."
   ]
  },
  {
   "cell_type": "markdown",
   "metadata": {},
   "source": [
    "## 9.12\n",
    "\n",
    "Refer to Exercise 7.20. \n",
    "\n",
    "> A wildlife biologist was interested in determining the effect of raising deer in captivity on the size of the deer. She decided to consider three populations: deer raised in the wild, deer raised on large hunting ranches, and deer raised in zoos. She randomly selected eight deer in each of the three environments and weighed the deer at age 1 year. The weights (in pounds) are given in the following table.\n",
    "\n",
    "| Wild        | 114.7 | 128.9 | 111.5 | 116.4 | 134.5 | 126.7 | 120.6 | 129.59 |\n",
    "|-------------|-------|-------|-------|-------|-------|-------|-------|--------|\n",
    "| Ranch       | 120.4 | 91.0  | 119.6 | 119.4 | 150.0 | 169.7 | 100.9 | 76.1   |\n",
    "| Zoo         | 103.1 | 90.7  | 129.5 | 75.8  | 182.5 | 76.8  | 87.3  | 77.3   |\n",
    "\n",
    "The wildlife biologist was interested in determining if the mean weights of deer raised in a zoo would be lower than those from a more uncontrolled environment, for example, either from the wild or raised on a ranch. "
   ]
  },
  {
   "cell_type": "markdown",
   "metadata": {},
   "source": [
    "**A. Use a multiple comparison procedure to determine if the mean weight of the deer raised in the wild or on a ranch is significantly higher than the mean weight of deer raised in a zoo.**"
   ]
  },
  {
   "cell_type": "code",
   "execution_count": 1,
   "metadata": {},
   "outputs": [
    {
     "data": {
      "text/html": [
       "<div>\n",
       "<style scoped>\n",
       "    .dataframe tbody tr th:only-of-type {\n",
       "        vertical-align: middle;\n",
       "    }\n",
       "\n",
       "    .dataframe tbody tr th {\n",
       "        vertical-align: top;\n",
       "    }\n",
       "\n",
       "    .dataframe thead th {\n",
       "        text-align: right;\n",
       "    }\n",
       "</style>\n",
       "<table border=\"1\" class=\"dataframe\">\n",
       "  <thead>\n",
       "    <tr style=\"text-align: right;\">\n",
       "      <th></th>\n",
       "      <th>Wild</th>\n",
       "      <th>Ranch</th>\n",
       "      <th>Zoo</th>\n",
       "    </tr>\n",
       "    <tr>\n",
       "      <th>Samples</th>\n",
       "      <th></th>\n",
       "      <th></th>\n",
       "      <th></th>\n",
       "    </tr>\n",
       "  </thead>\n",
       "  <tbody>\n",
       "    <tr>\n",
       "      <th>0</th>\n",
       "      <td>114.70</td>\n",
       "      <td>120.4</td>\n",
       "      <td>103.1</td>\n",
       "    </tr>\n",
       "    <tr>\n",
       "      <th>1</th>\n",
       "      <td>128.90</td>\n",
       "      <td>91.0</td>\n",
       "      <td>90.7</td>\n",
       "    </tr>\n",
       "    <tr>\n",
       "      <th>2</th>\n",
       "      <td>111.50</td>\n",
       "      <td>119.6</td>\n",
       "      <td>129.5</td>\n",
       "    </tr>\n",
       "    <tr>\n",
       "      <th>3</th>\n",
       "      <td>116.40</td>\n",
       "      <td>119.4</td>\n",
       "      <td>75.8</td>\n",
       "    </tr>\n",
       "    <tr>\n",
       "      <th>4</th>\n",
       "      <td>134.50</td>\n",
       "      <td>150.0</td>\n",
       "      <td>182.5</td>\n",
       "    </tr>\n",
       "    <tr>\n",
       "      <th>5</th>\n",
       "      <td>126.70</td>\n",
       "      <td>169.7</td>\n",
       "      <td>76.8</td>\n",
       "    </tr>\n",
       "    <tr>\n",
       "      <th>6</th>\n",
       "      <td>120.60</td>\n",
       "      <td>100.9</td>\n",
       "      <td>87.3</td>\n",
       "    </tr>\n",
       "    <tr>\n",
       "      <th>7</th>\n",
       "      <td>129.59</td>\n",
       "      <td>76.1</td>\n",
       "      <td>77.3</td>\n",
       "    </tr>\n",
       "  </tbody>\n",
       "</table>\n",
       "</div>"
      ],
      "text/plain": [
       "           Wild  Ranch    Zoo\n",
       "Samples                      \n",
       "0        114.70  120.4  103.1\n",
       "1        128.90   91.0   90.7\n",
       "2        111.50  119.6  129.5\n",
       "3        116.40  119.4   75.8\n",
       "4        134.50  150.0  182.5\n",
       "5        126.70  169.7   76.8\n",
       "6        120.60  100.9   87.3\n",
       "7        129.59   76.1   77.3"
      ]
     },
     "execution_count": 1,
     "metadata": {},
     "output_type": "execute_result"
    }
   ],
   "source": [
    "import matplotlib.pyplot as plt\n",
    "import numpy as np\n",
    "import pandas as pd\n",
    "import scipy.stats\n",
    "import seaborn as sns\n",
    "sns.set(style='dark')\n",
    "\n",
    "wild = [114.7,128.9,111.5,116.4,134.5,126.7,120.6,129.59]\n",
    "ranch = [120.4,91.0 ,119.6,119.4,150.0,169.7,100.9,76.1]\n",
    "zoo = [103.1,90.7 ,129.5,75.8 ,182.5,76.8 ,87.3 ,77.3]\n",
    "\n",
    "samples = pd.DataFrame([wild,ranch,zoo],index=['Wild','Ranch','Zoo']).T\n",
    "samples.index.name = 'Samples'\n",
    "samples"
   ]
  },
  {
   "cell_type": "markdown",
   "metadata": {},
   "source": [
    "Aivan ensimmäiseksi aloitetaan toistaiseksi tuntemattoman datan visualisoinnilla."
   ]
  },
  {
   "cell_type": "code",
   "execution_count": 2,
   "metadata": {},
   "outputs": [
    {
     "data": {
      "image/png": "[encoded data removed]",
      "text/plain": [
       "<Figure size 432x288 with 1 Axes>"
      ]
     },
     "metadata": {
      "needs_background": "light"
     },
     "output_type": "display_data"
    }
   ],
   "source": [
    "samples.plot.box()\n",
    "plt.title(\"Boxplots of Deer Samples\")\n",
    "plt.show()"
   ]
  },
  {
   "cell_type": "markdown",
   "metadata": {},
   "source": [
    "Luonnossa ja tiloilla kasvaneiden peurojen painot näyttävät jakautuvan normaalisti, kun taas eläintarhan painot ovat epänormaalisti jakautuneita. Jatketaan Kruskal-Wallisin testin vaatimalla arvojen järjestämisellä. Tätä varten näytteet asetetaan yhteen riviin siten, että näytteet identifioidaan tunnistettavasti."
   ]
  },
  {
   "cell_type": "code",
   "execution_count": 3,
   "metadata": {},
   "outputs": [
    {
     "data": {
      "text/plain": [
       "       Samples\n",
       "Wild   0          11.0\n",
       "       1          18.0\n",
       "       2          10.0\n",
       "       3          12.0\n",
       "       4          21.0\n",
       "       5          17.0\n",
       "       6          16.0\n",
       "       7          20.0\n",
       "Ranch  0          15.0\n",
       "       1           7.0\n",
       "       2          14.0\n",
       "       3          13.0\n",
       "       4          22.0\n",
       "       5          23.0\n",
       "       6           8.0\n",
       "       7           2.0\n",
       "Zoo    0           9.0\n",
       "       1           6.0\n",
       "       2          19.0\n",
       "       3           1.0\n",
       "       4          24.0\n",
       "       5           3.0\n",
       "       6           5.0\n",
       "       7           4.0\n",
       "dtype: float64"
      ]
     },
     "execution_count": 3,
     "metadata": {},
     "output_type": "execute_result"
    }
   ],
   "source": [
    "rankings = pd.concat((samples.loc[:, 'Wild'],\n",
    "                      samples.loc[:, 'Ranch'],\n",
    "                      samples.loc[:, 'Zoo']),\n",
    "                     keys=['Wild', 'Ranch', 'Zoo']).rank()\n",
    "rankings"
   ]
  },
  {
   "cell_type": "markdown",
   "metadata": {},
   "source": [
    "Lasketaanpa seuraavaksi otoskohtaiset sijoitussummat."
   ]
  },
  {
   "cell_type": "code",
   "execution_count": 4,
   "metadata": {},
   "outputs": [
    {
     "data": {
      "text/plain": [
       "(125.0, 104.0, 71.0)"
      ]
     },
     "execution_count": 4,
     "metadata": {},
     "output_type": "execute_result"
    }
   ],
   "source": [
    "ranksum_wild = rankings.loc['Wild',:].sum()\n",
    "ranksum_ranch = rankings.loc['Ranch',:].sum()\n",
    "ranksum_zoo = rankings.loc['Zoo',:].sum()\n",
    "ranksums = (ranksum_wild,ranksum_ranch,ranksum_zoo)\n",
    "ranksums"
   ]
  },
  {
   "cell_type": "markdown",
   "metadata": {},
   "source": [
    "Sijoitussummat ovat seuraavat:\n",
    "\n",
    "$$T_\\text{Wild} = 125$$\n",
    "$$T_\\text{Ranch} = 104$$\n",
    "$$T_\\text{Zoo} = 71$$\n",
    "\n",
    "Varmistetaan myös kaiken varalta, ettei sijoituksissa ole jaettuja sijoja."
   ]
  },
  {
   "cell_type": "code",
   "execution_count": 5,
   "metadata": {},
   "outputs": [
    {
     "data": {
      "text/plain": [
       "True"
      ]
     },
     "execution_count": 5,
     "metadata": {},
     "output_type": "execute_result"
    }
   ],
   "source": [
    "rankings.unique().size == rankings.size"
   ]
  },
  {
   "cell_type": "markdown",
   "metadata": {},
   "source": [
    "Ei ole. Eli voidaan jatkaa eteenpäin testisuureen $H$ laskennassa käyttäen kaavaa\n",
    "\n",
    "$$ H = \\frac{12}{n_T(n_T+1)}\\sum_i\\frac{T^2_i}{n_i}-3(n_T+1)$$\n",
    "\n",
    "jossa\n",
    "\n",
    "$$n_T: \\text{Näytteiden kokonaismäärä } = 24$$\n",
    "$$n_i: \\text{Otoksen näytteiden määrä } = 8 \\text{ (vakio)}$$\n",
    "$$T_i: \\text{Otoksen sijoitusten summa }$$"
   ]
  },
  {
   "cell_type": "code",
   "execution_count": 6,
   "metadata": {},
   "outputs": [
    {
     "data": {
      "text/plain": [
       "3.7049999999999983"
      ]
     },
     "execution_count": 6,
     "metadata": {},
     "output_type": "execute_result"
    }
   ],
   "source": [
    "h_test = 12/(24*25)*sum([(ranksum**2/8) for ranksum in ranksums])-3*25\n",
    "h_test"
   ]
  },
  {
   "cell_type": "markdown",
   "metadata": {},
   "source": [
    "$$H \\approx 3.705$$"
   ]
  },
  {
   "cell_type": "markdown",
   "metadata": {},
   "source": [
    "Käyttämällä myöhemmässä osatehtävässä määritettyä arvoa $\\alpha = .05$ ja otosten määrästä johdettua arvoa $\\text{df} = k-1 = 2$, määritetään seuraavaksi, että voidaanko nollahypoteesiä \n",
    "\n",
    "$$ H_0: \\text{Jakaumat ovat identtisiä} $$\n",
    "\n",
    "hylätä. Taulukosta lukien kriittinen raja\n",
    "\n",
    "$$ H_\\alpha = 5.991 > H$$\n",
    "\n",
    "Siispä *dataan pohjaavia perusteita nollahypoteesin hylkäykseen pelkän Kruskal-Wallisin testin perusteella ei ole*. Tämän testin tulos on kuitenkin hieman epäilyttävä, ja todennäköistä on, että ``Zoo``-otoksesta löytyvä räikeä poikkeama sotkee testin."
   ]
  },
  {
   "cell_type": "markdown",
   "metadata": {},
   "source": [
    "**B. Write a linear contrast to compare the average weight of deer raised in a zoo or on a ranch to the mean weight of deer raised in the wild.**"
   ]
  },
  {
   "cell_type": "markdown",
   "metadata": {},
   "source": [
    "Aloitetaan tunnuslukujen selvittämisellä."
   ]
  },
  {
   "cell_type": "code",
   "execution_count": 11,
   "metadata": {},
   "outputs": [
    {
     "data": {
      "text/html": [
       "<div>\n",
       "<style scoped>\n",
       "    .dataframe tbody tr th:only-of-type {\n",
       "        vertical-align: middle;\n",
       "    }\n",
       "\n",
       "    .dataframe tbody tr th {\n",
       "        vertical-align: top;\n",
       "    }\n",
       "\n",
       "    .dataframe thead th {\n",
       "        text-align: right;\n",
       "    }\n",
       "</style>\n",
       "<table border=\"1\" class=\"dataframe\">\n",
       "  <thead>\n",
       "    <tr style=\"text-align: right;\">\n",
       "      <th></th>\n",
       "      <th>Wild</th>\n",
       "      <th>Ranch</th>\n",
       "      <th>Zoo</th>\n",
       "    </tr>\n",
       "  </thead>\n",
       "  <tbody>\n",
       "    <tr>\n",
       "      <th>count</th>\n",
       "      <td>8.000</td>\n",
       "      <td>8.000</td>\n",
       "      <td>8.000</td>\n",
       "    </tr>\n",
       "    <tr>\n",
       "      <th>mean</th>\n",
       "      <td>122.861</td>\n",
       "      <td>118.387</td>\n",
       "      <td>102.875</td>\n",
       "    </tr>\n",
       "    <tr>\n",
       "      <th>std</th>\n",
       "      <td>8.233</td>\n",
       "      <td>30.433</td>\n",
       "      <td>36.853</td>\n",
       "    </tr>\n",
       "  </tbody>\n",
       "</table>\n",
       "</div>"
      ],
      "text/plain": [
       "         Wild   Ranch     Zoo\n",
       "count   8.000   8.000   8.000\n",
       "mean  122.861 118.387 102.875\n",
       "std     8.233  30.433  36.853"
      ]
     },
     "execution_count": 11,
     "metadata": {},
     "output_type": "execute_result"
    }
   ],
   "source": [
    "pd.options.display.float_format = '{:.3f}'.format\n",
    "samples.describe().loc[('count','mean','std'),:]"
   ]
  },
  {
   "cell_type": "markdown",
   "metadata": {},
   "source": [
    "Muodostetaan seuraavaksi neliösummalaskennat peuraotosten vertailuun. Vertailtavana on kolme populaatiota, joista kahta verrataan yhteen vuorollaan (näin tehtävänannosta ymmärsin). Laskettavat kontrastit ovat siis\n",
    "\n",
    "- ``Wild`` vs. ``Zoo``\n",
    "- ``Ranch`` vs. ``Zoo``"
   ]
  },
  {
   "cell_type": "markdown",
   "metadata": {},
   "source": [
    "Lasketaanpa seuraavaksi varsinaiset kontrastit."
   ]
  },
  {
   "cell_type": "code",
   "execution_count": 49,
   "metadata": {},
   "outputs": [
    {
     "name": "stdout",
     "output_type": "stream",
     "text": [
      "19.99, 15.51\n"
     ]
    }
   ],
   "source": [
    "l_wild_vs_zoo = samples['Wild'].mean() - samples['Zoo'].mean()\n",
    "l_ranch_vs_zoo = samples['Ranch'].mean() - samples['Zoo'].mean()\n",
    "print(f\"{l_wild_vs_zoo:2.2f}, {l_ranch_vs_zoo:2.2f}\")"
   ]
  },
  {
   "cell_type": "code",
   "execution_count": 60,
   "metadata": {},
   "outputs": [
    {
     "name": "stdout",
     "output_type": "stream",
     "text": [
      "1598, 962.6\n"
     ]
    }
   ],
   "source": [
    "n = 8\n",
    "ssc_wild_vs_zoo = 8*l_wild_vs_zoo**2/2\n",
    "ssc_ranch_vs_zoo = 8*l_ranch_vs_zoo**2/2\n",
    "print(f\"{ssc_wild_vs_zoo:.0f}, {ssc_ranch_vs_zoo:.1f}\")"
   ]
  },
  {
   "cell_type": "markdown",
   "metadata": {},
   "source": [
    "| Contrast      | $a_\\text{Wild}$ | $a_\\text{Ranch}$ | $a_\\text{Zoo}$ | $\\sum a^2_t$ | $\\hat{l}$ | $\\text{SSC}_t$ |\n",
    "|---------------|-----------------|------------------|----------------|--------------|-----------|----------------|\n",
    "| Wild vs Zoo   | 1               | 0                | -1             | 2            | 19.99     | 1598           |\n",
    "| Ranch vs. Zoo | 0               | 1                | -1             | 2            | 15.51     | 962.6          |"
   ]
  },
  {
   "cell_type": "markdown",
   "metadata": {},
   "source": [
    "Tarkistetaan seuraavaksi, ovatko lasketut lineaarikontrastit toisilleen vastakkaisia."
   ]
  },
  {
   "cell_type": "markdown",
   "metadata": {},
   "source": [
    "$$\\hat{l}_1 \\text{ ja } \\hat{l}_2 = (1)(0) + (0)(1) + (-1)(-1) = 1 $$ "
   ]
  },
  {
   "cell_type": "markdown",
   "metadata": {},
   "source": [
    "Kontrastit eivät ole vastakkaisia, eli ne selittävät jotain toisistaan ja ovat täten jossain määrin riippuvaisia toisistaan. Tämä on toisaalta ymmärrettävää, sillä kummassakin kontrastissa esiintyy ``Zoo``."
   ]
  },
  {
   "cell_type": "markdown",
   "metadata": {},
   "source": [
    "**C. Test at the $\\alpha = .05$ level if your contrast in (b) is significantly different from zero. What conclusions can you make from this test?**"
   ]
  },
  {
   "cell_type": "markdown",
   "metadata": {},
   "source": [
    "Lopuksi lasketaan vielä kummankin kontrastin nollasta eroavuuden merkitsevyys käyttämällä $F$-testiä."
   ]
  },
  {
   "cell_type": "code",
   "execution_count": 57,
   "metadata": {},
   "outputs": [
    {
     "name": "stdout",
     "output_type": "stream",
     "text": [
      "16464\n"
     ]
    }
   ],
   "source": [
    "ssw = sum([sum([(v-sample.mean())**2 for v in sample]) for key,sample in samples.T.iterrows()])\n",
    "print(f\"{ssw:.0f}\")"
   ]
  },
  {
   "cell_type": "code",
   "execution_count": 58,
   "metadata": {},
   "outputs": [
    {
     "name": "stdout",
     "output_type": "stream",
     "text": [
      "0.0970, 0.0585\n"
     ]
    }
   ],
   "source": [
    "f_wild_vs_zoo = ssc_wild_vs_zoo/ssw\n",
    "f_ranch_vs_zoo = ssc_ranch_vs_zoo/ssw\n",
    "print(f\"{f_wild_vs_zoo:.4f}, {f_ranch_vs_zoo:.4f}\")"
   ]
  },
  {
   "cell_type": "markdown",
   "metadata": {},
   "source": [
    "$$ F_\\text{Wild vs. Zoo} = \\frac{\\text{SSC}_\\text{Wild vs. Zoo}}{s^2_W} = \\frac{1598}{16464} = .0970$$\n",
    "$$ F_\\text{Ranch vs. Zoo} = \\frac{\\text{SSC}_\\text{Ranch vs. Zoo}}{s^2_W} = \\frac{962.6}{16464} = .0585$$"
   ]
  },
  {
   "cell_type": "markdown",
   "metadata": {},
   "source": [
    "Kun $\\alpha=.05$, $\\text{df}_1 = 1$ ja $\\text{df}_2 = n_T - t = 24 - 3 = 21$ saadaan $F$-testin raja-arvoksi\n",
    "\n",
    "$$ F_{.05, 1, 21} = 4.32 \\gg (.0970, .0585) $$\n",
    "\n",
    "Tähän tietoon nojaten voidaan todeta, kummankaan lineaarikontrastin kohdalla ei voida nollahypoteesiä hylätä. Kummassakin tapauksessa lineaarikontrastit eroavat liian vähän nollasta, jolloin ne toisin sanoen ovat siis liian samankaltaisia. Tässä kohdin on kuitenkin palattava jo ensimmäsen osan havaintoon ``Zoo``-otoksen poikkeavasta arvosta, joka vaikuttaa sekä otoksen keskiarvoon että hajontaan. Näytteiden vähyyden vuoksi perusteita poikkeavan havainnon poistamiseen ei kuitenkaan mielestäni ole. "
   ]
  },
  {
   "cell_type": "markdown",
   "metadata": {},
   "source": [
    "## 10.06\n",
    "\n",
    "The test was developed in the 1980s for screening donated blood for the presence of HIV. The test is designed to detect antibodies, substances produced in the body of donors carrying the virus; however, the test is not 100% accurate. The developer of the test claimed that the test would produce fewer than 5% false positives and fewer than 1% false negatives. In order to evaluate the accuracy of the test, 1,000 persons known to have HIV and 10,000 persons known to not have HIV were given the test. The following results were tabulated:\n",
    "\n",
    "| Test Result   | Has HIV | Does Not Have HIV | Total |\n",
    "|---------------|---------|-------------------|-------|\n",
    "| Positive Test | 993     | 591               | 1584  |\n",
    "| Negative Test | 7       | 9409              | 9416  |\n",
    "| Total         | 1000    | 10000             | 11000 |"
   ]
  },
  {
   "cell_type": "markdown",
   "metadata": {},
   "source": [
    "**A. Place a 95% confidence interval on the proportion of false positives produced by the test.**"
   ]
  },
  {
   "cell_type": "code",
   "execution_count": 15,
   "metadata": {},
   "outputs": [
    {
     "data": {
      "text/plain": [
       "11000"
      ]
     },
     "execution_count": 15,
     "metadata": {},
     "output_type": "execute_result"
    }
   ],
   "source": [
    "import matplotlib.pyplot as plt\n",
    "import numpy as np\n",
    "import pandas as pd\n",
    "import scipy.stats\n",
    "import seaborn as sns\n",
    "sns.set(style='dark')\n",
    "\n",
    "true_pos = 993\n",
    "false_pos = 591\n",
    "false_neg = 7\n",
    "true_neg = 9409\n",
    "\n",
    "total_pos = true_pos+false_neg\n",
    "total_neg = false_pos+true_neg\n",
    "total = total_pos+total_neg\n",
    "total"
   ]
  },
  {
   "cell_type": "markdown",
   "metadata": {},
   "source": [
    "Tehtävänä on siis selvittää, mikä on väärien positiivisten testitulosten todennäköisyysden luottamusväli. Luottamusvälin laskennassa lähdetään siis siitä, että kirjan notaatioon nojaten\n",
    "\n",
    "$$ y = n_{(\\text{ Testi positiivinen} \\hspace{0.1cm}\\mid\\hspace{0.1cm} \\text{Ei HI-virusta })} $$"
   ]
  },
  {
   "cell_type": "code",
   "execution_count": 20,
   "metadata": {},
   "outputs": [
    {
     "data": {
      "text/plain": [
       "(591, 11000, 0.05372727272727273)"
      ]
     },
     "execution_count": 20,
     "metadata": {},
     "output_type": "execute_result"
    }
   ],
   "source": [
    "y = false_pos\n",
    "n = total\n",
    "pi = y/n\n",
    "y, n, pi"
   ]
  },
  {
   "cell_type": "markdown",
   "metadata": {},
   "source": [
    "$$y=591$$\n",
    "$$n=11000$$\n",
    "$$\\hat{\\pi}=.0537$$"
   ]
  },
  {
   "cell_type": "markdown",
   "metadata": {},
   "source": [
    "> *Kommentti: kysymyksiä herätti FP-tapausten käsitteleminen erillisinä eli että onko oikeutettu jakaa 591/11000 tai pitäisikö ottaa jotenkin huomioon myös TP-tapaukset. En löytänyt vastaavaa casea kirjasta, joten mennään tällä. Toiseksi, kirjan kappaleen 10.2 alussa on kaksi tapaa arvioida luottamusväliä; olet käyttänyt ns. tavallista tapaa, mutta koska pi on aika pieni, olisi ehkä pitänyt käyttää WAC CI:tä?*\n",
    ">\n",
    "> **Vastaus**: Kirjan sivulla 502 itseasiassa minitaankin, että mikäli näytteitä on vähän ja/tai $\\pi < .2$ tai $\\pi > .8$, tulisi normaalin Wald-luottamusvälin sijasta laskea WAC-luottamusväli. Korjataan siis!"
   ]
  },
  {
   "cell_type": "markdown",
   "metadata": {},
   "source": [
    "WAC-luottamusvälin laskentaa varten on aivan ensimmäiseksi selvitettävä $z_{\\alpha/2}$. Koska luottamusväliksi oli määritetty $.95$, on\n",
    "\n",
    "$$ \\alpha = 1 - .95 = .05 $$\n",
    "\n",
    "Tällöin kirjan merkintätapaa mukaillen\n",
    "\n",
    "$$ z_{\\alpha/2} = z_{.025} = -1.96 $$\n",
    "\n",
    "Esimerkkejä lukien oikea tapa selvittää $z$ olisi kuitenkin ilmeisesti käyttää taulukosta luettavana arvona $1-(\\alpha/2)$, sillä esimerkin 10.1 mukaan $.90$ luottamusvälillä $\\alpha=.10$ ja vastaavasti taulukosta on luettu $z_{\\alpha/2}=1.645$. Kyseisen arvon tuottava taulukkoarvo on $.950$. Siispä laskuissa oikeasti käytetyksi odotettava $z$-arvo onkin\n",
    "\n",
    "$$ z_{1-\\alpha/2} = z_{.975} = 1.96 $$\n",
    "\n",
    "Seuraavaksi lasketaan korjatut arvot $\\tilde{y}$, $\\tilde{n}$ ja $\\tilde{\\pi}$."
   ]
  },
  {
   "cell_type": "code",
   "execution_count": 17,
   "metadata": {},
   "outputs": [
    {
     "data": {
      "text/plain": [
       "(592.9208, 11003.8416, 0.0538830729806216)"
      ]
     },
     "execution_count": 17,
     "metadata": {},
     "output_type": "execute_result"
    }
   ],
   "source": [
    "z = 1.96\n",
    "y_adjusted = y+0.5*z**2\n",
    "n_adjusted = n+z**2\n",
    "pi_adjusted = y_adjusted/n_adjusted\n",
    "\n",
    "y_adjusted,n_adjusted, pi_adjusted"
   ]
  },
  {
   "cell_type": "markdown",
   "metadata": {},
   "source": [
    "$$\\tilde{y} = 592.9$$\n",
    "$$\\tilde{n} = 11003$$\n",
    "$$\\tilde{\\pi} = .0539 $$"
   ]
  },
  {
   "cell_type": "markdown",
   "metadata": {},
   "source": [
    "Korjattuja arvoja käyttäen voidaan sitten laskea keskiarvon luottamusväli (s. 502 laatikko)."
   ]
  },
  {
   "cell_type": "code",
   "execution_count": 22,
   "metadata": {},
   "outputs": [
    {
     "name": "stdout",
     "output_type": "stream",
     "text": [
      "0.0497, 0.0581\n"
     ]
    }
   ],
   "source": [
    "interval = z * np.sqrt((pi_adjusted*(1-pi_adjusted)) / n_adjusted)\n",
    "y_ci_low = pi_adjusted - interval\n",
    "y_ci_high = pi_adjusted + interval\n",
    "\n",
    "print(f\"{y_ci_low:.4f}, {y_ci_high:.4f}\")"
   ]
  },
  {
   "cell_type": "markdown",
   "metadata": {},
   "source": [
    "$$ \\text{CI}^\\text{FP}_{95\\%} = [.0497, .0581] $$"
   ]
  },
  {
   "cell_type": "markdown",
   "metadata": {},
   "source": [
    "**B. Is there substantial evidence ($\\alpha = .05$) that the test produces less than 5% false\n",
    "positives?**"
   ]
  },
  {
   "cell_type": "markdown",
   "metadata": {},
   "source": [
    "Vaikka otoksen keskiarvo on suurempi, kuin luvattu \"pienempi kuin 5%\", keskiarvon 95 % luottamusvälillä tätä mahdollisuutta ei voida rajata pois. Se on tosin sanottava, että luvattu minimisuorituskyky on luottamusvälin alarajan tuntumassa."
   ]
  },
  {
   "cell_type": "markdown",
   "metadata": {},
   "source": [
    "## 11.01\n",
    "\n",
    "Plot the data shown here in a scatter diagram and sketch a line through the points.\n",
    "\n",
    "| x | 5  | 10 | 15 | 20 | 25 | 30 |\n",
    "|---|----|----|----|----|----|----|\n",
    "| y | 14 | 28 | 43 | 62 | 79 | 87 |"
   ]
  },
  {
   "cell_type": "code",
   "execution_count": 145,
   "metadata": {},
   "outputs": [],
   "source": [
    "import matplotlib.pyplot as plt\n",
    "import numpy as np\n",
    "import pandas as pd\n",
    "import scipy.stats\n",
    "import seaborn as sns\n",
    "sns.set(style='dark')\n",
    "\n",
    "x = [5,10,15,20,25,30]\n",
    "y = [14,28,43,62,79,87]"
   ]
  },
  {
   "cell_type": "markdown",
   "metadata": {},
   "source": [
    "Aloitetaan pistekuvaajan piirtämisellä."
   ]
  },
  {
   "cell_type": "code",
   "execution_count": 146,
   "metadata": {},
   "outputs": [
    {
     "data": {
      "image/png": "[encoded data removed]",
      "text/plain": [
       "<Figure size 432x288 with 1 Axes>"
      ]
     },
     "metadata": {},
     "output_type": "display_data"
    }
   ],
   "source": [
    "plt.scatter(x,y)\n",
    "plt.xlabel(\"x\")\n",
    "plt.ylabel(\"y\")\n",
    "plt.show()"
   ]
  },
  {
   "cell_type": "markdown",
   "metadata": {},
   "source": [
    "Aloitetaan piirtämäällä yksinkertainen suora pisteiden läpi käyttämällä pienimpien neliövirheiden menetelmää. Sen laskentaa varten meidän on selvitettävä termit $\\hat{\\beta}_0$ ja $\\hat{\\beta}_1$. \n",
    "\n",
    "$$ \\hat{\\beta}_0 = \\bar{y} - \\hat{\\beta}_1\\bar{x} $$\n",
    "$$ \\hat{\\beta}_1 = \\frac{S_{xy}}{S_{xx}} $$\n",
    "$$ S_{xy} = \\sum_i(x_i-\\bar{x})(y_i-\\bar{y}) $$\n",
    "$$ S_{xx} = \\sum_i(x_i-\\bar{x})^2 $$"
   ]
  },
  {
   "cell_type": "code",
   "execution_count": 147,
   "metadata": {},
   "outputs": [
    {
     "name": "stdout",
     "output_type": "stream",
     "text": [
      "S_xy = 1342.5\n",
      "S_xx = 437.5\n",
      "Beta_0 = -1.533\n",
      "Beta_1 = 3.069\n"
     ]
    }
   ],
   "source": [
    "x_mean = np.mean(x)\n",
    "y_mean = np.mean(y)\n",
    "\n",
    "s_xx = sum([(x_i-x_mean)**2 for x_i in x])\n",
    "s_xy = sum([(x_i-x_mean)*(y_i-y_mean) for x_i, y_i in zip(x,y)])\n",
    "    \n",
    "print(f\"S_xy = {s_xy}\")\n",
    "print(f\"S_xx = {s_xx}\")\n",
    "\n",
    "beta_1 = s_xy/s_xx\n",
    "beta_0 = y_mean - beta_1*x_mean\n",
    "print(f\"Beta_0 = {beta_0:.3f}\")\n",
    "print(f\"Beta_1 = {beta_1:.3f}\")"
   ]
  },
  {
   "cell_type": "markdown",
   "metadata": {},
   "source": [
    "$$ \\hat{\\beta}_0 = -1.533 $$\n",
    "$$ \\hat{\\beta}_1 = 3.069 $$\n",
    "\n",
    "Kulmakerroin on siis sovitetusta lineaarimallista lukien n. kolme. Visualisoidaanpa seuraavaksi opittu lineaarimalli suhteessa dataan."
   ]
  },
  {
   "cell_type": "code",
   "execution_count": 148,
   "metadata": {},
   "outputs": [
    {
     "data": {
      "image/png": "[encoded data removed]",
      "text/plain": [
       "<Figure size 432x288 with 1 Axes>"
      ]
     },
     "metadata": {},
     "output_type": "display_data"
    }
   ],
   "source": [
    "least_squares = lambda x: beta_0 + beta_1 * x\n",
    "y_hat = list(map(least_squares, x))\n",
    "plt.plot(x,y_hat,label='LeastSquares',color='darkorange')\n",
    "for x_i, y_i, y_hat_i in zip(x,y,y_hat):\n",
    "    plt.plot([x_i,x_i],[y_i,y_hat_i],color='royalblue')\n",
    "plt.scatter(x,y,label='Data',color='royalblue')\n",
    "plt.legend()\n",
    "plt.show()"
   ]
  },
  {
   "cell_type": "markdown",
   "metadata": {},
   "source": [
    "Piirretään tämän lisäksi myös sovitetun mallin residuaalit."
   ]
  },
  {
   "cell_type": "code",
   "execution_count": 152,
   "metadata": {},
   "outputs": [
    {
     "data": {
      "image/png": "[encoded data removed]",
      "text/plain": [
       "<Figure size 432x288 with 1 Axes>"
      ]
     },
     "metadata": {},
     "output_type": "display_data"
    }
   ],
   "source": [
    "residuals = [y_i-y_hat_i for y_i, y_hat_i in zip(y,y_hat)]\n",
    "residuals_mean = np.mean(residuals)\n",
    "plt.plot([x[0],x[-1]],[residuals_mean,residuals_mean],label=\"Mean Error\")\n",
    "plt.scatter(x,residuals,label=\"Residuals\")\n",
    "plt.legend()\n",
    "plt.show()"
   ]
  },
  {
   "cell_type": "markdown",
   "metadata": {},
   "source": [
    "Residuaaleista lukien näyttäisi siltä, että arvojen kasvaessa myös mallin ennustekyky alkaisi heiketä. Kolmannen asteen funktio voisi tavoittaa pisteet huomattavasti tarkemmin, kuin nyt käytetty ensimmäisen asteen funktio."
   ]
  },
  {
   "cell_type": "markdown",
   "metadata": {},
   "source": [
    "## 12.08\n",
    "\n",
    "A pharmaceutical firm would like to obtain information on the relationship between the dose level and potency of a drug product. To do this, each of 15 test tubes is inoculated with a virus culture and incubated for 5 days at 30° C. Three test tubes are randomly assigned to each of the five different dose levels to be investigated (2, 4, 8, 16, and 32 mg). Each tube is injected with only one dose level and the response of interest (a measure of the protective strength of the product against the virus culture) is obtained. The data are given here.\n",
    "\n",
    "| Dose Level | Response |\n",
    "|------------|----------|\n",
    "| 2          | 5,7,3    |\n",
    "| 4          | 10,12,14 |\n",
    "| 8          | 15,17,18 |\n",
    "| 16         | 20,21,19 |\n",
    "| 32         | 23,24,29 |"
   ]
  },
  {
   "cell_type": "markdown",
   "metadata": {},
   "source": [
    "**A. Plot the data.**"
   ]
  },
  {
   "cell_type": "code",
   "execution_count": 27,
   "metadata": {},
   "outputs": [],
   "source": [
    "import matplotlib.pyplot as plt\n",
    "import numpy as np\n",
    "import pandas as pd\n",
    "import scipy.stats\n",
    "import seaborn as sns\n",
    "sns.set(style='dark')\n",
    "\n",
    "doses = [2, 4, 8, 16, 32]\n",
    "responses = [[5, 7, 3],\n",
    "             [10, 12, 13],\n",
    "             [15, 17, 18],\n",
    "             [20, 21, 19],\n",
    "             [23, 24, 29]]"
   ]
  },
  {
   "cell_type": "markdown",
   "metadata": {},
   "source": [
    "Rakennetaanpa ensin selkeämpi ``(x,y)``-parinen näytejoukko."
   ]
  },
  {
   "cell_type": "code",
   "execution_count": 28,
   "metadata": {},
   "outputs": [],
   "source": [
    "build_dose_responses = lambda x,ys: [(x,y) for y in ys]\n",
    "samples = []\n",
    "for dose_responses in list(map(build_dose_responses, doses, responses)):\n",
    "    samples += list(dose_responses)\n",
    "x, y = list(zip(*samples))"
   ]
  },
  {
   "cell_type": "markdown",
   "metadata": {},
   "source": [
    "Seuraavaksi visualisoidaan data."
   ]
  },
  {
   "cell_type": "code",
   "execution_count": 29,
   "metadata": {},
   "outputs": [
    {
     "data": {
      "image/png": "[encoded data removed]",
      "text/plain": [
       "<Figure size 432x288 with 1 Axes>"
      ]
     },
     "metadata": {},
     "output_type": "display_data"
    }
   ],
   "source": [
    "plt.scatter(x,y)\n",
    "plt.xlabel(\"Dose\")\n",
    "plt.ylabel(\"Response\")\n",
    "plt.show()"
   ]
  },
  {
   "cell_type": "markdown",
   "metadata": {},
   "source": [
    "**B. Fit a linear regression model to these data.**"
   ]
  },
  {
   "cell_type": "markdown",
   "metadata": {},
   "source": [
    "Tämän jälkeen koitetaan sovittaa dataan lineearimalli. Aloitetaan sen kertoimien laskennasta."
   ]
  },
  {
   "cell_type": "code",
   "execution_count": 30,
   "metadata": {},
   "outputs": [
    {
     "name": "stdout",
     "output_type": "stream",
     "text": [
      "S_xy = 1035.6\n",
      "S_xx = 1785.6\n",
      "Beta_0 = 8.542\n",
      "Beta_1 = 0.580\n"
     ]
    }
   ],
   "source": [
    "x_mean = np.mean(x)\n",
    "y_mean = np.mean(y)\n",
    "\n",
    "s_xx = sum([(x_i-x_mean)**2 for x_i in x])\n",
    "s_xy = sum([(x_i-x_mean)*(y_i-y_mean) for x_i, y_i in zip(x,y)])\n",
    "    \n",
    "print(f\"S_xy = {s_xy:.1f}\")\n",
    "print(f\"S_xx = {s_xx:.1f}\")\n",
    "\n",
    "beta_1 = s_xy/s_xx\n",
    "beta_0 = y_mean - beta_1*x_mean\n",
    "print(f\"Beta_0 = {beta_0:.3f}\")\n",
    "print(f\"Beta_1 = {beta_1:.3f}\")"
   ]
  },
  {
   "cell_type": "markdown",
   "metadata": {},
   "source": [
    "$$ \\hat{\\beta}_0 = 8.542 $$\n",
    "$$ \\hat{\\beta}_1 = 0.580 $$\n",
    "\n",
    "Visualisoidaanpa seuraavaksi opittu lineaarimalli suhteessa dataan."
   ]
  },
  {
   "cell_type": "code",
   "execution_count": 31,
   "metadata": {},
   "outputs": [
    {
     "data": {
      "image/png": "[encoded data removed]",
      "text/plain": [
       "<Figure size 432x288 with 1 Axes>"
      ]
     },
     "metadata": {},
     "output_type": "display_data"
    }
   ],
   "source": [
    "least_squares = lambda x: beta_0 + beta_1 * x\n",
    "y_hat = list(map(least_squares, x))\n",
    "plt.plot(x,y_hat,label='LeastSquares',color='darkorange')\n",
    "for x_i, y_i, y_hat_i in zip(x,y,y_hat):\n",
    "    plt.plot([x_i,x_i],[y_i,y_hat_i],color='royalblue')\n",
    "plt.scatter(x,y,label='Data',color='royalblue')\n",
    "plt.legend()\n",
    "plt.show()"
   ]
  },
  {
   "cell_type": "markdown",
   "metadata": {},
   "source": [
    "Piirretään tämän lisäksi myös sovitetun mallin residuaalit."
   ]
  },
  {
   "cell_type": "code",
   "execution_count": 32,
   "metadata": {
    "scrolled": true
   },
   "outputs": [
    {
     "data": {
      "image/png": "[encoded data removed]",
      "text/plain": [
       "<Figure size 432x288 with 1 Axes>"
      ]
     },
     "metadata": {},
     "output_type": "display_data"
    }
   ],
   "source": [
    "residuals = [y_i-y_hat_i for y_i, y_hat_i in zip(y,y_hat)]\n",
    "residuals_mean = np.mean(residuals)\n",
    "plt.plot([x[0],x[-1]],[residuals_mean,residuals_mean],label=\"Mean Error\")\n",
    "plt.scatter(x,residuals,label=\"Residuals\")\n",
    "plt.legend()\n",
    "plt.show()"
   ]
  },
  {
   "cell_type": "markdown",
   "metadata": {},
   "source": [
    "Yksinkertainen lineaarimalli ei oikein näyttäisi istuvan käytettyyn dataan."
   ]
  },
  {
   "cell_type": "markdown",
   "metadata": {},
   "source": [
    "**C. What other regression model might be appropriate?**"
   ]
  },
  {
   "cell_type": "markdown",
   "metadata": {},
   "source": [
    "Silmämääräisesti näyttäisikin ennemmin siltä, että esimerkiksi nollan kautta hyperbolinen funktio voisi sovittua dataan parhaiten. Esimerkiksi epälineaarinen\n",
    "\n",
    "$$ y = \\beta_1\\tanh{(x)} + \\epsilon $$\n",
    "\n",
    "voisi muotonsa puolesta soveltua havaintojen mallintamiseen hyvin. Samoin myös logaritminen kuvaaja."
   ]
  },
  {
   "cell_type": "markdown",
   "metadata": {},
   "source": [
    "**D. SAS computer output is shown for both a linear and quadratic regression equation. Which regression equation appears to fit the data better? Why?**"
   ]
  },
  {
   "cell_type": "markdown",
   "metadata": {},
   "source": [
    "Silmämääräisesti kuvaajat näyttäisivät siltä, että toisen asteen funktio sopii dataan paremmin tuottaen magnitudiltaan pienempiä residuaaleja. Analyysin tulokset ovat kootusti seuraavat:\n",
    "\n",
    "| Metric   | Linear | Quadratic |\n",
    "|----------|--------|-----------|\n",
    "| Root MSE | 3.653  | 2.747     |\n",
    "| R-square | .7730  | .8815     |"
   ]
  },
  {
   "cell_type": "markdown",
   "metadata": {},
   "source": [
    "Näiden arvojen valossa toisen asteen funktio näyttäisi olevan kahdesta parempi. Mikäli varianssianalyysin tuloksia $F$- ja $p$-arvojen osalta kuitenkin tulkitsen oikein, niin molemmat mallit hylätään näytteitä kuvaavina.\n",
    "\n",
    "> *Kommentti: mistä päättelet, että mallit hylätään? Miten voisi vertailla malleja?*\n",
    ">\n",
    "> **Vastaus**: Tässä kohdin päätelmä oli ennemmin arvaus. Yritetäänpä siis vielä.\n",
    "\n",
    "Piirretäänpä kuitenkin vielä mallien ennusteet kuvaajiin ja arvioidaan tuloksia silmämääräisesti."
   ]
  },
  {
   "cell_type": "code",
   "execution_count": 33,
   "metadata": {},
   "outputs": [
    {
     "data": {
      "image/png": "[encoded data removed]",
      "text/plain": [
       "<Figure size 432x288 with 1 Axes>"
      ]
     },
     "metadata": {},
     "output_type": "display_data"
    }
   ],
   "source": [
    "linear_preds = [\n",
    "    9.8172, \n",
    "    10.9677,\n",
    "    13.2688,\n",
    "    17.8710,\n",
    "    27.0753,\n",
    "]\n",
    "quadratic_preds = [\n",
    "    7.3884,\n",
    "    10.0772,\n",
    "    14.8071,\n",
    "    21.6762,\n",
    "    25.0512,\n",
    "]\n",
    "doses = [2,4,8,16,32]\n",
    "plt.scatter(x,y,label='data')\n",
    "plt.plot(doses, linear_preds, label='linear_preds')\n",
    "plt.plot(doses, quadratic_preds, label='quadratic_preds')\n",
    "plt.legend()\n",
    "plt.grid()\n",
    "plt.show()"
   ]
  },
  {
   "cell_type": "markdown",
   "metadata": {},
   "source": [
    "Silmämääräisesti molemmat mallit näyttäisivät kuitenkin sovittuvan dataan edes jotenkuten, toisen asteen funktio kenties paremmin. Mikäli $F$- ja $p$-arvojen sijasta katsotaankin esimerkiksi mallien $R^2$-arvoa, selittää lineaarimalli $77.3\\%$ ja toisen asteen malli $88.2\\%$ datan varianssista. Näin tarkasteltuna näistä malleista toisen asteen malli sopisi dataan paremmin."
   ]
  },
  {
   "cell_type": "markdown",
   "metadata": {},
   "source": [
    "## 13.08\n",
    "\n",
    "The cotton aphid is pale to dark green in cool seasons and yellow in hot, dry summers. Generally distributed throughout temperate, subtropic, and tropic zones, the cotton aphid occurs in all cotton-producing areas of the world. These insects congregate on lower leaf surfaces and on terminal buds, extracting plant sap. If weather is cool during the spring, populations of natural enemies will be slow in building up and heavy infestations of aphids may result. When this occurs, leaves begin to curl and pucker; seedling plants become stunted and may die. Most aphid damage is of this type. If honeydew resulting from late season aphid infestations falls onto open cotton, it can act as a growing medium for sooty mold. Cotton stained by this black fungus is reduced in quality and brings a low price for the grower. Entomologists studied the aphids to determine weather conditions which may result in increased aphid density on cotton plants. The following data were reported in Statistics and Data Analysis (2005) by Peck, Olson, and Devore and come from an extensive study as reported in the article, “Estimation of the economic threshold of infestation for cotton aphid,” Mesopotamia Journal of Agriculture (1982): 71–75. In the following table,\n",
    "\n",
    "$$ y = \\text{infestation rate (aphids/100 leaves)} $$\n",
    "$$ x_1 = \\text{mean temperature (C)} $$\n",
    "$$ x_2 = \\text{mean relative humidity} $$\n",
    "\n",
    "| Field | y   | x1   | x2   | Field | y   | x1   | x2   |\n",
    "|-------|-----|------|------|-------|-----|------|------|\n",
    "| 1     | 61  | 21.0 | 57.0 | 18    | 25  | 33.5 | 18.5 |\n",
    "| 2     | 77  | 24.8 | 48.0 | 19    | 67  | 33.0 | 24.5 |\n",
    "| 3     | 87  | 28.3 | 41.5 | 20    | 40  | 34.5 | 16.0 |\n",
    "| 4     | 93  | 26.0 | 56.0 | 21    | 6   | 34.3 | 6.0  |\n",
    "| 5     | 98  | 27.5 | 58.0 | 22    | 21  | 34.3 | 26.0 |\n",
    "| 6     | 100 | 27.1 | 31.0 | 23    | 18  | 33.0 | 21.0 |\n",
    "| 7     | 104 | 26.8 | 36.5 | 24    | 23  | 26.5 | 26.0 |\n",
    "| 8     | 118 | 29.0 | 41.0 | 25    | 42  | 32.0 | 28.0 |\n",
    "| 9     | 102 | 28.3 | 40.0 | 26    | 56  | 27.3 | 24.5 |\n",
    "| 10    | 74  | 34.0 | 25.0 | 27    | 60  | 27.8 | 39.0 |\n",
    "| 11    | 63  | 30.5 | 34.0 | 28    | 59  | 25.8 | 29.0 |\n",
    "| 12    | 43  | 28.3 | 13.0 | 29    | 82  | 25.0 | 41.0 |\n",
    "| 13    | 27  | 30.8 | 37.0 | 30    | 89  | 18.5 | 53.5 |\n",
    "| 14    | 19  | 31.0 | 19.0 | 31    | 77  | 26.0 | 51.0 |\n",
    "| 15    | 14  | 33.6 | 20.0 | 32    | 102 | 19.0 | 48.0 |\n",
    "| 16    | 23  | 31.8 | 17.0 | 33    | 108 | 18.0 | 70.0 |\n",
    "| 17    | 30  | 31.3 | 21.0 | 34    | 97  | 16.3 | 79.5 |"
   ]
  },
  {
   "cell_type": "markdown",
   "metadata": {},
   "source": [
    "**A. Fit the model $ y = \\beta_0 + \\beta_1 x_1 + \\beta_2 x_2 + \\epsilon $ to the aphid data.**"
   ]
  },
  {
   "cell_type": "code",
   "execution_count": 120,
   "metadata": {},
   "outputs": [],
   "source": [
    "import matplotlib.pyplot as plt\n",
    "import numpy as np\n",
    "import pandas as pd\n",
    "import scipy.stats\n",
    "import seaborn as sns\n",
    "sns.set(style='dark')"
   ]
  },
  {
   "cell_type": "markdown",
   "metadata": {},
   "source": [
    "Ensin tehtävänä on sovittaa malliin määritetty kahden muuttujan lineaarifunktio. Aloitetaan datan kokoamisella käsiteltävään muotoon."
   ]
  },
  {
   "cell_type": "code",
   "execution_count": 158,
   "metadata": {},
   "outputs": [],
   "source": [
    "data = np.array([\n",
    "    [1,61,21.0,57.0],\n",
    "    [2,77,24.8,48.0],\n",
    "    [3,87,28.3,41.5],\n",
    "    [4,93,26.0,56.0],\n",
    "    [5,98,27.5,58.0],\n",
    "    [6,100,27.1,31.0],\n",
    "    [7,104,26.8,36.5],\n",
    "    [8,118,29.0,41.0],\n",
    "    [9,102,28.3,40.0],\n",
    "    [10,74,34.0,25.0],\n",
    "    [11,63,30.5,34.0],\n",
    "    [12,43,28.3,13.0],\n",
    "    [13,27,30.8,37.0],\n",
    "    [14,19,31.0,19.0],\n",
    "    [15,14,33.6,20.0],\n",
    "    [16,23,31.8,17.0],\n",
    "    [17,30,31.3,21.0],\n",
    "    [18,25,33.5,18.5],\n",
    "    [19,67,33.0,24.5],\n",
    "    [20,40,34.5,16.0],\n",
    "    [21,6,34.3,6.0],\n",
    "    [22,21,34.3,26.0],\n",
    "    [23,18,33.0,21.0],\n",
    "    [24,23,26.5,26.0],\n",
    "    [25,42,32.0,28.0],\n",
    "    [26,56,27.3,24.5],\n",
    "    [27,60,27.8,39.0],\n",
    "    [28,59,25.8,29.0],\n",
    "    [29,82,25.0,41.0],\n",
    "    [30,89,18.5,53.5],\n",
    "    [31,77,26.0,51.0],\n",
    "    [32,102,19.0,48.0],\n",
    "    [33,108,18.0,70.0],\n",
    "    [34,97,16.3,79.5]])\n",
    "fields, y, x1, x2 = data[:,0],data[:,1],data[:,2],data[:,3]"
   ]
  },
  {
   "cell_type": "markdown",
   "metadata": {},
   "source": [
    "Koska tähän mennessä on jo kertaalleen implementoitu yksi lineaarimalli käsin, käytetään tässä kohdin helpompaa valmista implementaatiota. Yksi *least squares* implementaatio löytyy ``sklearn``-kirjastosta ``linear_model``-moduulista. Käytetään sitä, mutta visualisoidaan nyt dataa kuitenkin ensin."
   ]
  },
  {
   "cell_type": "code",
   "execution_count": 145,
   "metadata": {},
   "outputs": [
    {
     "data": {
      "image/png": "[encoded data removed]",
      "text/plain": [
       "<Figure size 432x288 with 2 Axes>"
      ]
     },
     "metadata": {},
     "output_type": "display_data"
    }
   ],
   "source": [
    "fig = plt.scatter(x1,x2,c=y,cmap='viridis')\n",
    "plt.colorbar(fig)\n",
    "plt.title(\"True values\")\n",
    "plt.show()"
   ]
  },
  {
   "cell_type": "code",
   "execution_count": 152,
   "metadata": {},
   "outputs": [
    {
     "data": {
      "text/plain": [
       "(array([-0.67645365,  1.28113633]), 35.82546961324263)"
      ]
     },
     "execution_count": 152,
     "metadata": {},
     "output_type": "execute_result"
    }
   ],
   "source": [
    "from sklearn.linear_model import LinearRegression\n",
    "X = list(zip(x1,x2))\n",
    "model = LinearRegression()\n",
    "model.fit(X=X,y=y)\n",
    "model.coef_, model.intercept_"
   ]
  },
  {
   "cell_type": "markdown",
   "metadata": {},
   "source": [
    "Muodostetaanpa vielä mallilla ennusteet ja visualisoidaan ne."
   ]
  },
  {
   "cell_type": "code",
   "execution_count": 153,
   "metadata": {},
   "outputs": [
    {
     "data": {
      "image/png": "[encoded data removed]",
      "text/plain": [
       "<Figure size 432x288 with 2 Axes>"
      ]
     },
     "metadata": {},
     "output_type": "display_data"
    }
   ],
   "source": [
    "y_pred = model.predict(X)\n",
    "fig = plt.scatter(x1,x2,c=y_pred,cmap='viridis')\n",
    "plt.colorbar(fig)\n",
    "plt.title(\"Predicted values\")\n",
    "plt.show()"
   ]
  },
  {
   "cell_type": "markdown",
   "metadata": {},
   "source": [
    "Koulutettu malli on seuraava:"
   ]
  },
  {
   "cell_type": "markdown",
   "metadata": {},
   "source": [
    "$$ \\hat{y} = 35.825 + (-.6765)x_1 + 1.281x_2 $$"
   ]
  },
  {
   "cell_type": "markdown",
   "metadata": {},
   "source": [
    "Selvitetäänpä vielä mallin $R^2$-arvo."
   ]
  },
  {
   "cell_type": "code",
   "execution_count": 156,
   "metadata": {},
   "outputs": [
    {
     "data": {
      "text/plain": [
       "0.550017827004868"
      ]
     },
     "execution_count": 156,
     "metadata": {},
     "output_type": "execute_result"
    }
   ],
   "source": [
    "from sklearn.metrics import r2_score\n",
    "r2_score(y,y_pred)"
   ]
  },
  {
   "cell_type": "markdown",
   "metadata": {},
   "source": [
    "$$ R^2 = 0.550 $$"
   ]
  },
  {
   "cell_type": "markdown",
   "metadata": {},
   "source": [
    "**B. Use residual plots, test of hypotheses, and other diagnostic statistics to identify possible\n",
    "additional terms to add to the model fit in part (a).**"
   ]
  },
  {
   "cell_type": "markdown",
   "metadata": {},
   "source": [
    "Aloitetaan tämä tehtävä muodostamalla ensin residuaalit."
   ]
  },
  {
   "cell_type": "code",
   "execution_count": 160,
   "metadata": {},
   "outputs": [
    {
     "data": {
      "image/png": "[encoded data removed]",
      "text/plain": [
       "<Figure size 432x288 with 1 Axes>"
      ]
     },
     "metadata": {},
     "output_type": "display_data"
    },
    {
     "data": {
      "image/png": "[encoded data removed]",
      "text/plain": [
       "<Figure size 432x288 with 1 Axes>"
      ]
     },
     "metadata": {},
     "output_type": "display_data"
    }
   ],
   "source": [
    "residuals = y_pred - y\n",
    "\n",
    "plt.bar(fields,residuals,label='Residuals')\n",
    "plt.plot([fields[0],fields[-1]],[residuals.mean(),residuals.mean()],\n",
    "         label='$\\mu_{Residuals}$')\n",
    "plt.title(\"Residual deviations from zero\")\n",
    "plt.legend()\n",
    "plt.show()\n",
    "\n",
    "plt.hist(residuals,bins=6)\n",
    "plt.title(\"Residual histogram\")\n",
    "plt.show()"
   ]
  },
  {
   "cell_type": "markdown",
   "metadata": {},
   "source": [
    "Kuvaajista lukien residuaalit eivät ainakaan ole suoranaisesti normaalijakautuneita. Ensisilmäyksellä residuaalit näyttävät hajoavat kutakuinkin keskiarvon molemmin puolin melko epäsäännönmukaisestikin. Tietyssä mielessä residuaaleista voitaisiin löytää jokseenkin epäsäännöllinen jaksottaisuus. Joka tapauksessa data näyttää ennemmin epälineaariselta, kuin lineaariselta. Tätä voitaisiin itseasiassa kokeilla hieman enemmänkin. Tehdään tätä varten funktio, joka tulostaa ennusteet ja residuaalit sekä $R^2$-arvot kulloisellekin mallille."
   ]
  },
  {
   "cell_type": "code",
   "execution_count": 243,
   "metadata": {},
   "outputs": [],
   "source": [
    "def evaluate(X,y):\n",
    "    model = LinearRegression()\n",
    "    model.fit(X=X,y=y)\n",
    "    print(f\"Coefficients:{model.coef_}\")\n",
    "    print(f\"Intercept:{model.intercept_}\")\n",
    "    \n",
    "    y_pred = model.predict(X)\n",
    "    residuals = y_pred - y\n",
    "    \n",
    "    plt.rcParams['figure.figsize'] = 10,8\n",
    "\n",
    "    plt.subplot(221)\n",
    "    fig = plt.scatter(x1,x2,c=y,cmap='viridis')\n",
    "    plt.colorbar(fig)\n",
    "    plt.title(\"True values\")\n",
    "    \n",
    "    plt.subplot(222)\n",
    "    plt.scatter(x1,x2,c=y_pred,cmap='viridis')\n",
    "    plt.colorbar(fig)\n",
    "    plt.title(\"Prediction errors\")\n",
    "\n",
    "    plt.subplot(223)\n",
    "    plt.bar(fields,residuals,label='Residuals')\n",
    "    plt.plot([fields[0],fields[-1]],[residuals.mean(),residuals.mean()],\n",
    "             label='$\\mu_{Residuals}$')\n",
    "    plt.title(\"Residual deviations from zero\")\n",
    "    plt.legend()\n",
    "\n",
    "    plt.subplot(224)\n",
    "    plt.hist(residuals,bins=6)\n",
    "    plt.title(\"Residual histogram\")\n",
    "    \n",
    "    plt.tight_layout()\n",
    "\n",
    "    print(\"R^2:\",r2_score(y,y_pred))"
   ]
  },
  {
   "cell_type": "markdown",
   "metadata": {},
   "source": [
    "Koitetaanpa ensin vain toisen asteen termien lisäystä, eli \n",
    "\n",
    "$$ y_1 = \\beta_0 + \\beta_1x_1 + \\beta_2x2 + \\beta_3x_1^2 + \\beta_4x_2^2 $$"
   ]
  },
  {
   "cell_type": "code",
   "execution_count": 245,
   "metadata": {},
   "outputs": [
    {
     "name": "stdout",
     "output_type": "stream",
     "text": [
      "Coefficients:[ 5.24487464  2.77321693 -0.11851435 -0.01921483]\n",
      "Intercept:-57.45004565864512\n",
      "R^2: 0.626647484521615\n"
     ]
    },
    {
     "data": {
      "image/png": "[encoded data removed]",
      "text/plain": [
       "<Figure size 720x576 with 6 Axes>"
      ]
     },
     "metadata": {},
     "output_type": "display_data"
    }
   ],
   "source": [
    "X = list(zip(x1,x2,x1**2,x2**2))\n",
    "evaluate(X,y)"
   ]
  },
  {
   "cell_type": "markdown",
   "metadata": {},
   "source": [
    "Tämä ei juuri asiaa muuttanut. Vaikka $R^2 \\approx .6266$, ero ei ole järin merkittävä, sillä ennusteet ovat edelleen lineaarisesti vasempaan yläkulmaan kasvavia.\n",
    "\n",
    "Kuten aiemmin jo todettiin, on datassa havaittavissa myös tietynlaista jaksottaisuutta. Koitetaanpa lisätä toisen asteen termien tilalle alkuperäisten muuttujien $\\sin$-funktion tulokset siten, että\n",
    "\n",
    "$$ y_2 = \\beta_0 + \\beta_1x_1 + \\beta_2x2 + \\beta_3\\sin{(x_1)} + \\beta_4\\sin{(x_2)} + \\beta_5\\sin{(x_1)}\\sin{(x_2)}$$"
   ]
  },
  {
   "cell_type": "code",
   "execution_count": 264,
   "metadata": {},
   "outputs": [
    {
     "name": "stdout",
     "output_type": "stream",
     "text": [
      "Coefficients:[  0.26980926   1.62856852   2.92448613  -0.43506794 -28.92247605]\n",
      "Intercept:-3.210052598422415\n",
      "R^2: 0.6832690157348847\n"
     ]
    },
    {
     "data": {
      "image/png": "[encoded data removed]",
      "text/plain": [
       "<Figure size 720x576 with 6 Axes>"
      ]
     },
     "metadata": {},
     "output_type": "display_data"
    }
   ],
   "source": [
    "X = list(zip(x1,x2,np.sin(x1),np.sin(x2),np.sin(x1)*np.sin(x2)))\n",
    "evaluate(X,y)"
   ]
  },
  {
   "cell_type": "markdown",
   "metadata": {},
   "source": [
    "$R^2 \\approx .6833$, eli tulos nousi jo jonkin verran. Yhdistettään vielä nämä kaksi jo kokeiltua asiaa, ihan vain kokeilun vuoksi. Tällöin \n",
    "\n",
    "$$ y_2 = \\beta_0 + \\beta_1x_1 + \\beta_2x2 + \\beta_3x_1^2 + \\beta_4x_2^2 + \\beta_5\\sin{(x_1)} + \\beta_6\\sin{(x_2)} + \\beta_7\\sin{(x_1)}\\sin{(x_2)}$$"
   ]
  },
  {
   "cell_type": "code",
   "execution_count": 267,
   "metadata": {},
   "outputs": [
    {
     "name": "stdout",
     "output_type": "stream",
     "text": [
      "Coefficients:[ 6.42737924e+00  2.88425505e+00 -1.22073257e-01 -1.66445558e-02\n",
      " -1.53726355e-01 -1.58693505e+00 -2.61982996e+01]\n",
      "Intercept:-95.03446642674714\n",
      "R^2: 0.7443626289909211\n"
     ]
    },
    {
     "data": {
      "image/png": "[encoded data removed]",
      "text/plain": [
       "<Figure size 720x576 with 6 Axes>"
      ]
     },
     "metadata": {},
     "output_type": "display_data"
    }
   ],
   "source": [
    "X = list(zip(x1,x2,x1**2,x2**2,np.sin(x1),np.sin(x2),np.sin(x1)*np.sin(x2)))\n",
    "evaluate(X,y)"
   ]
  },
  {
   "cell_type": "markdown",
   "metadata": {},
   "source": [
    "Tällä kehittelyllä $R^2 \\approx .7443$, eli suunta paranee koko ajan. Samoin ennustetut arvot alkavat hajoamaan enemmän todellisten tapaan ja residuaalitkin ovat paljon enemmän normaalijakautuneet. Tästä voitaisiin siis päätellä, että mallia saataisiin edelleenkin paremmaksi, mikäli siihen lisättäisiin enemmän epälineaarisuutta mallintavia termejä."
   ]
  },
  {
   "cell_type": "markdown",
   "metadata": {},
   "source": [
    "## 14.7\n",
    "\n",
    "> *Kommenntti: Tarkoitus on ilmeisesti ollut tehdä harjoitus 14.7, eikä 14.17 ...*\n",
    ">\n",
    "> **Vastaus**: Sisällön puolesta tehtävä näyttäisikin olevan tuo 14.7. Otsikoinnissa siis näyttäisi olevan virhe. Korjattu.\n",
    "\n",
    "> *Kommentti: Minusta tässä olisi pitänyt tutkia mediaanien erotusta, eikä mediaaneja sinänsä. Vastaava esimerkki normaalijakautuneelle datalle on kirjassa Example 14.12. Tämän olisi voinut tehdä vertailukohteena.*\n",
    ">\n",
    "> **Vastaus**: Kuten tehtävän lomaan upotetuista komme\n",
    "\n",
    "(14.5) The production manager of a large investment casting firm is studying different methods\n",
    "to increase productivity in the workforce of the company. The process engineer and personnel in\n",
    "the human resource department develop three new incentive plans (B, C, D) for which they will\n",
    "design a study to compare the incentive plans with the current plan (plan A). Twenty workers are\n",
    "randomly assigned to each of the four plans. The response variable is the total number of units\n",
    "produced by each worker during one month on the incentive plans. The data are given here along\n",
    "with the output from Minitab.\n",
    "\n",
    "| Rep  | A     | B     | C     | D     |\n",
    "|------|-------|-------|-------|-------|\n",
    "| 1    | 422   | 521   | 437   | 582   |\n",
    "| 2    | 431   | 545   | 422   | 639   |\n",
    "| 3    | 784   | 600   | 473   | 735   |\n",
    "| 4    | 711   | 406   | 478   | 800   |\n",
    "| 5    | 641   | 563   | 397   | 853   |\n",
    "| 6    | 709   | 361   | 944   | 748   |\n",
    "| 7    | 344   | 387   | 394   | 622   |\n",
    "| 8    | 599   | 700   | 890   | 514   |\n",
    "| 9    | 511   | 348   | 488   | 714   |\n",
    "| 10   | 381   | 944   | 521   | 627   |\n",
    "| 11   | 349   | 545   | 387   | 548   |\n",
    "| 12   | 387   | 337   | 633   | 644   |\n",
    "| 13   | 394   | 427   | 627   | 736   |\n",
    "| 14   | 621   | 771   | 444   | 528   |\n",
    "| 15   | 328   | 752   | 1467  | 595   |\n",
    "| 16   | 636   | 810   | 828   | 572   |\n",
    "| 17   | 388   | 406   | 644   | 627   |\n",
    "| 18   | 901   | 537   | 1154  | 546   |\n",
    "| 19   | 394   | 816   | 430   | 701   |\n",
    "| 20   | 350   | 369   | 508   | 664   |\n",
    "| Mean | 514.1 | 557.2 | 628.3 | 649.8 |\n",
    "| Std  | 171.8 | 184.4 | 290.2 | 93.1  |\n",
    "\n",
    "Refer to Exercise 14.5. When the normality condition is violated, an alternative to the\n",
    "F-test is the Kruskal–Wallis test (see Section 8.6)."
   ]
  },
  {
   "cell_type": "markdown",
   "metadata": {},
   "source": [
    "**A. Test for differences in the median output of the four incentive plans. Use $\\alpha = .05$**"
   ]
  },
  {
   "cell_type": "code",
   "execution_count": 48,
   "metadata": {},
   "outputs": [],
   "source": [
    "import matplotlib.pyplot as plt\n",
    "import numpy as np\n",
    "import pandas as pd\n",
    "import scipy.stats\n",
    "import seaborn as sns\n",
    "sns.set(style='dark')"
   ]
  },
  {
   "cell_type": "markdown",
   "metadata": {},
   "source": [
    "Tehtävän oli selvittää mediaanien eroja. Tätä varten hyödynnetään esimerkissä 14.12 esitettyä Tukeyn $W$-testiä:\n",
    "\n",
    "$$ W = q_{\\alpha}(t,v)\\sqrt{\\frac{s^2_w}{n}} $$\n",
    "\n",
    "Testin laskentaan tarvitaan muutama komponentti. Ne saadaan viitatun tehtävän varianssianalyysitaulukosta."
   ]
  },
  {
   "cell_type": "markdown",
   "metadata": {},
   "source": [
    "<img src=\"data:image/png;base64,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\">"
   ]
  },
  {
   "cell_type": "markdown",
   "metadata": {},
   "source": [
    "$$ t = 4 $$\n",
    "$$ v = 76 $$\n",
    "$$ s^2_w = 39107 $$\n",
    "$$ n = 20 $$"
   ]
  },
  {
   "cell_type": "markdown",
   "metadata": {},
   "source": [
    "Tällöin $W$-testin kaavaksi muodostuu siis\n",
    "\n",
    "$$ W = q_{\\alpha}(4,76)\\sqrt{\\frac{39107}{20}} $$\n",
    "\n",
    "Ennenkuin testin arvo voidaan laskea, on käytävä taulukolla katsomassa oikea arvo $q$:lle.\n",
    "\n",
    "$$ q_{\\alpha}(4,76) = 3.7149 $$\n",
    "\n",
    "Nyt meidän on mahdollista laskea $W$."
   ]
  },
  {
   "cell_type": "code",
   "execution_count": 60,
   "metadata": {},
   "outputs": [
    {
     "data": {
      "text/plain": [
       "164.27042490434332"
      ]
     },
     "execution_count": 60,
     "metadata": {},
     "output_type": "execute_result"
    }
   ],
   "source": [
    "w = 3.7149*np.sqrt(39107/20)\n",
    "w"
   ]
  },
  {
   "cell_type": "markdown",
   "metadata": {},
   "source": [
    "$$ W = 164.270 $$"
   ]
  },
  {
   "cell_type": "markdown",
   "metadata": {},
   "source": [
    "Seuraavaksi listataan suunnitelmakohtaiset mediaanit käyttäen B-kohdan tietoja."
   ]
  },
  {
   "cell_type": "markdown",
   "metadata": {},
   "source": [
    "$$ M_A = 426.8 $$\n",
    "$$ M_B = 541 $$\n",
    "$$ M_C = 497.8 $$\n",
    "$$ M_D = 633.3 $$"
   ]
  },
  {
   "cell_type": "code",
   "execution_count": 90,
   "metadata": {},
   "outputs": [
    {
     "name": "stdout",
     "output_type": "stream",
     "text": [
      "\"Sarakkeen mediaanit näin paljon rivin mediaania suurempia\"\n"
     ]
    },
    {
     "data": {
      "text/html": [
       "<div>\n",
       "<style scoped>\n",
       "    .dataframe tbody tr th:only-of-type {\n",
       "        vertical-align: middle;\n",
       "    }\n",
       "\n",
       "    .dataframe tbody tr th {\n",
       "        vertical-align: top;\n",
       "    }\n",
       "\n",
       "    .dataframe thead th {\n",
       "        text-align: right;\n",
       "    }\n",
       "</style>\n",
       "<table border=\"1\" class=\"dataframe\">\n",
       "  <thead>\n",
       "    <tr style=\"text-align: right;\">\n",
       "      <th></th>\n",
       "      <th>C</th>\n",
       "      <th>B</th>\n",
       "      <th>D</th>\n",
       "    </tr>\n",
       "  </thead>\n",
       "  <tbody>\n",
       "    <tr>\n",
       "      <th>A</th>\n",
       "      <td>71.0</td>\n",
       "      <td>114.2</td>\n",
       "      <td>206.5</td>\n",
       "    </tr>\n",
       "    <tr>\n",
       "      <th>C</th>\n",
       "      <td>0.0</td>\n",
       "      <td>43.2</td>\n",
       "      <td>135.5</td>\n",
       "    </tr>\n",
       "    <tr>\n",
       "      <th>B</th>\n",
       "      <td>0.0</td>\n",
       "      <td>0.0</td>\n",
       "      <td>92.3</td>\n",
       "    </tr>\n",
       "  </tbody>\n",
       "</table>\n",
       "</div>"
      ],
      "text/plain": [
       "      C      B      D\n",
       "A  71.0  114.2  206.5\n",
       "C   0.0   43.2  135.5\n",
       "B   0.0    0.0   92.3"
      ]
     },
     "execution_count": 90,
     "metadata": {},
     "output_type": "execute_result"
    }
   ],
   "source": [
    "populations = {\n",
    "    'A':426.8,\n",
    "    'C':497.8,\n",
    "    'B':541,\n",
    "    'D':633.3\n",
    "}\n",
    "medians_df = pd.DataFrame(index=populations.keys(), columns=populations.keys())\n",
    "\n",
    "for source in populations:\n",
    "    for target in populations:\n",
    "        if populations[target] > populations[source]:\n",
    "            medians_df.loc[source,target] = populations[target] - populations[source]\n",
    "\n",
    "medians_df = medians_df.dropna(axis=0,how='all').dropna(axis=1,how='all').fillna(0)\n",
    "\n",
    "print('\"Sarakkeen mediaanit näin paljon rivin mediaania suurempia\"')\n",
    "medians_df"
   ]
  },
  {
   "cell_type": "code",
   "execution_count": 91,
   "metadata": {},
   "outputs": [
    {
     "name": "stdout",
     "output_type": "stream",
     "text": [
      "\"Sarakkeen ja rivin mediaanien ero pienempi kuin W\"\n"
     ]
    },
    {
     "data": {
      "text/html": [
       "<div>\n",
       "<style scoped>\n",
       "    .dataframe tbody tr th:only-of-type {\n",
       "        vertical-align: middle;\n",
       "    }\n",
       "\n",
       "    .dataframe tbody tr th {\n",
       "        vertical-align: top;\n",
       "    }\n",
       "\n",
       "    .dataframe thead th {\n",
       "        text-align: right;\n",
       "    }\n",
       "</style>\n",
       "<table border=\"1\" class=\"dataframe\">\n",
       "  <thead>\n",
       "    <tr style=\"text-align: right;\">\n",
       "      <th></th>\n",
       "      <th>C</th>\n",
       "      <th>B</th>\n",
       "      <th>D</th>\n",
       "    </tr>\n",
       "  </thead>\n",
       "  <tbody>\n",
       "    <tr>\n",
       "      <th>A</th>\n",
       "      <td>True</td>\n",
       "      <td>True</td>\n",
       "      <td>False</td>\n",
       "    </tr>\n",
       "    <tr>\n",
       "      <th>C</th>\n",
       "      <td>True</td>\n",
       "      <td>True</td>\n",
       "      <td>True</td>\n",
       "    </tr>\n",
       "    <tr>\n",
       "      <th>B</th>\n",
       "      <td>True</td>\n",
       "      <td>True</td>\n",
       "      <td>True</td>\n",
       "    </tr>\n",
       "  </tbody>\n",
       "</table>\n",
       "</div>"
      ],
      "text/plain": [
       "      C     B      D\n",
       "A  True  True  False\n",
       "C  True  True   True\n",
       "B  True  True   True"
      ]
     },
     "execution_count": 91,
     "metadata": {},
     "output_type": "execute_result"
    }
   ],
   "source": [
    "print('\"Sarakkeen ja rivin mediaanien ero pienempi kuin W\"')\n",
    "medians_df < w"
   ]
  },
  {
   "cell_type": "markdown",
   "metadata": {},
   "source": [
    "Ylläoleva taulukko on muodostettu siten, että kunkin populaation mediaanin erotusta muihin mediaaneihin on verrattu laskettuun $W$-arvoon. Mikäli erotus on kyseistä arvoa pienempi (`True`), eivät mediaanit eroa merkittävästi toisistaan. Toisin sanoen matriisia luetaan seuraavasti:\n",
    "\n",
    "- A-, C- ja B-populaatioilla ei havaita merkittävää eroa\n",
    "- C-, B- ja D-populaatioilla ei havaita merkittävää eroa\n",
    "- A-populaatio eroaa merkittävästi vain D-populaatiosta\n",
    "\n",
    "Sama esitettynä kirjan tapaan:\n",
    "\n",
    "```python\n",
    "A  C  B  D\n",
    "_______\n",
    "   _______\n",
    "```"
   ]
  },
  {
   "cell_type": "markdown",
   "metadata": {},
   "source": [
    "**B. Verify the output from Minitab given above.**"
   ]
  },
  {
   "cell_type": "markdown",
   "metadata": {},
   "source": [
    "Tehtävän helpottamiseksi testin tulokset tuotiin tähän."
   ]
  },
  {
   "cell_type": "markdown",
   "metadata": {},
   "source": [
    "<img src=\"data:image/png;base64,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\">"
   ]
  },
  {
   "cell_type": "markdown",
   "metadata": {},
   "source": [
    "Kirjan seiskataulukosta lukien hylkäämisen rajana toimiva kriittinen arvo on 9.348, joka on erittäin lähellä $H_0$ (populaatiot identtiset) hylkäämisen rajaa muttei sitä kuitenkaan ylitä. KW-testin antama $p$-arvo on kuitenkin A-kohdan määritettyä $\\alpha$-arvoa pienempi, jolloin perusteet hylätä nollahypoteesi ovat vahvemmat. Toisinsanoen populaatioissa on eroa."
   ]
  },
  {
   "cell_type": "markdown",
   "metadata": {},
   "source": [
    "**C. Why do you think the conclusions reached using the Kruskal–Wallis test differ from\n",
    "the conclusions reached using the F-test from the AOV table?**"
   ]
  },
  {
   "cell_type": "markdown",
   "metadata": {},
   "source": [
    "Varianssianalyysin nollahypoteesihän on, että populaatioiden keskiarvot eivät poikkea toisistaan. A-kohdassa esitetty tehtävän 14.5 varianssianalyysitaulukko antaa testin tulokseksi $p=.118$. Mikäli tässä kohdin käytettäisiin A-kohdan merkitsevyystasoa $\\alpha=.05$, ei nollahypoteesiä F-testin perusteella voitaisi suoraan hylätä. "
   ]
  },
  {
   "cell_type": "markdown",
   "metadata": {},
   "source": [
    "## 15.04\n",
    "\n",
    "Two devices have been proposed to reduce the air pollution resulting from the emission\n",
    "of carbon monoxide (CO) from the exhaust of automobiles. To evaluate the effectiveness of the\n",
    "devices, 48 cars of varying age and mechanical condition were selected for the study. The amount\n",
    "of carbon monoxide in the exhaust (in ppm) was measured prior to installing the device on each\n",
    "of the cars. Because there were considerable differences in the mechanical condition of the cars,\n",
    "the cars were paired based on the level of CO in their exhaust. The two devices were then randomly\n",
    "assigned to the cars within each pair of cars. Five months after installation, the amount of\n",
    "CO in the exhaust was again measured on each of the cars. The reduction in carbon monoxide\n",
    "from the initial measurements are given here.\n",
    "\n",
    "| Pair   | 1    | 2    | 3    | 4    | 5    | 6    | 7    | 8    | 9    | 10   | 11   | 12   | 13   | 14   | 15   | 16   | 17   | 18   | 19   | 20   | 21   | 22   | 23   | 24   |\n",
    "|--------|------|------|------|------|------|------|------|------|------|------|------|------|------|------|------|------|------|------|------|------|------|------|------|------|\n",
    "| Before | 2.37 | 3.17 | 3.07 | 2.73 | 3.49 | 4.35 | 3.65 | 3.97 | 3.21 | 4.46 | 3.81 | 4.55 | 4.51 | 3.03 | 4.47 | 3.44 | 3.52 | 3.05 | 3.66 | 3.81 | 3.13 | 3.43 | 3.26 | 2.85 |\n",
    "| After  | 2.51 | 2.65 | 2.60 | 2.40 | 2.31 | 2.28 | 0.94 | 2.21 | 3.29 | 1.92 | 3.38 | 2.43 | 1.83 | 2.63 | 2.31 | 1.85 | 2.92 | 2.26 | 3.11 | 1.90 | 2.50 | 3.18 | 3.24 | 2.16 |"
   ]
  },
  {
   "cell_type": "markdown",
   "metadata": {},
   "source": [
    "**A. Does the device appear to reduce the average amount of CO in the exhaust of the\n",
    "cars? Use $\\alpha = .05$.**"
   ]
  },
  {
   "cell_type": "markdown",
   "metadata": {},
   "source": [
    "Selvityksen kohteena on toisin sanoen se, että vaikuttavatko laitteet päästöihin autojen keskinäisiä eroja merkittävämmin. Koska autoja oli alun alkujaan 48 ja mittauksia varten autot paritettiin käyttö- ja kulumaominaisuuksiltaan samankaltaisten kanssa, ovat lukemat parhaiten ymmärrettävissä keskiarvoina kahden auton mittauksista. Koska laitteet asennettiin satunnaisesti autopareihin, täyttyy vaatimus lohkotun ja satunnaistetun tutkimuksen asetelmasta. \n",
    "\n",
    "Tämän tehtävän kohdalla testihypoteesit ovat\n",
    "\n",
    "$$ H_0 : \\mu_{\\text{Before}} = \\mu_{\\text{After}} $$\n",
    "$$ H_a : \\mu_{\\text{Before}} \\ne \\mu_{\\text{After}} $$\n",
    "\n",
    "Aloitetaan tuttuun tapaan, kirjastoilla ja datan kokoamisella."
   ]
  },
  {
   "cell_type": "code",
   "execution_count": 120,
   "metadata": {},
   "outputs": [],
   "source": [
    "import matplotlib.pyplot as plt\n",
    "import numpy as np\n",
    "import pandas as pd\n",
    "import scipy.stats\n",
    "import seaborn as sns\n",
    "sns.set(style='dark')\n",
    "pd.options.display.float_format = \"{:.3f}\".format"
   ]
  },
  {
   "cell_type": "code",
   "execution_count": 131,
   "metadata": {},
   "outputs": [
    {
     "data": {
      "text/html": [
       "<div>\n",
       "<style scoped>\n",
       "    .dataframe tbody tr th:only-of-type {\n",
       "        vertical-align: middle;\n",
       "    }\n",
       "\n",
       "    .dataframe tbody tr th {\n",
       "        vertical-align: top;\n",
       "    }\n",
       "\n",
       "    .dataframe thead th {\n",
       "        text-align: right;\n",
       "    }\n",
       "</style>\n",
       "<table border=\"1\" class=\"dataframe\">\n",
       "  <thead>\n",
       "    <tr style=\"text-align: right;\">\n",
       "      <th></th>\n",
       "      <th>0</th>\n",
       "      <th>1</th>\n",
       "      <th>2</th>\n",
       "      <th>3</th>\n",
       "      <th>4</th>\n",
       "      <th>5</th>\n",
       "      <th>6</th>\n",
       "      <th>7</th>\n",
       "      <th>8</th>\n",
       "      <th>9</th>\n",
       "      <th>...</th>\n",
       "      <th>14</th>\n",
       "      <th>15</th>\n",
       "      <th>16</th>\n",
       "      <th>17</th>\n",
       "      <th>18</th>\n",
       "      <th>19</th>\n",
       "      <th>20</th>\n",
       "      <th>21</th>\n",
       "      <th>22</th>\n",
       "      <th>23</th>\n",
       "    </tr>\n",
       "    <tr>\n",
       "      <th>Samples</th>\n",
       "      <th></th>\n",
       "      <th></th>\n",
       "      <th></th>\n",
       "      <th></th>\n",
       "      <th></th>\n",
       "      <th></th>\n",
       "      <th></th>\n",
       "      <th></th>\n",
       "      <th></th>\n",
       "      <th></th>\n",
       "      <th></th>\n",
       "      <th></th>\n",
       "      <th></th>\n",
       "      <th></th>\n",
       "      <th></th>\n",
       "      <th></th>\n",
       "      <th></th>\n",
       "      <th></th>\n",
       "      <th></th>\n",
       "      <th></th>\n",
       "      <th></th>\n",
       "    </tr>\n",
       "  </thead>\n",
       "  <tbody>\n",
       "    <tr>\n",
       "      <th>Before</th>\n",
       "      <td>2.370</td>\n",
       "      <td>3.170</td>\n",
       "      <td>3.070</td>\n",
       "      <td>2.730</td>\n",
       "      <td>3.490</td>\n",
       "      <td>4.350</td>\n",
       "      <td>3.650</td>\n",
       "      <td>3.970</td>\n",
       "      <td>3.210</td>\n",
       "      <td>4.460</td>\n",
       "      <td>...</td>\n",
       "      <td>4.470</td>\n",
       "      <td>3.440</td>\n",
       "      <td>3.520</td>\n",
       "      <td>3.050</td>\n",
       "      <td>3.660</td>\n",
       "      <td>3.810</td>\n",
       "      <td>3.130</td>\n",
       "      <td>3.430</td>\n",
       "      <td>3.260</td>\n",
       "      <td>2.850</td>\n",
       "    </tr>\n",
       "    <tr>\n",
       "      <th>After</th>\n",
       "      <td>2.510</td>\n",
       "      <td>2.650</td>\n",
       "      <td>2.600</td>\n",
       "      <td>2.400</td>\n",
       "      <td>2.310</td>\n",
       "      <td>2.280</td>\n",
       "      <td>0.940</td>\n",
       "      <td>2.210</td>\n",
       "      <td>3.290</td>\n",
       "      <td>1.920</td>\n",
       "      <td>...</td>\n",
       "      <td>2.310</td>\n",
       "      <td>1.850</td>\n",
       "      <td>2.920</td>\n",
       "      <td>2.260</td>\n",
       "      <td>3.110</td>\n",
       "      <td>1.900</td>\n",
       "      <td>2.500</td>\n",
       "      <td>3.180</td>\n",
       "      <td>3.240</td>\n",
       "      <td>2.160</td>\n",
       "    </tr>\n",
       "  </tbody>\n",
       "</table>\n",
       "<p>2 rows × 24 columns</p>\n",
       "</div>"
      ],
      "text/plain": [
       "           0     1     2     3     4     5     6     7     8     9   ...  \\\n",
       "Samples                                                              ...   \n",
       "Before  2.370 3.170 3.070 2.730 3.490 4.350 3.650 3.970 3.210 4.460  ...   \n",
       "After   2.510 2.650 2.600 2.400 2.310 2.280 0.940 2.210 3.290 1.920  ...   \n",
       "\n",
       "           14    15    16    17    18    19    20    21    22    23  \n",
       "Samples                                                              \n",
       "Before  4.470 3.440 3.520 3.050 3.660 3.810 3.130 3.430 3.260 2.850  \n",
       "After   2.310 1.850 2.920 2.260 3.110 1.900 2.500 3.180 3.240 2.160  \n",
       "\n",
       "[2 rows x 24 columns]"
      ]
     },
     "execution_count": 131,
     "metadata": {},
     "output_type": "execute_result"
    }
   ],
   "source": [
    "before = [2.37,3.17,3.07,2.73,3.49,4.35,3.65,3.97,3.21,4.46,3.81,4.55,4.51,3.03,4.47,3.44,3.52,3.05,3.66,3.81,3.13,3.43,3.26,2.85]\n",
    "after = [2.51,2.65,2.60,2.40,2.31,2.28,0.94,2.21,3.29,1.92,3.38,2.43,1.83,2.63,2.31,1.85,2.92,2.26,3.11,1.90,2.50,3.18,3.24,2.16]\n",
    "samples = pd.DataFrame([before,after],index=['Before','After'])\n",
    "samples.index.name = 'Samples'\n",
    "samples"
   ]
  },
  {
   "cell_type": "markdown",
   "metadata": {},
   "source": [
    "Tehtävän pohjalta määritellään seuraavat muuttujat\n",
    "\n",
    "$$ t = (t_{\\text{Before}}, t_{\\text{After}}) = 2$$\n",
    "$$ b = 24 $$\n",
    "\n",
    "Lasketaanpa seuraavaksi kullekin hoito-lohko-parille (ts. arvolle) sen odotusarvo $E(y_{ij})$. Tätä varten lasketaan hoidon ja lohkon vaikutuksia ilmaisevat muuttujat\n",
    "\n",
    "$$ \\mu = \\mu_{tb} $$\n",
    "$$ \\text{Factor A}: \\tau_i = \\mu_{ib} - \\mu $$\n",
    "$$ \\text{Factor B}: \\beta_j = \\mu_{tj} - \\mu $$\n",
    "\n",
    "Tavoitteena on laskea yksittäiset odotusarvot\n",
    "\n",
    "$$ \\mu_{ij} = \\mu + \\tau_i +\\beta_j $$"
   ]
  },
  {
   "cell_type": "code",
   "execution_count": 151,
   "metadata": {},
   "outputs": [
    {
     "data": {
      "text/html": [
       "<div>\n",
       "<style scoped>\n",
       "    .dataframe tbody tr th:only-of-type {\n",
       "        vertical-align: middle;\n",
       "    }\n",
       "\n",
       "    .dataframe tbody tr th {\n",
       "        vertical-align: top;\n",
       "    }\n",
       "\n",
       "    .dataframe thead th {\n",
       "        text-align: right;\n",
       "    }\n",
       "</style>\n",
       "<table border=\"1\" class=\"dataframe\">\n",
       "  <thead>\n",
       "    <tr style=\"text-align: right;\">\n",
       "      <th></th>\n",
       "      <th>0</th>\n",
       "      <th>1</th>\n",
       "      <th>2</th>\n",
       "      <th>3</th>\n",
       "      <th>4</th>\n",
       "      <th>5</th>\n",
       "      <th>6</th>\n",
       "      <th>7</th>\n",
       "      <th>8</th>\n",
       "      <th>9</th>\n",
       "      <th>...</th>\n",
       "      <th>14</th>\n",
       "      <th>15</th>\n",
       "      <th>16</th>\n",
       "      <th>17</th>\n",
       "      <th>18</th>\n",
       "      <th>19</th>\n",
       "      <th>20</th>\n",
       "      <th>21</th>\n",
       "      <th>22</th>\n",
       "      <th>23</th>\n",
       "    </tr>\n",
       "    <tr>\n",
       "      <th>Expected values</th>\n",
       "      <th></th>\n",
       "      <th></th>\n",
       "      <th></th>\n",
       "      <th></th>\n",
       "      <th></th>\n",
       "      <th></th>\n",
       "      <th></th>\n",
       "      <th></th>\n",
       "      <th></th>\n",
       "      <th></th>\n",
       "      <th></th>\n",
       "      <th></th>\n",
       "      <th></th>\n",
       "      <th></th>\n",
       "      <th></th>\n",
       "      <th></th>\n",
       "      <th></th>\n",
       "      <th></th>\n",
       "      <th></th>\n",
       "      <th></th>\n",
       "      <th></th>\n",
       "    </tr>\n",
       "  </thead>\n",
       "  <tbody>\n",
       "    <tr>\n",
       "      <th>Before</th>\n",
       "      <td>2.985</td>\n",
       "      <td>3.455</td>\n",
       "      <td>3.380</td>\n",
       "      <td>3.110</td>\n",
       "      <td>3.445</td>\n",
       "      <td>3.860</td>\n",
       "      <td>2.840</td>\n",
       "      <td>3.635</td>\n",
       "      <td>3.795</td>\n",
       "      <td>3.735</td>\n",
       "      <td>...</td>\n",
       "      <td>3.935</td>\n",
       "      <td>3.190</td>\n",
       "      <td>3.765</td>\n",
       "      <td>3.200</td>\n",
       "      <td>3.930</td>\n",
       "      <td>3.400</td>\n",
       "      <td>3.360</td>\n",
       "      <td>3.850</td>\n",
       "      <td>3.795</td>\n",
       "      <td>3.050</td>\n",
       "    </tr>\n",
       "    <tr>\n",
       "      <th>After</th>\n",
       "      <td>1.895</td>\n",
       "      <td>2.365</td>\n",
       "      <td>2.290</td>\n",
       "      <td>2.020</td>\n",
       "      <td>2.355</td>\n",
       "      <td>2.770</td>\n",
       "      <td>1.750</td>\n",
       "      <td>2.545</td>\n",
       "      <td>2.705</td>\n",
       "      <td>2.645</td>\n",
       "      <td>...</td>\n",
       "      <td>2.845</td>\n",
       "      <td>2.100</td>\n",
       "      <td>2.675</td>\n",
       "      <td>2.110</td>\n",
       "      <td>2.840</td>\n",
       "      <td>2.310</td>\n",
       "      <td>2.270</td>\n",
       "      <td>2.760</td>\n",
       "      <td>2.705</td>\n",
       "      <td>1.960</td>\n",
       "    </tr>\n",
       "  </tbody>\n",
       "</table>\n",
       "<p>2 rows × 24 columns</p>\n",
       "</div>"
      ],
      "text/plain": [
       "                   0     1     2     3     4     5     6     7     8     9   \\\n",
       "Expected values                                                               \n",
       "Before          2.985 3.455 3.380 3.110 3.445 3.860 2.840 3.635 3.795 3.735   \n",
       "After           1.895 2.365 2.290 2.020 2.355 2.770 1.750 2.545 2.705 2.645   \n",
       "\n",
       "                 ...    14    15    16    17    18    19    20    21    22  \\\n",
       "Expected values  ...                                                         \n",
       "Before           ... 3.935 3.190 3.765 3.200 3.930 3.400 3.360 3.850 3.795   \n",
       "After            ... 2.845 2.100 2.675 2.110 2.840 2.310 2.270 2.760 2.705   \n",
       "\n",
       "                   23  \n",
       "Expected values        \n",
       "Before          3.050  \n",
       "After           1.960  \n",
       "\n",
       "[2 rows x 24 columns]"
      ]
     },
     "execution_count": 151,
     "metadata": {},
     "output_type": "execute_result"
    }
   ],
   "source": [
    "t = 2\n",
    "b = 24\n",
    "mu = samples.mean().mean()\n",
    "taus = samples.T.mean()-mu\n",
    "betas = samples.mean()-mu\n",
    "\n",
    "expected_values = pd.DataFrame(np.zeros((t,b)),index=['Before','After'])\n",
    "expected_values.index.name = 'Expected values'\n",
    "for t_i, (idx_name, test) in enumerate(expected_values.iterrows()):\n",
    "    for b_i, item in row.items():\n",
    "        expected_values.loc[idx_name, b_i] = mu + taus[t_i] + betas[b_i]\n",
    "expected_values"
   ]
  },
  {
   "cell_type": "code",
   "execution_count": 155,
   "metadata": {},
   "outputs": [
    {
     "data": {
      "image/png": "[encoded data removed]",
      "text/plain": [
       "<Figure size 432x288 with 1 Axes>"
      ]
     },
     "metadata": {},
     "output_type": "display_data"
    }
   ],
   "source": [
    "expected_values.T.plot()\n",
    "plt.title('Block-wise expected values')\n",
    "plt.show()"
   ]
  },
  {
   "cell_type": "markdown",
   "metadata": {},
   "source": [
    "Odotusarvojen osalta ainakin näyttää siltä, että asennusten jälkeen olisi havaittavissa selkeää eroa. Jatketaanpa seuraavaksi varianssianalyysiin. Sitä varten on selvitettävä seuraavat suureet:\n",
    "\n",
    "$$ \\text{TSS} = \\sum_{ij}(y_{ij}-\\bar{y}_{..})^2 $$\n",
    "$$ \\text{SST} = b\\sum_{i}(y_{i.}-\\bar{y}_{..})^2 $$\n",
    "$$ \\text{SSB} = t\\sum_{j}(y_{.j}-\\bar{y}_{..})^2 $$\n"
   ]
  },
  {
   "cell_type": "code",
   "execution_count": 183,
   "metadata": {},
   "outputs": [
    {
     "name": "stdout",
     "output_type": "stream",
     "text": [
      "Lasketaan TSS 48 havainnon keskiarvolla\n",
      "Lasketaan SST 2 hoidolle\n",
      "Lasketaan SSB 24 hoidolle\n"
     ]
    },
    {
     "data": {
      "text/plain": [
       "(30.045766666666665, 14.279008333333323, 5.904366666666666, 9.862391666666676)"
      ]
     },
     "execution_count": 183,
     "metadata": {},
     "output_type": "execute_result"
    }
   ],
   "source": [
    "print(f\"Lasketaan TSS {samples.size} havainnon keskiarvolla\")\n",
    "tss = samples.applymap(lambda y: (y-mu)**2).sum().sum()\n",
    "print(f\"Lasketaan SST {samples.T.mean().shape[0]} hoidolle\")\n",
    "sst = samples.T.mean().apply(lambda y: (y-mu)**2).sum()*b\n",
    "print(f\"Lasketaan SSB {samples.mean().shape[0]} hoidolle\")\n",
    "ssb = samples.mean().apply(lambda y: (y-mu)**2).sum()*t\n",
    "sse = tss-sst-ssb\n",
    "tss, sst, ssb, sse"
   ]
  },
  {
   "cell_type": "markdown",
   "metadata": {},
   "source": [
    "$$ \\text{TSS} = 30.05 $$\n",
    "$$ \\text{SST} = 14.28 $$\n",
    "$$ \\text{SSB} = 5.904 $$\n",
    "$$ \\text{SSE} = \\text{TSS}-\\text{SST}-\\text{SSB} = 9.862$$"
   ]
  },
  {
   "cell_type": "markdown",
   "metadata": {},
   "source": [
    "Tehtävässä käytettävät vapausasteet ovat \n",
    "\n",
    "$$ \\text{df}_t = t-1 = 1 $$\n",
    "$$ \\text{df}_b = b-1 = 23 $$\n",
    "$$ \\text{df}_e = (\\text{df}_t)(\\text{df}_b) = 23 $$\n",
    "$$ \\text{df}_{\\text{tot.}} = bt-1 = 47 $$\n"
   ]
  },
  {
   "cell_type": "markdown",
   "metadata": {},
   "source": [
    "Lasketaan seuraavaksi neliöidyt keskivirheet."
   ]
  },
  {
   "cell_type": "code",
   "execution_count": 185,
   "metadata": {},
   "outputs": [
    {
     "data": {
      "text/plain": [
       "(14.279008333333323, 0.2567115942028985, 0.42879963768115986)"
      ]
     },
     "execution_count": 185,
     "metadata": {},
     "output_type": "execute_result"
    }
   ],
   "source": [
    "df_t, df_b, df_e = 1, 23, 23\n",
    "mst = sst/df_t\n",
    "msb = ssb/df_b\n",
    "mse = sse/df_e\n",
    "mst, msb, mse"
   ]
  },
  {
   "cell_type": "markdown",
   "metadata": {},
   "source": [
    "$$ \\text{MST} = 14.28 $$\n",
    "$$ \\text{MSB} = .2567 $$\n",
    "$$ \\text{MSE} = .4288 $$\n"
   ]
  },
  {
   "cell_type": "markdown",
   "metadata": {},
   "source": [
    "Näiden arvojen avulla on jo mahdollista selvittää hoito- ja lohkokohtaiset $F$-arvot."
   ]
  },
  {
   "cell_type": "code",
   "execution_count": 186,
   "metadata": {},
   "outputs": [
    {
     "data": {
      "text/plain": [
       "(33.29995428762625, 0.5986749326355078)"
      ]
     },
     "execution_count": 186,
     "metadata": {},
     "output_type": "execute_result"
    }
   ],
   "source": [
    "f_t = mst/mse\n",
    "f_b = msb/mse\n",
    "f_t, f_b"
   ]
  },
  {
   "cell_type": "markdown",
   "metadata": {},
   "source": [
    "$$ F_t = 33.30 $$\n",
    "$$ F_b = .5987 $$"
   ]
  },
  {
   "cell_type": "markdown",
   "metadata": {},
   "source": [
    "Koska meitä kiinnostaa ennenkaikkea hoitojen eli kontrolliarvojen ja laitteen asennusten jälkeisten arvojen erojen merkitsevyys, tutkaillaan nollahypoteesin hylkäämistä $F_t$:n avulla. Koska tehtävässä määritetty $\\alpha =.05$, on kirjan taulukossa vapausasteita vastaava kriittinen raja\n",
    "\n",
    "$$ F_{.05, 1, 23} = 4.28 \\ll 33.30 $$\n",
    "\n",
    "Tämän tuloksen $p$-arvoksi saadaan haarukoimalla $F_t$-arvon sisällään pitävä $\\alpha$-arvon raja taulukosta. Sieltä lukien\n",
    "\n",
    "$$ p \\ll .001, \\text{ koska } F_{.001,1,23} = 14.03 $$\n",
    "\n",
    "Pieni $p$-arvo tarkoittaa merkittävää tukea tutkimuksen tulokselle."
   ]
  },
  {
   "cell_type": "markdown",
   "metadata": {},
   "source": [
    "**B. Compute the relative efficiency of the randomized complete block design (blocking\n",
    "on car) relative to a completely randomized design in which the 48 cars would have\n",
    "been randomly assigned to the two devices without regard to any pairing. Interpret\n",
    "the value of the relative efficiency.**"
   ]
  },
  {
   "cell_type": "markdown",
   "metadata": {},
   "source": [
    "Seuraavaksi on tehtävänä selvittää lohkomisen vaikutusta tutkimusasetelmaan. Ajatuksena on pohjimmiltaan selvittää, että saavutettiinko lohkomisella havaintokohtainen pienempi vaihtelu verrattuna täysin satunnaistettuun tutkimusasetelmaan. Suhteellinen tehokkuus lasketaan kaavalla\n",
    "\n",
    "$$ \\text{RE}(\\text{RCB},\\text{CR}) = \\frac{\\text{MSE}_{\\text{CR}}}{\\text{MSE}_{\\text{RCB}}} $$\n",
    "$$ \\text{MSE}_{\\text{CR}} = (b-1)\\text{MSB}+b(t-1)\\text{MSE} $$\n",
    "$$ \\text{MSE}_{\\text{RCB}} = (bt-1)\\text{MSE} $$\n",
    "\n",
    "Jotta lohkottu asetelma olisi tehokkaampi, tulisi suhdeluvun olla suuri. Tällöin satunnaistetussa asetelmassa tarvittaisiin enemmän havaintoja saman tarkkuuden saamiseen."
   ]
  },
  {
   "cell_type": "code",
   "execution_count": 188,
   "metadata": {},
   "outputs": [
    {
     "data": {
      "text/plain": [
       "0.8036068819280143"
      ]
     },
     "execution_count": 188,
     "metadata": {},
     "output_type": "execute_result"
    }
   ],
   "source": [
    "mse_cr = (b-1)*msb+(b*(t-1))*mse\n",
    "mse_rcb = (b*t-1)*mse\n",
    "re = mse_cr/mse_rcb\n",
    "re"
   ]
  },
  {
   "cell_type": "markdown",
   "metadata": {},
   "source": [
    "$$ \\text{RE}(\\text{RCB},\\text{CR}) = .8036 $$"
   ]
  },
  {
   "cell_type": "markdown",
   "metadata": {},
   "source": [
    "Suhdeluku on pieni, jotenka lohkominen ei tehostanut vertailua."
   ]
  },
  {
   "cell_type": "markdown",
   "metadata": {},
   "source": [
    "**C. Based on the relative efficiency computed in part (b), would you recommend pairing\n",
    "the cars in future studies?**"
   ]
  },
  {
   "cell_type": "markdown",
   "metadata": {},
   "source": [
    "Tätä ei voida suositella."
   ]
  }
 ],
 "metadata": {
  "kernelspec": {
   "display_name": "Python 3",
   "language": "python",
   "name": "python3"
  },
  "language_info": {
   "codemirror_mode": {
    "name": "ipython",
    "version": 3
   },
   "file_extension": ".py",
   "mimetype": "text/x-python",
   "name": "python",
   "nbconvert_exporter": "python",
   "pygments_lexer": "ipython3",
   "version": "3.7.3"
  },
  "toc": {
   "base_numbering": 1,
   "nav_menu": {},
   "number_sections": false,
   "sideBar": true,
   "skip_h1_title": true,
   "title_cell": "Sisällysluettelo",
   "title_sidebar": "Contents",
   "toc_cell": true,
   "toc_position": {},
   "toc_section_display": true,
   "toc_window_display": false
  }
 },
 "nbformat": 4,
 "nbformat_minor": 2
}

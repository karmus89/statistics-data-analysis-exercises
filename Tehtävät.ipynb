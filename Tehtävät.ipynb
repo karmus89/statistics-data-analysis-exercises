{
 "cells": [
  {
   "cell_type": "markdown",
   "metadata": {},
   "source": [
    "*Created by Petteri Nevavuori <<petteri.nevavuori@tuni.fi>>*"
   ]
  },
  {
   "cell_type": "markdown",
   "metadata": {},
   "source": [
    "# Tehtävät\n",
    "\n",
    "*Ott & Longnecker (2010): An Introduction to Statistics and Data Analysis*"
   ]
  },
  {
   "cell_type": "markdown",
   "metadata": {
    "toc": true
   },
   "source": [
    "<h1>Sisällysluettelo<span class=\"tocSkip\"></span></h1>\n",
    "<div class=\"toc\"><ul class=\"toc-item\"><li><span><a href=\"#5.41\" data-toc-modified-id=\"5.41-1\">5.41</a></span></li><li><span><a href=\"#5.49\" data-toc-modified-id=\"5.49-2\">5.49</a></span></li><li><span><a href=\"#6.36\" data-toc-modified-id=\"6.36-3\">6.36</a></span></li><li><span><a href=\"#7.23\" data-toc-modified-id=\"7.23-4\">7.23</a></span></li><li><span><a href=\"#8.06\" data-toc-modified-id=\"8.06-5\">8.06</a></span></li><li><span><a href=\"#9.12\" data-toc-modified-id=\"9.12-6\">9.12</a></span></li><li><span><a href=\"#10.06\" data-toc-modified-id=\"10.06-7\">10.06</a></span></li><li><span><a href=\"#11.01\" data-toc-modified-id=\"11.01-8\">11.01</a></span></li><li><span><a href=\"#12.08\" data-toc-modified-id=\"12.08-9\">12.08</a></span></li><li><span><a href=\"#13.08\" data-toc-modified-id=\"13.08-10\">13.08</a></span></li><li><span><a href=\"#14.17\" data-toc-modified-id=\"14.17-11\">14.17</a></span></li><li><span><a href=\"#15.04\" data-toc-modified-id=\"15.04-12\">15.04</a></span></li></ul></div>"
   ]
  },
  {
   "cell_type": "markdown",
   "metadata": {},
   "source": [
    "## 5.41\n",
    "\n",
    "A consumer testing agency wants to evaluate the claim made by a manufacturer of discount tires. The manufacturer claims that its tires can be driven at least 35,000 miles before wearing out. To determine the average number of miles that can be obtained from the manufacturer’s tires, the agency randomly selects 60 tires from the manufacturer’s warehouse and places the tires on 15 cars driven by test drivers on a 2-mile oval track. The number of miles driven (in thousands of miles) until the tires are determined to be worn out is given in the following table.\n",
    "\n",
    "| Car          | 1  | 2  | 3  | 4  | 5  | 6  | 7  | 8  | 9  | 10 | 11 | 12 | 13 | 14 | 15 |\n",
    "|--------------|----|----|----|----|----|----|----|----|----|----|----|----|----|----|----|\n",
    "| Miles Driven | 25 | 27 | 35 | 42 | 28 | 37 | 40 | 31 | 29 | 33 | 30 | 26 | 31 | 28 | 30 |\n",
    "\n",
    "$$n = 15$$\n",
    "$$\\bar{x} = 31.47$$ \n",
    "$$s = 5.04$$"
   ]
  },
  {
   "cell_type": "markdown",
   "metadata": {},
   "source": [
    "**A. Place a 99% confidence interval on the average number of miles driven, m, prior to the tires wearing out.**"
   ]
  },
  {
   "cell_type": "markdown",
   "metadata": {},
   "source": [
    "Vaikka meillä on käytössä jo näytteistä laskettuja tilastollisia suureita, aloitetaan silti visualisoimalla dataa karkealla histogrammilla."
   ]
  },
  {
   "cell_type": "code",
   "execution_count": 2,
   "metadata": {},
   "outputs": [],
   "source": [
    "import matplotlib.pyplot as plt\n",
    "import numpy as np\n",
    "import scipy\n",
    "import seaborn as sns\n",
    "sns.set(style='dark')\n",
    "\n",
    "samples = [25,27,35,42,28,37,40,31,29,33,30,26,31,28,30]\n",
    "samples_count = len(samples)\n",
    "samples_mean = 31.47\n",
    "samples_std = 5.04"
   ]
  },
  {
   "cell_type": "code",
   "execution_count": 3,
   "metadata": {},
   "outputs": [
    {
     "data": {
      "image/png": "[encoded data removed]",
      "text/plain": [
       "<Figure size 432x288 with 1 Axes>"
      ]
     },
     "metadata": {},
     "output_type": "display_data"
    }
   ],
   "source": [
    "plt.boxplot(samples, vert=False)\n",
    "plt.yticks([])\n",
    "plt.show()"
   ]
  },
  {
   "cell_type": "markdown",
   "metadata": {},
   "source": [
    "Kuvaajamme ilmaisee näytteiden jakauman olevan ennemmin vino kuin normaalijakautunut. Siksi keskiarvon sijasta olisi perustellumpaa käyttää mediaania jatkotoimenpiteissä. "
   ]
  },
  {
   "cell_type": "code",
   "execution_count": 5,
   "metadata": {},
   "outputs": [
    {
     "data": {
      "text/plain": [
       "30.0"
      ]
     },
     "execution_count": 5,
     "metadata": {},
     "output_type": "execute_result"
    }
   ],
   "source": [
    "samples_median = np.median(samples)\n",
    "samples_median"
   ]
  },
  {
   "cell_type": "markdown",
   "metadata": {},
   "source": [
    "$$ M_{\\text{samples}} = 30 $$"
   ]
  },
  {
   "cell_type": "markdown",
   "metadata": {},
   "source": [
    "Jatketaanpa siis luottamusvälin laskentaa. Ensin on vuorossa vapausasteiden määritys, jotta taulukosta saadaan luettua haluttuun luottamusarvoon liittyvä $t$-arvo.\n",
    "\n",
    "$$ \\text{df} = n - 1 = 14 $$\n",
    "\n",
    "Samoin hypoteesit on tässä kohdin määritettävä, sillä niiden määrittämisellä päästään haluttuun $\\alpha$-arvoon paremmin käsiksi. Tehtävänä on siis selvittää, että tukeeko data valmistajan väitettä renkaiden kestävyydestä. Valmistajan testattava hypoteesi on, että renkaiden keskiarvo on vähintään 35 tuhatta mailia, jolloin hypoteesit ovat\n",
    "\n",
    "$$ \\mu_0 = 35 $$\n",
    "$$ H_0: \\mu < \\mu_0 $$\n",
    "$$ H_a: \\mu \\ge \\mu_0 $$\n",
    "\n",
    "Nollahypoteesin hylkäysalue on toisin sanoen jakauman oikeassa laidassa, jolloin kyseessä on yksipuolinen hypoteesin testaus. Kun $\\alpha = 100\\% - 99\\% = 1\\%$, niin\n",
    "\n",
    "$$ t_{\\alpha} = 2.624 $$"
   ]
  },
  {
   "cell_type": "markdown",
   "metadata": {},
   "source": [
    "Kun $t$-arvo on tiedossa, lasketaan seuraavaksi luottamusvälin ala- ja ylärajat. Lasketaan ne *sekä keskiarvolla että mediaanilla*."
   ]
  },
  {
   "cell_type": "code",
   "execution_count": 8,
   "metadata": {},
   "outputs": [
    {
     "data": {
      "text/plain": [
       "(28.05533001104938, 34.88466998895061)"
      ]
     },
     "execution_count": 8,
     "metadata": {},
     "output_type": "execute_result"
    }
   ],
   "source": [
    "t = 2.624\n",
    "interval_low = samples_mean-t*samples_std/np.sqrt(samples_count)\n",
    "interval_high = samples_mean+t*samples_std/np.sqrt(samples_count)\n",
    "(interval_low, interval_high)"
   ]
  },
  {
   "cell_type": "code",
   "execution_count": 6,
   "metadata": {},
   "outputs": [
    {
     "data": {
      "text/plain": [
       "(26.585330011049383, 33.414669988950614)"
      ]
     },
     "execution_count": 6,
     "metadata": {},
     "output_type": "execute_result"
    }
   ],
   "source": [
    "interval_low = samples_median-t*samples_std/np.sqrt(samples_count)\n",
    "interval_high = samples_median+t*samples_std/np.sqrt(samples_count)\n",
    "(interval_low, interval_high)"
   ]
  },
  {
   "cell_type": "markdown",
   "metadata": {},
   "source": [
    "$$ \\text{CI}^{\\mu}_{99\\%} \\approx (28.055, 34.885) $$"
   ]
  },
  {
   "cell_type": "markdown",
   "metadata": {},
   "source": [
    "$$ \\text{CI}^{M}_{99\\%} \\approx (26.585, 33.415) $$"
   ]
  },
  {
   "cell_type": "markdown",
   "metadata": {},
   "source": [
    "Jo pelkästään sekä näytteiden keskiarvoon että mediaaniin sidotut luottamusvälit jättävät tavoitellun minimikeskiarvon (35) luottamusvälin ulkopuolelle."
   ]
  },
  {
   "cell_type": "markdown",
   "metadata": {},
   "source": [
    "**B. Is there significant evidence ($\\alpha = .01$) that the manufacturer’s claim is false? What is the level of significance of your test? Interpret your findings.**"
   ]
  },
  {
   "cell_type": "markdown",
   "metadata": {},
   "source": [
    "Seuraavaksi halutaan testatta varsinaiset hypoteesit. Koska meidän testimme ovat oikeahäntäisiä, on nollahypoteesin hylkäykselle perusteita, mikäli\n",
    "\n",
    "$$ t_{comp.} \\ge t_\\alpha $$\n",
    "\n",
    "Lasketaanpa siis seuraavaksi otoksen $t$-arvo erikseen sekä keskiarvolla että mediaanilla."
   ]
  },
  {
   "cell_type": "code",
   "execution_count": 9,
   "metadata": {},
   "outputs": [
    {
     "data": {
      "text/plain": [
       "-2.7126252404984497"
      ]
     },
     "execution_count": 9,
     "metadata": {},
     "output_type": "execute_result"
    }
   ],
   "source": [
    "mu_0 = 35\n",
    "samples_t = (samples_mean - mu_0)/(samples_std/np.sqrt(samples_count))\n",
    "samples_t"
   ]
  },
  {
   "cell_type": "code",
   "execution_count": 7,
   "metadata": {},
   "outputs": [
    {
     "data": {
      "text/plain": [
       "-3.8422453831422785"
      ]
     },
     "execution_count": 7,
     "metadata": {},
     "output_type": "execute_result"
    }
   ],
   "source": [
    "mu_0 = 35\n",
    "samples_t = (samples_median - mu_0)/(samples_std/np.sqrt(samples_count))\n",
    "samples_t"
   ]
  },
  {
   "cell_type": "markdown",
   "metadata": {},
   "source": [
    "$$ t_{\\mu} \\approx -2.713 \\ll t_\\alpha$$"
   ]
  },
  {
   "cell_type": "markdown",
   "metadata": {},
   "source": [
    "$$ t_{M} \\approx -3.842 \\ll t_\\alpha$$"
   ]
  },
  {
   "cell_type": "markdown",
   "metadata": {},
   "source": [
    "Tämän tuloksen perusteella voidaan todeta, että datassa ei ole riittävästi todisteita valmistajan väitteen tueksi, eli nollahypoteesia ei voida hylätä. Tarkistetaan vielä testin tuloksen merkitsevyystaso\n",
    "\n",
    "$$ p = P(t \\ge t_{comp.}) = P(t \\ge -2.173) $$\n",
    "\n",
    "Tämän todennäköisyyden selvittämiseen hyödynnetään kirjan taulukkoa siten, että todennäköisyyttä haarukoidaan tehtävässä käytettyjen vapausasteita vastaavan $t$-arvorivin eri $\\alpha$-arvoilla. Laskennallista $t$-arvoa lähin arvo on $t_{.40} = .258$. Koska taulukon $\\alpha$-arvot ovat vain väliltä ``.40 ... .0005`` ja pienin $t$-arvo saadaan suurimmalla $\\alpha$-arvolla, on\n",
    "\n",
    "$$ p > 0.40 \\gg \\alpha $$\n",
    "\n",
    "Nollahypoteesiä ei siis tule hylätä, jolloin valmistajan väitteelle ei ole tukea."
   ]
  },
  {
   "cell_type": "markdown",
   "metadata": {},
   "source": [
    "## 5.49\n",
    "\n",
    "Refer to Exercise 5.41."
   ]
  },
  {
   "cell_type": "markdown",
   "metadata": {},
   "source": [
    "**A. Use a computer program to obtain 1000 bootstrap samples from the 15 tire wear data. Use there 1000 samples to obtain the bootstrap $p$-value for the $t$ test of $H_a: \\mu < 35$.**"
   ]
  },
  {
   "cell_type": "markdown",
   "metadata": {},
   "source": [
    "Tässä tehtävässä käytetään keskiarvoa, sillä tiedossa on jo, että mediaanilla laskettu $t$-arvo on keskiarvoakin pienempi."
   ]
  },
  {
   "cell_type": "code",
   "execution_count": 112,
   "metadata": {},
   "outputs": [],
   "source": [
    "import matplotlib.pyplot as plt\n",
    "import numpy as np\n",
    "import scipy\n",
    "import seaborn as sns\n",
    "sns.set(style='dark')\n",
    "\n",
    "samples = [25,27,35,42,28,37,40,31,29,33,30,26,31,28,30]\n",
    "samples_count = len(samples)\n",
    "samples_mean = 31.47\n",
    "samples_std = 5.04\n",
    "\n",
    "bootstrap_samplings = 1000\n",
    "calculate_t = lambda mean, std: (mean - samples_mean)/(std/np.sqrt(samples_count))\n",
    "bootstrapped_ts = []\n",
    "\n",
    "for i in range(bootstrap_samplings):\n",
    "    bs_samples = [samples[np.random.randint(samples_count)] for i in range(samples_count)]\n",
    "    bs_t = calculate_t(np.mean(bs_samples), np.std(bs_samples))\n",
    "    bootstrapped_ts.append(bs_t)"
   ]
  },
  {
   "cell_type": "markdown",
   "metadata": {},
   "source": [
    "Visualisoidaanpa näin tuotetut $t$-arvot."
   ]
  },
  {
   "cell_type": "code",
   "execution_count": 113,
   "metadata": {},
   "outputs": [
    {
     "data": {
      "image/png": "[encoded data removed]",
      "text/plain": [
       "<Figure size 432x288 with 1 Axes>"
      ]
     },
     "metadata": {},
     "output_type": "display_data"
    }
   ],
   "source": [
    "plt.hist(bootstrapped_ts, bins=25)\n",
    "plt.show()"
   ]
  },
  {
   "cell_type": "markdown",
   "metadata": {},
   "source": [
    "Arvot ovat melko normaalijakautuneen näköisiä. Seuraavaksi arvot järjestetään ja otetaan tehtävänannon mukaisesti 99 % luottamusvälin laskentaan vaaditut $t$-arvot."
   ]
  },
  {
   "cell_type": "code",
   "execution_count": 37,
   "metadata": {},
   "outputs": [
    {
     "name": "stdout",
     "output_type": "stream",
     "text": [
      "(-4.830833519514148, 2.275607764210186)\n"
     ]
    }
   ],
   "source": [
    "t_low = sorted(bootstrapped_ts)[int(bootstrap_samplings*(0.005))]\n",
    "t_high = sorted(bootstrapped_ts)[int(bootstrap_samplings*(0.995))]\n",
    "print((t_low,t_high))"
   ]
  },
  {
   "cell_type": "markdown",
   "metadata": {},
   "source": [
    "$$\\hat{t}_{0.005} \\approx -4.831$$\n",
    "$$\\hat{t}_{0.995} \\approx 2.276$$\n"
   ]
  },
  {
   "cell_type": "markdown",
   "metadata": {},
   "source": [
    "Käyttämällä alkuperäisten näytteiden keskiarvoa ja keskihajontaa lasketaan likimääräisen luottamusvälin ala- ja ylärajat."
   ]
  },
  {
   "cell_type": "code",
   "execution_count": 38,
   "metadata": {},
   "outputs": [
    {
     "data": {
      "text/plain": [
       "(25.1835281094887, 34.43129936702421)"
      ]
     },
     "execution_count": 38,
     "metadata": {},
     "output_type": "execute_result"
    }
   ],
   "source": [
    "interval_low = samples_mean+(t_low*samples_std/np.sqrt(samples_count))\n",
    "interval_high = samples_mean+(t_high*samples_std/np.sqrt(samples_count))\n",
    "(interval_low, interval_high)"
   ]
  },
  {
   "cell_type": "markdown",
   "metadata": {},
   "source": [
    "$$ \\text{CI}^{\\mu}_{99\\%} \\approx (25.184, 34.431) \\text{, kun } \\alpha = .01 $$"
   ]
  },
  {
   "cell_type": "markdown",
   "metadata": {},
   "source": [
    "Luottamusvälin yläraja jää arvon 35 alle. Tämän jälkeen lasketaan niiden bootstrap-menetelmällä laskettujen $t$-arvojen osuus kaikista arvoista, joiden arvo on vähintään yhtä suuri kuin näytteistä laskettu $t$-arvo. Olkoot arvot ylittävien määrä $m$ ja kaikkien näytteistettyjen arvojen määr $B$, jolloin bootstrap-menetelmällä \n",
    "\n",
    "$$ p = \\frac{m}{B} $$"
   ]
  },
  {
   "cell_type": "code",
   "execution_count": 48,
   "metadata": {},
   "outputs": [
    {
     "data": {
      "text/plain": [
       "0.965"
      ]
     },
     "execution_count": 48,
     "metadata": {},
     "output_type": "execute_result"
    }
   ],
   "source": [
    "m = len([t for t in bootstrapped_ts if t >= samples_t])\n",
    "p = m / bootstrap_samplings\n",
    "p"
   ]
  },
  {
   "cell_type": "markdown",
   "metadata": {},
   "source": [
    "$$ p = \\frac{m}{B} = 0.965 = 96.5 \\% $$"
   ]
  },
  {
   "cell_type": "markdown",
   "metadata": {},
   "source": [
    "**B. Compare the $p$-value from part (a) to the $p$-value obtained in Exercise 5.41.**"
   ]
  },
  {
   "cell_type": "markdown",
   "metadata": {},
   "source": [
    "Harjoituksen 5.41 $p$-arvo jäi arvoitukseksi, sillä taulukosta haarukoiden ei loppujen lopuksi edes riittävän lähelle menevää $t$-arvoa ollut löydettävissä. Bootstrap-menetelmällä laskettu merkitsevyystaso taas antaa kuvan, että renkaan valmistaja on auttamattomasti luvannut liikoja."
   ]
  },
  {
   "cell_type": "markdown",
   "metadata": {},
   "source": [
    "## 6.36\n",
    "\n",
    "The effect of Benzedrine on the heart rate of dogs (in beats per minute) was examined in an experiment on 14 dogs chosen for the study. Each dog was to serve as its own control, with half of the dogs assigned to receive Benzedrine during the first study period and the other half assigned to receive a placebo (saline solution). All dogs were examined to determine the heart rates after\n",
    "2 hours on the medication. After 2 weeks in which no medication was given, the regimens for the dogs were switched for the second study period. The dogs previously on Benzedrinewere given the placebo and the others received Benzedrine. Again heart rates were measured after 2 hours. \n",
    "\n",
    "The following sample data are not arranged in the order in which they were taken but have been summarized by regimen. Use these data to test the research hypothesis that the distribution of heart rates for the dogs when receiving Benzedrine is shifted to the right of that for the same animals when on the placebo. Use a one-tailed Wilcoxon signed-rank test with $\\alpha = .05$.\n",
    "\n",
    "| Dog        | 1   | 2   | 3   | 4   | 5   | 6   | 7   | 8   | 9   | 10  | 11  | 12  | 13  | 14  |\n",
    "|------------|-----|-----|-----|-----|-----|-----|-----|-----|-----|-----|-----|-----|-----|-----|\n",
    "| Placebo    | 250 | 271 | 243 | 252 | 266 | 272 | 293 | 296 | 301 | 298 | 310 | 286 | 306 | 309 |\n",
    "| Benzedrine | 258 | 285 | 245 | 250 | 268 | 278 | 280 | 305 | 319 | 308 | 320 | 293 | 305 | 313 |"
   ]
  },
  {
   "cell_type": "code",
   "execution_count": 24,
   "metadata": {},
   "outputs": [],
   "source": [
    "import matplotlib.pyplot as plt\n",
    "import numpy as np\n",
    "import pandas as pd\n",
    "import scipy\n",
    "import seaborn as sns\n",
    "sns.set(style='dark')\n",
    "\n",
    "placebo = [250,271,243,252,266,272,293,296,301,298,310,286,306,309]\n",
    "benzedrine = [258,285,245,250,268,278,280,305,319,308,320,293,305,313]"
   ]
  },
  {
   "cell_type": "markdown",
   "metadata": {},
   "source": [
    "Aloitetaan ensin visualisoimalla datat päällekkäisillä histogrammeilla."
   ]
  },
  {
   "cell_type": "code",
   "execution_count": 12,
   "metadata": {},
   "outputs": [
    {
     "data": {
      "image/png": "[encoded data removed]",
      "text/plain": [
       "<Figure size 432x288 with 1 Axes>"
      ]
     },
     "metadata": {},
     "output_type": "display_data"
    }
   ],
   "source": [
    "plt.hist(placebo,bins=4,alpha=0.6,label='Placebo')\n",
    "plt.hist(benzedrine,bins=4,alpha=0.6,label='Benzedrine')\n",
    "plt.legend()\n",
    "plt.show()"
   ]
  },
  {
   "cell_type": "markdown",
   "metadata": {},
   "source": [
    "Kuvasta ainakin karkeasti näyttää siltä, että jotain eroa näytteissä on. Koska Wilcoxonin testi keskittyy eroihin, lasketaanpa vielä näytteiden erot ja piirretään erojen histogrammit. Erotus lasketaan siten, että ``placebo``-arvoista vähennetään ``benzedrine``-arvot."
   ]
  },
  {
   "cell_type": "code",
   "execution_count": 31,
   "metadata": {},
   "outputs": [
    {
     "data": {
      "image/png": "[encoded data removed]",
      "text/plain": [
       "<Figure size 432x288 with 1 Axes>"
      ]
     },
     "metadata": {},
     "output_type": "display_data"
    }
   ],
   "source": [
    "diffs = [p-b for p,b in zip(placebo, benzedrine)]\n",
    "plt.hist(diffs,bins=7,alpha=0.6,label='Diff')\n",
    "plt.legend()\n",
    "plt.show()"
   ]
  },
  {
   "cell_type": "markdown",
   "metadata": {},
   "source": [
    "Erotukset näyttävät jokseenkin normaalijakatuneilta. Samoin näyttää vahvasti siltä, että ``benzedrine``-arvot ovat pääsääntöisesti ``placebo``-arvoja suurempia, sillä erotukset näyttävät olevan ennemmin negatiivisella puolella. Järjestetään erotukset seuraavaksi absoluuttisen suuruden mukaiseen järjestykseen. Samalla otetaan talteen kunkin erotuksen merkki ja lasketaan absoluuttisten erotusten sijoitukset jaetut sijat huomioiden."
   ]
  },
  {
   "cell_type": "code",
   "execution_count": 58,
   "metadata": {
    "scrolled": false
   },
   "outputs": [
    {
     "data": {
      "text/html": [
       "<div>\n",
       "<style scoped>\n",
       "    .dataframe tbody tr th:only-of-type {\n",
       "        vertical-align: middle;\n",
       "    }\n",
       "\n",
       "    .dataframe tbody tr th {\n",
       "        vertical-align: top;\n",
       "    }\n",
       "\n",
       "    .dataframe thead th {\n",
       "        text-align: right;\n",
       "    }\n",
       "</style>\n",
       "<table border=\"1\" class=\"dataframe\">\n",
       "  <thead>\n",
       "    <tr style=\"text-align: right;\">\n",
       "      <th></th>\n",
       "      <th>Diff</th>\n",
       "      <th>SignPos</th>\n",
       "      <th>AbsDiff</th>\n",
       "      <th>Rank</th>\n",
       "    </tr>\n",
       "  </thead>\n",
       "  <tbody>\n",
       "    <tr>\n",
       "      <th>12</th>\n",
       "      <td>1</td>\n",
       "      <td>True</td>\n",
       "      <td>1</td>\n",
       "      <td>1.000000</td>\n",
       "    </tr>\n",
       "    <tr>\n",
       "      <th>2</th>\n",
       "      <td>-2</td>\n",
       "      <td>False</td>\n",
       "      <td>2</td>\n",
       "      <td>2.333333</td>\n",
       "    </tr>\n",
       "    <tr>\n",
       "      <th>3</th>\n",
       "      <td>2</td>\n",
       "      <td>True</td>\n",
       "      <td>2</td>\n",
       "      <td>2.333333</td>\n",
       "    </tr>\n",
       "    <tr>\n",
       "      <th>4</th>\n",
       "      <td>-2</td>\n",
       "      <td>False</td>\n",
       "      <td>2</td>\n",
       "      <td>2.333333</td>\n",
       "    </tr>\n",
       "    <tr>\n",
       "      <th>13</th>\n",
       "      <td>-4</td>\n",
       "      <td>False</td>\n",
       "      <td>4</td>\n",
       "      <td>5.000000</td>\n",
       "    </tr>\n",
       "    <tr>\n",
       "      <th>5</th>\n",
       "      <td>-6</td>\n",
       "      <td>False</td>\n",
       "      <td>6</td>\n",
       "      <td>6.000000</td>\n",
       "    </tr>\n",
       "    <tr>\n",
       "      <th>11</th>\n",
       "      <td>-7</td>\n",
       "      <td>False</td>\n",
       "      <td>7</td>\n",
       "      <td>7.000000</td>\n",
       "    </tr>\n",
       "    <tr>\n",
       "      <th>0</th>\n",
       "      <td>-8</td>\n",
       "      <td>False</td>\n",
       "      <td>8</td>\n",
       "      <td>8.000000</td>\n",
       "    </tr>\n",
       "    <tr>\n",
       "      <th>7</th>\n",
       "      <td>-9</td>\n",
       "      <td>False</td>\n",
       "      <td>9</td>\n",
       "      <td>9.000000</td>\n",
       "    </tr>\n",
       "    <tr>\n",
       "      <th>9</th>\n",
       "      <td>-10</td>\n",
       "      <td>False</td>\n",
       "      <td>10</td>\n",
       "      <td>10.500000</td>\n",
       "    </tr>\n",
       "    <tr>\n",
       "      <th>10</th>\n",
       "      <td>-10</td>\n",
       "      <td>False</td>\n",
       "      <td>10</td>\n",
       "      <td>10.500000</td>\n",
       "    </tr>\n",
       "    <tr>\n",
       "      <th>6</th>\n",
       "      <td>13</td>\n",
       "      <td>True</td>\n",
       "      <td>13</td>\n",
       "      <td>12.000000</td>\n",
       "    </tr>\n",
       "    <tr>\n",
       "      <th>1</th>\n",
       "      <td>-14</td>\n",
       "      <td>False</td>\n",
       "      <td>14</td>\n",
       "      <td>13.000000</td>\n",
       "    </tr>\n",
       "    <tr>\n",
       "      <th>8</th>\n",
       "      <td>-18</td>\n",
       "      <td>False</td>\n",
       "      <td>18</td>\n",
       "      <td>14.000000</td>\n",
       "    </tr>\n",
       "  </tbody>\n",
       "</table>\n",
       "</div>"
      ],
      "text/plain": [
       "    Diff  SignPos  AbsDiff       Rank\n",
       "12     1     True        1   1.000000\n",
       "2     -2    False        2   2.333333\n",
       "3      2     True        2   2.333333\n",
       "4     -2    False        2   2.333333\n",
       "13    -4    False        4   5.000000\n",
       "5     -6    False        6   6.000000\n",
       "11    -7    False        7   7.000000\n",
       "0     -8    False        8   8.000000\n",
       "7     -9    False        9   9.000000\n",
       "9    -10    False       10  10.500000\n",
       "10   -10    False       10  10.500000\n",
       "6     13     True       13  12.000000\n",
       "1    -14    False       14  13.000000\n",
       "8    -18    False       18  14.000000"
      ]
     },
     "execution_count": 58,
     "metadata": {},
     "output_type": "execute_result"
    }
   ],
   "source": [
    "df = pd.DataFrame(diffs,columns=['Diff'])\n",
    "df['SignPos'] = df['Diff'] >= 0\n",
    "df['AbsDiff'] = df['Diff'].abs()\n",
    "df['Rank'] = 0\n",
    "df = df.sort_values(by='AbsDiff')\n",
    "\n",
    "rank = 1\n",
    "for abs_diff in df['AbsDiff'].unique():\n",
    "    values = df[df['AbsDiff'] == abs_diff]\n",
    "    count = values.shape[0]\n",
    "    fraction = 0 if count == 1 else (1 / count)\n",
    "    df.loc[values.index, 'Rank'] = rank + fraction\n",
    "    rank += count\n",
    "df"
   ]
  },
  {
   "cell_type": "markdown",
   "metadata": {},
   "source": [
    "Seuraavaksi on vuorossa sekä negatiivisten että positiivisten sijoitusten yhteenlasku."
   ]
  },
  {
   "cell_type": "code",
   "execution_count": 61,
   "metadata": {},
   "outputs": [
    {
     "data": {
      "text/plain": [
       "(87.66666666666667, 15.333333333333334)"
      ]
     },
     "execution_count": 61,
     "metadata": {},
     "output_type": "execute_result"
    }
   ],
   "source": [
    "t_minus = df.loc[:,'Rank'][df['SignPos'] == False].sum()\n",
    "t_plus = df.loc[:,'Rank'][df['SignPos'] == True].sum()\n",
    "t_minus,t_plus"
   ]
  },
  {
   "cell_type": "markdown",
   "metadata": {},
   "source": [
    "$$T_{\\text{-}} \\approx 87.7 $$\n",
    "$$T_{\\text{+}} \\approx 15.3 \\rightarrow T $$"
   ]
  },
  {
   "cell_type": "markdown",
   "metadata": {},
   "source": [
    "Tehtävänantona oli suorittaa yksipuolinen Wilcoxonin sign-rank-testi. Tehtävän hypoteesit ovat\n",
    "\n",
    "$$H_0: \\text{Benzedriini ei nosta sykettä}$$\n",
    "$$H_a: \\text{Benzedriini nostaa sykettä}$$\n",
    "\n",
    "Kun tiedossa on, että positiivisia sijoituksia oli negatiivisia vähemmän, tarkastetaan seuraavaksi määritellyn $\\alpha$-arvon mukainen merkitsevyystaso kirjan taulukosta. Taulukosta etsitään $p=.05$ ja $n=14$ vastaava raja. Mikäli $T$ on pienempi tai yhtäsuuri kuin raja-arvo, $H_0$ tulee hylätä.\n",
    "\n",
    "$$\\text{Kriittinen raja-arvo} = 25 > T \\rightarrow H_0 \\text{ hylätään}$$"
   ]
  },
  {
   "cell_type": "markdown",
   "metadata": {},
   "source": [
    "Benzedriini toisinsanoen nostaa sykettä."
   ]
  },
  {
   "cell_type": "markdown",
   "metadata": {},
   "source": [
    "## 7.23\n",
    "\n",
    "A consumer-protection magazine was interested in comparing tires purchased from two different companies that each claimed their tires would last 40,000 miles. A random sample of 10 tires of each brand was obtained and tested under simulated road conditions. The number of miles until the tread thickness reached a specified depth was recorded for all tires. The data are\n",
    "given next (in 1,000 miles).\n",
    "\n",
    "| Brand I  | 38.9 | 39.7 | 42.3 | 39.5 | 39.6 | 35.6 | 36.0 | 39.2 | 37.6 | 39.5 |\n",
    "|----------|------|------|------|------|------|------|------|------|------|------|\n",
    "| Brand II | 44.6 | 46.9 | 48.7 | 41.5 | 37.5 | 33.1 | 43.4 | 36.5 | 32.5 | 42.0 |"
   ]
  },
  {
   "cell_type": "markdown",
   "metadata": {},
   "source": [
    "**A. Plot the data and compare the distributions of longevity for the two brands.**"
   ]
  },
  {
   "cell_type": "code",
   "execution_count": 7,
   "metadata": {},
   "outputs": [],
   "source": [
    "import matplotlib.pyplot as plt\n",
    "import numpy as np\n",
    "import pandas as pd\n",
    "import scipy.stats\n",
    "import seaborn as sns\n",
    "sns.set(style='dark')\n",
    "pd.options.display.float_format = '{:.3f}'.format\n",
    "\n",
    "brand_1 = [38.9,39.7,42.3,39.5,39.6,35.6,36.0,39.2,37.6,39.5]\n",
    "brand_2 = [44.6,46.9,48.7,41.5,37.5,33.1,43.4,36.5,32.5,42.0]"
   ]
  },
  {
   "cell_type": "markdown",
   "metadata": {},
   "source": [
    "Ensimmäisessä tehtävässä tulee visualisoida näytteitä ja niiden jakaumia. Aloitetaan tilastollisilla tunnusluvuilla."
   ]
  },
  {
   "cell_type": "code",
   "execution_count": 8,
   "metadata": {
    "scrolled": true
   },
   "outputs": [
    {
     "data": {
      "text/html": [
       "<div>\n",
       "<style scoped>\n",
       "    .dataframe tbody tr th:only-of-type {\n",
       "        vertical-align: middle;\n",
       "    }\n",
       "\n",
       "    .dataframe tbody tr th {\n",
       "        vertical-align: top;\n",
       "    }\n",
       "\n",
       "    .dataframe thead th {\n",
       "        text-align: right;\n",
       "    }\n",
       "</style>\n",
       "<table border=\"1\" class=\"dataframe\">\n",
       "  <thead>\n",
       "    <tr style=\"text-align: right;\">\n",
       "      <th></th>\n",
       "      <th>Brand 1</th>\n",
       "      <th>Brand 2</th>\n",
       "    </tr>\n",
       "  </thead>\n",
       "  <tbody>\n",
       "    <tr>\n",
       "      <th>count</th>\n",
       "      <td>10.000</td>\n",
       "      <td>10.000</td>\n",
       "    </tr>\n",
       "    <tr>\n",
       "      <th>mean</th>\n",
       "      <td>38.790</td>\n",
       "      <td>40.670</td>\n",
       "    </tr>\n",
       "    <tr>\n",
       "      <th>std</th>\n",
       "      <td>1.954</td>\n",
       "      <td>5.579</td>\n",
       "    </tr>\n",
       "    <tr>\n",
       "      <th>min</th>\n",
       "      <td>35.600</td>\n",
       "      <td>32.500</td>\n",
       "    </tr>\n",
       "    <tr>\n",
       "      <th>25%</th>\n",
       "      <td>37.925</td>\n",
       "      <td>36.750</td>\n",
       "    </tr>\n",
       "    <tr>\n",
       "      <th>50%</th>\n",
       "      <td>39.350</td>\n",
       "      <td>41.750</td>\n",
       "    </tr>\n",
       "    <tr>\n",
       "      <th>75%</th>\n",
       "      <td>39.575</td>\n",
       "      <td>44.300</td>\n",
       "    </tr>\n",
       "    <tr>\n",
       "      <th>max</th>\n",
       "      <td>42.300</td>\n",
       "      <td>48.700</td>\n",
       "    </tr>\n",
       "  </tbody>\n",
       "</table>\n",
       "</div>"
      ],
      "text/plain": [
       "       Brand 1  Brand 2\n",
       "count   10.000   10.000\n",
       "mean    38.790   40.670\n",
       "std      1.954    5.579\n",
       "min     35.600   32.500\n",
       "25%     37.925   36.750\n",
       "50%     39.350   41.750\n",
       "75%     39.575   44.300\n",
       "max     42.300   48.700"
      ]
     },
     "execution_count": 8,
     "metadata": {},
     "output_type": "execute_result"
    }
   ],
   "source": [
    "df = pd.DataFrame()\n",
    "df['Brand 1'] = brand_1\n",
    "df['Brand 2'] = brand_2\n",
    "df.describe()"
   ]
  },
  {
   "cell_type": "markdown",
   "metadata": {},
   "source": [
    "Eli toisin ilmaistuna:\n",
    "\n",
    "$$\\bar{x}_1 = 38.790 \\hspace{0.5cm}\\text{ja}\\hspace{0.5cm} s_1 = 1.954$$\n",
    "$$\\bar{x}_2 = 40.670 \\hspace{0.5cm}\\text{ja}\\hspace{0.5cm} s_2 = 5.579$$"
   ]
  },
  {
   "cell_type": "markdown",
   "metadata": {},
   "source": [
    "Jatketaanpa histogrammeilla."
   ]
  },
  {
   "cell_type": "code",
   "execution_count": 9,
   "metadata": {
    "scrolled": true
   },
   "outputs": [
    {
     "data": {
      "image/png": "[encoded data removed]",
      "text/plain": [
       "<Figure size 432x288 with 1 Axes>"
      ]
     },
     "metadata": {},
     "output_type": "display_data"
    }
   ],
   "source": [
    "df.plot.hist(alpha=0.6)\n",
    "plt.show()"
   ]
  },
  {
   "cell_type": "markdown",
   "metadata": {},
   "source": [
    "Kakkosbrändillä näyttäisi olevan enemmän hajontaa ykkösbrändiin nähden. Piirretäänpä vielä laatikkojanakuvaajat."
   ]
  },
  {
   "cell_type": "code",
   "execution_count": 10,
   "metadata": {},
   "outputs": [
    {
     "data": {
      "image/png": "[encoded data removed]",
      "text/plain": [
       "<Figure size 432x288 with 1 Axes>"
      ]
     },
     "metadata": {},
     "output_type": "display_data"
    }
   ],
   "source": [
    "df.plot.box(vert=False)\n",
    "plt.show()"
   ]
  },
  {
   "cell_type": "markdown",
   "metadata": {},
   "source": [
    "Samoin on laita myös laatikkojanakuvaajien mukaan. Vaikka ensimmäisen brändin kohdalla yksi arvoista jää poikkeavaksi, silmämääräisesti sen kuuluminen viiksen sisään näyttäisi olevan kuitenkin aika pienestä kiinni. \n",
    "\n",
    "Tämän lisäksi meitä kiinnostaa myös se, että onko brändikohtaiset näytteet normaalijakautuneita vai ei. Tuotetaan tätä varten vielä normaalijakaumakuvaajat."
   ]
  },
  {
   "cell_type": "code",
   "execution_count": 25,
   "metadata": {},
   "outputs": [
    {
     "data": {
      "image/png": "[encoded data removed]",
      "text/plain": [
       "<Figure size 432x288 with 1 Axes>"
      ]
     },
     "metadata": {},
     "output_type": "display_data"
    },
    {
     "data": {
      "image/png": "[encoded data removed]",
      "text/plain": [
       "<Figure size 432x288 with 1 Axes>"
      ]
     },
     "metadata": {},
     "output_type": "display_data"
    }
   ],
   "source": [
    "_,stats = scipy.stats.probplot(brand_1,plot=plt,)\n",
    "plt.title(\"Brand 1: Probability Plot\")\n",
    "plt.gca().legend((\"Samples\",f\"$R^2$: {stats[-1]**2:.3f}\"))\n",
    "plt.grid()\n",
    "plt.show()\n",
    "_,stats = scipy.stats.probplot(brand_2,plot=plt)\n",
    "plt.title(\"Brand 2: Probability Plot\")\n",
    "plt.gca().legend((\"Samples\",f\"$R^2$: {stats[-1]**2:.3f}\"))\n",
    "plt.grid()\n",
    "plt.show()"
   ]
  },
  {
   "cell_type": "markdown",
   "metadata": {},
   "source": [
    "Joskin ensimmäisen brändin kohdalla näytteet eivät sananmukaisesti halaa normaalijakaumaviivaa, ovat ne kuitenkin melko kauniisti asettuneet sen ympärille eikä hirmuisen suuresti poikkeavia arvoja löydy. Toisen brändin kohdalla arvot ovat ja melko hyvin normaalijakaumakäyrällä."
   ]
  },
  {
   "cell_type": "markdown",
   "metadata": {},
   "source": [
    "**B. Construct 95% confidence intervals on the means and standard deviations for the\n",
    "number of miles until tread wearout occurred for both brands.**"
   ]
  },
  {
   "cell_type": "markdown",
   "metadata": {},
   "source": [
    "Seuraavaksi jatketaan 95 % luottamusvälien laskennalla brändikohtaisille keskiarvoille ja -hajonnoille. Aloitetaan keskiarvoista. Näytteiden vähyyden vuoksi tässä kohdin turvaudutaan jo aiemmin tutuksi tulleseen bootstrap-menetelmään."
   ]
  },
  {
   "cell_type": "code",
   "execution_count": 17,
   "metadata": {},
   "outputs": [],
   "source": [
    "def bootstrap_t_values(samples):\n",
    "    samples_count = len(samples)\n",
    "    samples_mean = np.mean(samples)\n",
    "    samples_std = np.std(samples)\n",
    "\n",
    "    bootstrapped_ts = []\n",
    "    for i in range(1000):\n",
    "        bs_samples = [samples[np.random.randint(samples_count)] for i in range(samples_count)]\n",
    "        bs_t = (np.mean(bs_samples) - samples_mean)/(np.std(bs_samples)/np.sqrt(samples_count))\n",
    "        bootstrapped_ts.append(bs_t)\n",
    "    return sorted(bootstrapped_ts)\n",
    "\n",
    "brand_1_ts = bootstrap_t_values(brand_1)\n",
    "brand_2_ts = bootstrap_t_values(brand_2)"
   ]
  },
  {
   "cell_type": "markdown",
   "metadata": {},
   "source": [
    "Visualisoidaan tuotetut $t$-arvot histogrammein."
   ]
  },
  {
   "cell_type": "code",
   "execution_count": 18,
   "metadata": {},
   "outputs": [
    {
     "data": {
      "image/png": "[encoded data removed]",
      "text/plain": [
       "<Figure size 432x288 with 1 Axes>"
      ]
     },
     "metadata": {},
     "output_type": "display_data"
    }
   ],
   "source": [
    "plt.hist(brand_1_ts,bins=40,alpha=0.6,label='Brand 1')\n",
    "plt.hist(brand_2_ts,bins=40,alpha=0.6,label='Brand 2')\n",
    "plt.legend()\n",
    "plt.title(\"Histograms of bootstrapped $t$-values\")\n",
    "plt.xlabel(\"$t$-value\")\n",
    "plt.ylabel(\"Count\")\n",
    "plt.show()"
   ]
  },
  {
   "cell_type": "markdown",
   "metadata": {},
   "source": [
    "Jotain hienoista eroa on huomattavissa. Lasketaanpa seuraavaksi vaihteluvälit brändikohtaisesti."
   ]
  },
  {
   "cell_type": "code",
   "execution_count": 19,
   "metadata": {},
   "outputs": [
    {
     "name": "stdout",
     "output_type": "stream",
     "text": [
      "Brand 1: (37.488, 40.642)\n",
      "Brand 2: (36.545, 45.130)\n"
     ]
    }
   ],
   "source": [
    "def calculate_mean_ci(samples, bootstrapped_ts, alpha):\n",
    "    samples_count = len(samples)\n",
    "    samples_mean = np.mean(samples)\n",
    "    samples_std = np.std(samples)\n",
    "\n",
    "    t_low = bootstrapped_ts[int(len(bootstrapped_ts)*(0+alpha/2))]\n",
    "    t_high = bootstrapped_ts[int(len(bootstrapped_ts)*(1-alpha/2))]\n",
    "\n",
    "    interval_low = samples_mean+(t_low*samples_std/np.sqrt(samples_count))\n",
    "    interval_high = samples_mean+(t_high*samples_std/np.sqrt(samples_count))\n",
    "    \n",
    "    return (interval_low, interval_high)\n",
    "\n",
    "brand_1_mean_ci = calculate_mean_ci(brand_1, brand_1_ts, 0.05)\n",
    "brand_2_mean_ci = calculate_mean_ci(brand_2, brand_2_ts, 0.05)\n",
    "\n",
    "print(f\"Brand 1: ({brand_1_mean_ci[0]:.3f}, {brand_1_mean_ci[1]:.3f})\")\n",
    "print(f\"Brand 2: ({brand_2_mean_ci[0]:.3f}, {brand_2_mean_ci[1]:.3f})\")\n"
   ]
  },
  {
   "cell_type": "markdown",
   "metadata": {},
   "source": [
    "Seuraavaksi on vuorossa keskihajonnan vaihteluvälien selvitys. Koska molempien jakaumien kohdilla voidaan ensimmäiseen osioon nojaten tehdä oletus normaalijakautuneisuudesta (kirjassa on kutakuinkin yhtä heitteleviä kuvaajia nimetty normaalijakautuneiksi), edetään $\\chi^2$-pohjaisilla hajonnan vaihteluvälin selvitysmenetelmillä. Menetelmää varten vaadittavat suureet ovat\n",
    "\n",
    "$$\\alpha = 0.05$$\n",
    "$$ \\text{df}=9 $$\n",
    "$$ s_1 = 1.954 $$\n",
    "$$ s_2 = 5.579 $$\n",
    "\n",
    "Koska $\\chi^2$-raja-arvot ovat riippuvaisia vain $\\alpha$:sta ja vapausasteista, ne ovat\n",
    "\n",
    "$$\\chi^2_L=19.02 \\hspace{0.5cm}\\text{ja}\\hspace{0.5cm} \\chi^2_R=2.700 $$\n",
    "\n",
    "Lasketaan lopuksi vielä brändikohtaiset hajonnan vaihteluvälit näitä tietoja käyttäen."
   ]
  },
  {
   "cell_type": "code",
   "execution_count": 20,
   "metadata": {},
   "outputs": [
    {
     "name": "stdout",
     "output_type": "stream",
     "text": [
      "Brand 1: (1.344, 3.567)\n",
      "Brand 2: (3.838, 10.186)\n"
     ]
    }
   ],
   "source": [
    "df = 9\n",
    "s1 = 1.954\n",
    "s2 = 5.579\n",
    "chi2_left = 19.02\n",
    "chi2_right = 2.7\n",
    "\n",
    "calculate_std_ci = lambda s: (np.sqrt(df*s**2/chi2_left),np.sqrt(df*s**2/chi2_right))\n",
    "\n",
    "brand_1_std_ci = calculate_std_ci(s1)\n",
    "brand_2_std_ci = calculate_std_ci(s2)\n",
    "\n",
    "print(f\"Brand 1: ({brand_1_std_ci[0]:.3f}, {brand_1_std_ci[1]:.3f})\")\n",
    "print(f\"Brand 2: ({brand_2_std_ci[0]:.3f}, {brand_2_std_ci[1]:.3f})\")"
   ]
  },
  {
   "cell_type": "markdown",
   "metadata": {},
   "source": [
    "Lopputulos luottamusvälien kohdalla on siis seuraava:\n",
    "\n",
    "$$\\text{Brand 1}: \\text{CI}^{\\mu}_{95\\%}=(37.488, 40.642) \\hspace{0.5cm}\\text{ja}\\hspace{0.5cm} \\text{CI}^{\\sigma}_{95\\%}=(1.344, 3.567)$$\n",
    "$$\\text{Brand 2}: \\text{CI}^{\\mu}_{95\\%}=(36.545, 45.130) \\hspace{0.5cm}\\text{ja}\\hspace{0.5cm} \\text{CI}^{\\sigma}_{95\\%}=(3.838, 10.186)$$\n"
   ]
  },
  {
   "cell_type": "markdown",
   "metadata": {},
   "source": [
    "**C. Does there appear to be a difference in wear characteristics for the two brands? Justify\n",
    "your statement with appropriate plots of the data, tests of hypotheses, and confidence\n",
    "intervals.**"
   ]
  },
  {
   "cell_type": "markdown",
   "metadata": {},
   "source": [
    "Lopuksi tulee vielä vertailla brändien otoksia keskenään. Pelkästään luottamusvälien kohdalla voidaan todeta, että otosten populaatioiden kulumarajojen keskiarvot ovat samalla alueella. Ero tulee hajonnan suuruuksissa, jossa toisen brändin hajonnan luottamusvälin alaraja on suurempi, kuin esimmäisen brändin hajonnan luottamusvälin yläraja. Esitetäänpä tämä vielä kuvaajana."
   ]
  },
  {
   "cell_type": "code",
   "execution_count": 42,
   "metadata": {},
   "outputs": [
    {
     "data": {
      "image/png": "[encoded data removed]",
      "text/plain": [
       "<Figure size 432x288 with 1 Axes>"
      ]
     },
     "metadata": {},
     "output_type": "display_data"
    },
    {
     "data": {
      "image/png": "[encoded data removed]",
      "text/plain": [
       "<Figure size 432x288 with 1 Axes>"
      ]
     },
     "metadata": {},
     "output_type": "display_data"
    }
   ],
   "source": [
    "plt.plot((37.488, 40.642),(6,6),marker='o',label='Brand 1')\n",
    "plt.plot((36.545, 45.130),(4,4),marker='o',label='Brand 2')\n",
    "plt.ylim(0,10);plt.yticks([]);plt.legend()\n",
    "plt.title(\"Confidence Intervals of $\\mu$\")\n",
    "plt.show()\n",
    "\n",
    "plt.plot((1.344, 3.567),(6,6),marker='o',label='Brand 1')\n",
    "plt.plot((3.838, 10.186),(4,4),marker='o',label='Brand 2')\n",
    "plt.ylim(0,10);plt.yticks([]);plt.legend()\n",
    "plt.title(\"Confidence Intervals of $\\sigma$\")\n",
    "plt.show()"
   ]
  },
  {
   "cell_type": "markdown",
   "metadata": {},
   "source": [
    "Kuten kuvaajista voi nähdä ja lasketuista hajontojen luottamusväleistä samoin todeta, ovat brändien hajonnat toisistaan täysin poikkeavat. Kuvaajien perusteella kuitenkin intuitiivisesti voitaisiin todeta, että kakkosbrändin keskiarvo voisi olla silti ensimmäistä brändiä korkeampi. Testataanpa tätä hypoteesiä. Kun $\\mu_1$ on ensimmäisen brändin keskiarvo ja $\\mu_2$ toisen, niin\n",
    "\n",
    "$$ \\text{df} = 9 $$\n",
    "$$ \\alpha = 5\\% $$\n",
    "\n",
    "$$ \\mu_2 \\rightarrow \\mu_0 $$\n",
    "$$ H_0 = \\mu_1 \\ge \\mu_0 $$\n",
    "$$ H_a = \\mu_1 < \\mu_0 $$\n",
    "\n",
    "Kyseessä on siis yksipuolinen testi. Aloitetaan katsomalla taulukosta $t$-arvon raja-arvo, joka on\n",
    "\n",
    "$$ t_\\alpha = 1.833 $$\n",
    "\n",
    "Jatketaan seuraavaksi ensimmäisen brändin laskennallisen $t$-arvon laskemisella."
   ]
  },
  {
   "cell_type": "code",
   "execution_count": 45,
   "metadata": {},
   "outputs": [
    {
     "data": {
      "text/plain": [
       "-3.206818654011671"
      ]
     },
     "execution_count": 45,
     "metadata": {},
     "output_type": "execute_result"
    }
   ],
   "source": [
    "mu_0 = np.mean(brand_2)\n",
    "brand_1_t = (np.mean(brand_1) - mu_0)/(np.std(brand_1)/np.sqrt(len(brand_1)))\n",
    "brand_1_t"
   ]
  },
  {
   "cell_type": "markdown",
   "metadata": {},
   "source": [
    "$$ t_1 \\approx -3.207 \\ll t_\\alpha $$"
   ]
  },
  {
   "cell_type": "markdown",
   "metadata": {},
   "source": [
    "Selvitetäänpä asiaa vielä toisesta näkökulmasta. Käännetään hypoteesit toisin päin siten, että testattavaa onkin toisen brändin keskiarvo.\n",
    "\n",
    "$$ \\mu_1 \\rightarrow \\mu_0 $$\n",
    "$$ H_0 = \\mu_2 \\le \\mu_0 $$\n",
    "$$ H_a = \\mu_2 > \\mu_0 $$\n",
    "\n",
    "Koska $t_\\alpha$ pysyy samana, voidaan $t_2$ laskea suoraan."
   ]
  },
  {
   "cell_type": "code",
   "execution_count": 46,
   "metadata": {},
   "outputs": [
    {
     "data": {
      "text/plain": [
       "1.1232321145693316"
      ]
     },
     "execution_count": 46,
     "metadata": {},
     "output_type": "execute_result"
    }
   ],
   "source": [
    "mu_0 = np.mean(brand_1)\n",
    "brand_2_t = (np.mean(brand_2) - mu_0)/(np.std(brand_2)/np.sqrt(len(brand_2)))\n",
    "brand_2_t"
   ]
  },
  {
   "cell_type": "markdown",
   "metadata": {},
   "source": [
    "$$ t_2 \\approx 1.123 < t_\\alpha $$"
   ]
  },
  {
   "cell_type": "markdown",
   "metadata": {},
   "source": [
    "Nollahypoteesiä ei kummassakaan tapauksessa voida ainakaan käytettävissä olevan datan perusteella hylätä. Toisin sanoen varmuutta siitä, onko toinen brändeistä merkittävästi toista parempi, ei voida saada. Jos jotain, voidaan se todeta, että ensimmäisen brändin laatu on tasaisempaa, kuin toisen."
   ]
  },
  {
   "cell_type": "markdown",
   "metadata": {},
   "source": [
    "## 8.06\n",
    "\n",
    "A large laboratory has four types of devices used to determine the pH of soil samples. The laboratory wants to determine whether there are differences in the average readings given by these devices. The lab uses 24 soil samples having known pH in the study, and randomly assigns six of the samples to each device. The soil samples are tested and the response recorded is the difference between the pH reading of the device and the known pH of the soil. These values, along with summary statistics, are given in the following table.\n",
    "\n",
    "| Device/Sample | 1     | 2     | 3     | 4     | 5     | 6     | Size | Mean   | Deviation |\n",
    "|---------------|-------|-------|-------|-------|-------|-------|------|--------|-----------|\n",
    "| A             | -.307 | -.294 | .079  | .019  | -.136 | -.324 | 6    | -.1605 | .1767     |\n",
    "| B             | -.176 | .125  | -.013 | .082  | .091  | .459  | 6    | .0947  | .2091     |\n",
    "| C             | .137  | -.063 | .240  | -.050 | .318  | .154  | 6    | .1227  | .1532     |\n",
    "| D             | -.042 | .690  | .201  | .166  | .219  | .407  | 6    | .2735  | .2492     |"
   ]
  },
  {
   "cell_type": "markdown",
   "metadata": {},
   "source": [
    "**A. Based on your intuition, is there evidence to indicate any difference among the mean\n",
    "differences in pH readings for the four devices?**"
   ]
  },
  {
   "cell_type": "markdown",
   "metadata": {},
   "source": [
    "Ensin tehtävänä on käyttää vain omaa intuitiota laitteiden välisten mittauserojen tarkasteluun. Tarkemmin sanottuna päätellä tulisi, että onko erot merkittäviä laitekohtaisten päätelmien tekemiseksi. Erotushan lasketaan tehtävänannossa \n",
    "\n",
    "$$\\text{pH}_\\text{true} - \\text{pH}_\\text{measured}$$\n",
    "\n",
    "- A: Laitteen keskiarvo ja hajonta huomioiden ei keskimäärin oikein mittaaminen ole ainakaan poissuljettu vaihtoehto. Se on kuitenkin todettava, että hajonnan ja keskiarvon absoluuttiset arvot ovat melko lähellä toisiaan, jolloin todennäköisintä voisi kuitenkin olla, että A yliarvioi lukemia.\n",
    "- B: Keskiarvon ja hajontojen absoluuttiset arvot eroavat siinä määrin toisistaan, että melko lähellä nollaa oleva keskiarvo voi hyvinkin kieliä totuudenmukaisemmasta mittaustuloksesta.\n",
    "- C: Tämän laitteen ongelmana on kutakuinkin sama, kuin laitteen A kohdalla. Keskiarvo ja hajonta huomoiden oikein mittaaminen on toki mahdollista, mutta ns. nollaerotus on hajonnan toisessa ääripäässä ennemmin kuin vankasti sen sisäpuolella. A-laitteeseen verrattuna tämä laite aliarvioi mittatulokset.\n",
    "- D: Laitteen keskiarvo ja hajonta ei sinällään salli mahdollisuutta nollaerotukselle, eli laite ainakin näiden tietojen pohjalta aliarvioi melko varmasti.\n",
    "\n",
    "Tehtävänannon hypoteeseiksi voidaan muodostaa seuraavat olettamat:\n",
    "\n",
    "$$ H_0 : \\text{Laitteiden mittausten keskiarvot ovat samat, eli } \\mu_1=\\mu_2=\\mu_3=\\mu_4 $$\n",
    "$$ H_a : \\text{Jokin laitteista eroaa muista} $$\n",
    "\n",
    "Näiden hypoteesien valossa näyttäisi intuitiivisesti siltä, että laitteissa on eroja ja nollahypoteesiä ei täten tulisi hylätä."
   ]
  },
  {
   "cell_type": "markdown",
   "metadata": {},
   "source": [
    "**B. Run an analysis of variance to confirm or reject your conclusion of part (a). Use $\\alpha = .05$.**"
   ]
  },
  {
   "cell_type": "markdown",
   "metadata": {},
   "source": [
    "Seuraavaksi on laskettava näiden neljän otoksen varianssianalyysi. Laskennassa hyödynnetään $F$-testiä."
   ]
  },
  {
   "cell_type": "code",
   "execution_count": 112,
   "metadata": {},
   "outputs": [
    {
     "data": {
      "text/html": [
       "<div>\n",
       "<style scoped>\n",
       "    .dataframe tbody tr th:only-of-type {\n",
       "        vertical-align: middle;\n",
       "    }\n",
       "\n",
       "    .dataframe tbody tr th {\n",
       "        vertical-align: top;\n",
       "    }\n",
       "\n",
       "    .dataframe thead th {\n",
       "        text-align: right;\n",
       "    }\n",
       "</style>\n",
       "<table border=\"1\" class=\"dataframe\">\n",
       "  <thead>\n",
       "    <tr style=\"text-align: right;\">\n",
       "      <th></th>\n",
       "      <th>A</th>\n",
       "      <th>B</th>\n",
       "      <th>C</th>\n",
       "      <th>D</th>\n",
       "    </tr>\n",
       "    <tr>\n",
       "      <th>Samples</th>\n",
       "      <th></th>\n",
       "      <th></th>\n",
       "      <th></th>\n",
       "      <th></th>\n",
       "    </tr>\n",
       "  </thead>\n",
       "  <tbody>\n",
       "    <tr>\n",
       "      <th>0</th>\n",
       "      <td>-0.307</td>\n",
       "      <td>-0.176</td>\n",
       "      <td>0.137</td>\n",
       "      <td>-0.042</td>\n",
       "    </tr>\n",
       "    <tr>\n",
       "      <th>1</th>\n",
       "      <td>-0.294</td>\n",
       "      <td>0.125</td>\n",
       "      <td>-0.063</td>\n",
       "      <td>0.690</td>\n",
       "    </tr>\n",
       "    <tr>\n",
       "      <th>2</th>\n",
       "      <td>0.079</td>\n",
       "      <td>-0.013</td>\n",
       "      <td>0.240</td>\n",
       "      <td>0.201</td>\n",
       "    </tr>\n",
       "    <tr>\n",
       "      <th>3</th>\n",
       "      <td>0.019</td>\n",
       "      <td>0.082</td>\n",
       "      <td>-0.050</td>\n",
       "      <td>0.166</td>\n",
       "    </tr>\n",
       "    <tr>\n",
       "      <th>4</th>\n",
       "      <td>-0.136</td>\n",
       "      <td>0.091</td>\n",
       "      <td>0.318</td>\n",
       "      <td>0.219</td>\n",
       "    </tr>\n",
       "    <tr>\n",
       "      <th>5</th>\n",
       "      <td>-0.324</td>\n",
       "      <td>0.459</td>\n",
       "      <td>0.154</td>\n",
       "      <td>0.407</td>\n",
       "    </tr>\n",
       "  </tbody>\n",
       "</table>\n",
       "</div>"
      ],
      "text/plain": [
       "             A      B      C      D\n",
       "Samples                            \n",
       "0       -0.307 -0.176  0.137 -0.042\n",
       "1       -0.294  0.125 -0.063  0.690\n",
       "2        0.079 -0.013  0.240  0.201\n",
       "3        0.019  0.082 -0.050  0.166\n",
       "4       -0.136  0.091  0.318  0.219\n",
       "5       -0.324  0.459  0.154  0.407"
      ]
     },
     "execution_count": 112,
     "metadata": {},
     "output_type": "execute_result"
    }
   ],
   "source": [
    "import matplotlib.pyplot as plt\n",
    "import numpy as np\n",
    "import pandas as pd\n",
    "import scipy.stats\n",
    "import seaborn as sns\n",
    "sns.set(style='dark')\n",
    "\n",
    "n = 6\n",
    "a = [-.307,-.294,.079,.019,-.136,-.324]\n",
    "b = [-.176,.125,-.013,.082,.091,.459]\n",
    "c = [.137,-.063,.240,-.050,.318,.154]\n",
    "d = [-.042,.690,.201,.166,.219,.407]\n",
    "\n",
    "samples = pd.DataFrame([a,b,c,d],index=['A','B','C','D']).T\n",
    "samples.index.name = 'Samples'\n",
    "samples"
   ]
  },
  {
   "cell_type": "markdown",
   "metadata": {},
   "source": [
    "Aloitetaan ensin normaalijakaumakuvaajien tuottamisella otoskohtaisesti."
   ]
  },
  {
   "cell_type": "code",
   "execution_count": 113,
   "metadata": {},
   "outputs": [
    {
     "data": {
      "image/png": "[encoded data removed]",
      "text/plain": [
       "<Figure size 432x288 with 1 Axes>"
      ]
     },
     "metadata": {},
     "output_type": "display_data"
    },
    {
     "data": {
      "image/png": "[encoded data removed]",
      "text/plain": [
       "<Figure size 432x288 with 1 Axes>"
      ]
     },
     "metadata": {},
     "output_type": "display_data"
    },
    {
     "data": {
      "image/png": "[encoded data removed]",
      "text/plain": [
       "<Figure size 432x288 with 1 Axes>"
      ]
     },
     "metadata": {},
     "output_type": "display_data"
    },
    {
     "data": {
      "image/png": "[encoded data removed]",
      "text/plain": [
       "<Figure size 432x288 with 1 Axes>"
      ]
     },
     "metadata": {},
     "output_type": "display_data"
    }
   ],
   "source": [
    "for key,value in {'A':a,'B':b,'C':c,'D':d}.items():\n",
    "    _,stats = scipy.stats.probplot(value,plot=plt,)\n",
    "    plt.title(f\"{key}: Probability Plot\")\n",
    "    plt.gca().legend((\"Samples\",f\"$R^2$: {stats[-1]**2:.3f}\"))\n",
    "    plt.show()"
   ]
  },
  {
   "cell_type": "markdown",
   "metadata": {},
   "source": [
    "Tehdäänpä otoksista myös laatikkojanakuvaajat."
   ]
  },
  {
   "cell_type": "code",
   "execution_count": 114,
   "metadata": {},
   "outputs": [
    {
     "data": {
      "image/png": "[encoded data removed]",
      "text/plain": [
       "<Figure size 432x288 with 1 Axes>"
      ]
     },
     "metadata": {},
     "output_type": "display_data"
    }
   ],
   "source": [
    "samples.plot.box()\n",
    "plt.title(\"Boxplots of Device samples\")\n",
    "plt.show()"
   ]
  },
  {
   "cell_type": "markdown",
   "metadata": {},
   "source": [
    "Koska kyseessä on pienet näytekoot, on melko epävarmojen kuvaajien lisäksi laskettava ja analysoitava residuaalit."
   ]
  },
  {
   "cell_type": "code",
   "execution_count": 101,
   "metadata": {},
   "outputs": [
    {
     "data": {
      "text/html": [
       "<div>\n",
       "<style scoped>\n",
       "    .dataframe tbody tr th:only-of-type {\n",
       "        vertical-align: middle;\n",
       "    }\n",
       "\n",
       "    .dataframe tbody tr th {\n",
       "        vertical-align: top;\n",
       "    }\n",
       "\n",
       "    .dataframe thead th {\n",
       "        text-align: right;\n",
       "    }\n",
       "</style>\n",
       "<table border=\"1\" class=\"dataframe\">\n",
       "  <thead>\n",
       "    <tr style=\"text-align: right;\">\n",
       "      <th></th>\n",
       "      <th>A</th>\n",
       "      <th>B</th>\n",
       "      <th>C</th>\n",
       "      <th>D</th>\n",
       "    </tr>\n",
       "    <tr>\n",
       "      <th>Residuals</th>\n",
       "      <th></th>\n",
       "      <th></th>\n",
       "      <th></th>\n",
       "      <th></th>\n",
       "    </tr>\n",
       "  </thead>\n",
       "  <tbody>\n",
       "    <tr>\n",
       "      <th>0</th>\n",
       "      <td>-0.146</td>\n",
       "      <td>-0.271</td>\n",
       "      <td>0.014</td>\n",
       "      <td>-0.316</td>\n",
       "    </tr>\n",
       "    <tr>\n",
       "      <th>1</th>\n",
       "      <td>-0.133</td>\n",
       "      <td>0.030</td>\n",
       "      <td>-0.186</td>\n",
       "      <td>0.416</td>\n",
       "    </tr>\n",
       "    <tr>\n",
       "      <th>2</th>\n",
       "      <td>0.239</td>\n",
       "      <td>-0.108</td>\n",
       "      <td>0.117</td>\n",
       "      <td>-0.073</td>\n",
       "    </tr>\n",
       "    <tr>\n",
       "      <th>3</th>\n",
       "      <td>0.179</td>\n",
       "      <td>-0.013</td>\n",
       "      <td>-0.173</td>\n",
       "      <td>-0.108</td>\n",
       "    </tr>\n",
       "    <tr>\n",
       "      <th>4</th>\n",
       "      <td>0.024</td>\n",
       "      <td>-0.004</td>\n",
       "      <td>0.195</td>\n",
       "      <td>-0.055</td>\n",
       "    </tr>\n",
       "    <tr>\n",
       "      <th>5</th>\n",
       "      <td>-0.164</td>\n",
       "      <td>0.364</td>\n",
       "      <td>0.031</td>\n",
       "      <td>0.133</td>\n",
       "    </tr>\n",
       "  </tbody>\n",
       "</table>\n",
       "</div>"
      ],
      "text/plain": [
       "               A      B      C      D\n",
       "Residuals                            \n",
       "0         -0.146 -0.271  0.014 -0.316\n",
       "1         -0.133  0.030 -0.186  0.416\n",
       "2          0.239 -0.108  0.117 -0.073\n",
       "3          0.179 -0.013 -0.173 -0.108\n",
       "4          0.024 -0.004  0.195 -0.055\n",
       "5         -0.164  0.364  0.031  0.133"
      ]
     },
     "execution_count": 101,
     "metadata": {},
     "output_type": "execute_result"
    }
   ],
   "source": [
    "residuals = pd.DataFrame()\n",
    "for column in samples.columns:\n",
    "    residuals.loc[:,column] = samples.loc[:,column]-samples.loc[:,column].mean()\n",
    "residuals.index.name = 'Residuals'\n",
    "residuals"
   ]
  },
  {
   "cell_type": "code",
   "execution_count": 105,
   "metadata": {},
   "outputs": [
    {
     "data": {
      "image/png": "[encoded data removed]",
      "text/plain": [
       "<Figure size 432x288 with 1 Axes>"
      ]
     },
     "metadata": {},
     "output_type": "display_data"
    }
   ],
   "source": [
    "_,stats = scipy.stats.probplot(residuals.values.flatten(),plot=plt)\n",
    "plt.title(f\"Residuals Probability Plot\")\n",
    "plt.gca().legend((\"Samples\",f\"$R^2$: {stats[-1]**2:.3f}\"))\n",
    "plt.show()"
   ]
  },
  {
   "cell_type": "markdown",
   "metadata": {},
   "source": [
    "Lähtökohtaisesti voidaan todeta, että jokaisen otoksen kohdalla voidaan tehdä oletus normaalijakautuneisuudesta, sillä residuaalit näyttävät olevan normaalijakautuneita. Koska tehtävänantona on monen otoksen varianssianalyysi, otoksien näytteiden on myös oltava riippumattomia satunnaisnäytteitä yhdenmukaisen varianssin omaavista populaatiosta. Näin on, tehtävänantoon nojaten. "
   ]
  },
  {
   "cell_type": "markdown",
   "metadata": {},
   "source": [
    "Lasketaan seuraavaksi likimääräinen arvio otosten varianssista $s^2_W$ käyttäen näytteen neliösummaa $\\text{SSW}$."
   ]
  },
  {
   "cell_type": "code",
   "execution_count": 73,
   "metadata": {},
   "outputs": [
    {
     "data": {
      "text/plain": [
       "0.8028956666666667"
      ]
     },
     "execution_count": 73,
     "metadata": {},
     "output_type": "execute_result"
    }
   ],
   "source": [
    "ssw = 0\n",
    "for sample in [a,b,c,d]:\n",
    "    ssw += sum([(v-np.mean(sample))**2 for v in sample])\n",
    "ssw"
   ]
  },
  {
   "cell_type": "markdown",
   "metadata": {},
   "source": [
    "$$ \\text{SSW} \\approx 0.803 \\hspace{0.5cm}\\text{ja}\\hspace{0.5cm} t = \\text{otosten määrä} = 4$$"
   ]
  },
  {
   "cell_type": "code",
   "execution_count": 80,
   "metadata": {},
   "outputs": [
    {
     "data": {
      "text/plain": [
       "0.2676318888888889"
      ]
     },
     "execution_count": 80,
     "metadata": {},
     "output_type": "execute_result"
    }
   ],
   "source": [
    "within_samples = ssw / 3\n",
    "within_samples"
   ]
  },
  {
   "cell_type": "markdown",
   "metadata": {},
   "source": [
    "$$s^2_W = \\frac{\\text{SSW}}{t-1} \\approx .267 $$"
   ]
  },
  {
   "cell_type": "markdown",
   "metadata": {},
   "source": [
    "$F$-testiä varten on myös laskettava $s^2_B$, joka on otosten keskiarvojen varianssin mitta."
   ]
  },
  {
   "cell_type": "code",
   "execution_count": 78,
   "metadata": {},
   "outputs": [
    {
     "data": {
      "text/plain": [
       "0.5837481666666666"
      ]
     },
     "execution_count": 78,
     "metadata": {},
     "output_type": "execute_result"
    }
   ],
   "source": [
    "samples_mean = np.mean([a,b,c,d])\n",
    "ssb = 0\n",
    "for sample in [a,b,c,d]:\n",
    "    ssb += n*(np.mean(sample) - samples_mean)**2\n",
    "ssb"
   ]
  },
  {
   "cell_type": "markdown",
   "metadata": {},
   "source": [
    "$$ \\text{SSB} \\approx .584 \\hspace{0.5cm}\\text{ja}\\hspace{0.5cm} n_T = \\text{näytteiden määrä} = 24$$"
   ]
  },
  {
   "cell_type": "code",
   "execution_count": 81,
   "metadata": {},
   "outputs": [
    {
     "data": {
      "text/plain": [
       "0.02918740833333333"
      ]
     },
     "execution_count": 81,
     "metadata": {},
     "output_type": "execute_result"
    }
   ],
   "source": [
    "between_samples = ssb/20\n",
    "between_samples"
   ]
  },
  {
   "cell_type": "markdown",
   "metadata": {},
   "source": [
    "$$ s^2_B = \\frac{\\text{SSB}}{n_t-t} \\approx .029 $$"
   ]
  },
  {
   "cell_type": "code",
   "execution_count": 82,
   "metadata": {},
   "outputs": [
    {
     "data": {
      "text/plain": [
       "0.1090580365983625"
      ]
     },
     "execution_count": 82,
     "metadata": {},
     "output_type": "execute_result"
    }
   ],
   "source": [
    "f_test = between_samples / within_samples\n",
    "f_test"
   ]
  },
  {
   "cell_type": "markdown",
   "metadata": {},
   "source": [
    "$$ F = \\frac{s^2_B}{s^2_W} \\approx .109 $$"
   ]
  },
  {
   "cell_type": "markdown",
   "metadata": {},
   "source": [
    "Mikäli $F$-testin arvo ylittää taulukoidun raja-arvon suhteessa $\\alpha$-arvoon sekä kahdeen neliösummien jakajana toimineeseen vapausasteiden määrään nähden, on nollahypoteesi otosten keskiarvojen samankaltaisuudesta hylättävä."
   ]
  },
  {
   "cell_type": "markdown",
   "metadata": {},
   "source": [
    "$$ F_{\\alpha,\\text{df}_1,\\text{df}_2} = F_{.05,3,23} = 3.03 \\gg F$$"
   ]
  },
  {
   "cell_type": "markdown",
   "metadata": {},
   "source": [
    "Nollahypoteesiä ei siis tule hylätä."
   ]
  },
  {
   "cell_type": "markdown",
   "metadata": {},
   "source": [
    "**C. Compute the p-value of the F test in part (b).**"
   ]
  },
  {
   "cell_type": "markdown",
   "metadata": {},
   "source": [
    "Taulukkoja käytettäess on testin $p$-arvo jälleen haarukoitava. Koska testin tulos on pienempi kuin taulukossa olevat arvot käytetyillä vapausasteilla, on tällöin\n",
    "\n",
    "$$ p > .25 = F_{.25,3,23} $$"
   ]
  },
  {
   "cell_type": "markdown",
   "metadata": {},
   "source": [
    "**D. What conditions must be satisfied for your analysis in parts (b) and (c) to be valid?**"
   ]
  },
  {
   "cell_type": "markdown",
   "metadata": {},
   "source": [
    "Nämä mainittiinkin jo edeltävässä tehtävässä ja todennettiinkin, mutta\n",
    "\n",
    "1. Normaalijakaumaoletuksen on pädettävä otoksiin\n",
    "2. Näytteiden on oltava satunnaisesti nostettuja ja riippumattomia.\n",
    "3. Näytteistetyn populaation varianssin on oltava sama kautta otosten.\n",
    "\n",
    "(1) todennettiin normaalijakaumakuvaajilla ja (2-3) tehtävänannon tekstiin nojaten."
   ]
  },
  {
   "cell_type": "markdown",
   "metadata": {},
   "source": [
    "**E. Suppose the 24 soil samples have widely different pH values. What problems may\n",
    "occur by simply randomly assigning the soil samples to the different devices?**"
   ]
  },
  {
   "cell_type": "markdown",
   "metadata": {},
   "source": [
    "Otokset voisivat näyttää merkittävästi varianssin osalta soisitaan eroavilta, jolloin esimerkiksi $F$-testin tekemisellä ei saataisi luotettavia tuloksia keskiarvojen samankaltaisuuden arviointiin."
   ]
  },
  {
   "cell_type": "markdown",
   "metadata": {},
   "source": [
    "## 9.12\n",
    "\n",
    "Refer to Exercise 7.20. \n",
    "\n",
    "> A wildlife biologist was interested in determining the effect of raising deer in captivity on the size of the deer. She decided to consider three populations: deer raised in the wild, deer raised on large hunting ranches, and deer raised in zoos. She randomly selected eight deer in each of the three environments and weighed the deer at age 1 year. The weights (in pounds) are given in the following table.\n",
    "\n",
    "| Wild        | 114.7 | 128.9 | 111.5 | 116.4 | 134.5 | 126.7 | 120.6 | 129.59 |\n",
    "|-------------|-------|-------|-------|-------|-------|-------|-------|--------|\n",
    "| Ranch       | 120.4 | 91.0  | 119.6 | 119.4 | 150.0 | 169.7 | 100.9 | 76.1   |\n",
    "| Zoo         | 103.1 | 90.7  | 129.5 | 75.8  | 182.5 | 76.8  | 87.3  | 77.3   |\n",
    "\n",
    "The wildlife biologist was interested in determining if the mean weights of deer raised in a zoo would be lower than those from a more uncontrolled environment, for example, either from the wild or raised on a ranch. "
   ]
  },
  {
   "cell_type": "markdown",
   "metadata": {},
   "source": [
    "**A. Use a multiple comparison procedure to determine if the mean weight of the deer raised in the wild or on a ranch is significantly higher than the mean weight of deer raised in a zoo.**"
   ]
  },
  {
   "cell_type": "code",
   "execution_count": 1,
   "metadata": {},
   "outputs": [
    {
     "data": {
      "text/html": [
       "<div>\n",
       "<style scoped>\n",
       "    .dataframe tbody tr th:only-of-type {\n",
       "        vertical-align: middle;\n",
       "    }\n",
       "\n",
       "    .dataframe tbody tr th {\n",
       "        vertical-align: top;\n",
       "    }\n",
       "\n",
       "    .dataframe thead th {\n",
       "        text-align: right;\n",
       "    }\n",
       "</style>\n",
       "<table border=\"1\" class=\"dataframe\">\n",
       "  <thead>\n",
       "    <tr style=\"text-align: right;\">\n",
       "      <th></th>\n",
       "      <th>Wild</th>\n",
       "      <th>Ranch</th>\n",
       "      <th>Zoo</th>\n",
       "    </tr>\n",
       "    <tr>\n",
       "      <th>Samples</th>\n",
       "      <th></th>\n",
       "      <th></th>\n",
       "      <th></th>\n",
       "    </tr>\n",
       "  </thead>\n",
       "  <tbody>\n",
       "    <tr>\n",
       "      <th>0</th>\n",
       "      <td>114.70</td>\n",
       "      <td>120.4</td>\n",
       "      <td>103.1</td>\n",
       "    </tr>\n",
       "    <tr>\n",
       "      <th>1</th>\n",
       "      <td>128.90</td>\n",
       "      <td>91.0</td>\n",
       "      <td>90.7</td>\n",
       "    </tr>\n",
       "    <tr>\n",
       "      <th>2</th>\n",
       "      <td>111.50</td>\n",
       "      <td>119.6</td>\n",
       "      <td>129.5</td>\n",
       "    </tr>\n",
       "    <tr>\n",
       "      <th>3</th>\n",
       "      <td>116.40</td>\n",
       "      <td>119.4</td>\n",
       "      <td>75.8</td>\n",
       "    </tr>\n",
       "    <tr>\n",
       "      <th>4</th>\n",
       "      <td>134.50</td>\n",
       "      <td>150.0</td>\n",
       "      <td>182.5</td>\n",
       "    </tr>\n",
       "    <tr>\n",
       "      <th>5</th>\n",
       "      <td>126.70</td>\n",
       "      <td>169.7</td>\n",
       "      <td>76.8</td>\n",
       "    </tr>\n",
       "    <tr>\n",
       "      <th>6</th>\n",
       "      <td>120.60</td>\n",
       "      <td>100.9</td>\n",
       "      <td>87.3</td>\n",
       "    </tr>\n",
       "    <tr>\n",
       "      <th>7</th>\n",
       "      <td>129.59</td>\n",
       "      <td>76.1</td>\n",
       "      <td>77.3</td>\n",
       "    </tr>\n",
       "  </tbody>\n",
       "</table>\n",
       "</div>"
      ],
      "text/plain": [
       "           Wild  Ranch    Zoo\n",
       "Samples                      \n",
       "0        114.70  120.4  103.1\n",
       "1        128.90   91.0   90.7\n",
       "2        111.50  119.6  129.5\n",
       "3        116.40  119.4   75.8\n",
       "4        134.50  150.0  182.5\n",
       "5        126.70  169.7   76.8\n",
       "6        120.60  100.9   87.3\n",
       "7        129.59   76.1   77.3"
      ]
     },
     "execution_count": 1,
     "metadata": {},
     "output_type": "execute_result"
    }
   ],
   "source": [
    "import matplotlib.pyplot as plt\n",
    "import numpy as np\n",
    "import pandas as pd\n",
    "import scipy.stats\n",
    "import seaborn as sns\n",
    "sns.set(style='dark')\n",
    "\n",
    "wild = [114.7,128.9,111.5,116.4,134.5,126.7,120.6,129.59]\n",
    "ranch = [120.4,91.0 ,119.6,119.4,150.0,169.7,100.9,76.1]\n",
    "zoo = [103.1,90.7 ,129.5,75.8 ,182.5,76.8 ,87.3 ,77.3]\n",
    "\n",
    "samples = pd.DataFrame([wild,ranch,zoo],index=['Wild','Ranch','Zoo']).T\n",
    "samples.index.name = 'Samples'\n",
    "samples"
   ]
  },
  {
   "cell_type": "markdown",
   "metadata": {},
   "source": [
    "Aivan ensimmäiseksi aloitetaan toistaiseksi tuntemattoman datan visualisoinnilla."
   ]
  },
  {
   "cell_type": "code",
   "execution_count": 2,
   "metadata": {},
   "outputs": [
    {
     "data": {
      "image/png": "[encoded data removed]",
      "text/plain": [
       "<Figure size 432x288 with 1 Axes>"
      ]
     },
     "metadata": {
      "needs_background": "light"
     },
     "output_type": "display_data"
    }
   ],
   "source": [
    "samples.plot.box()\n",
    "plt.title(\"Boxplots of Deer Samples\")\n",
    "plt.show()"
   ]
  },
  {
   "cell_type": "markdown",
   "metadata": {},
   "source": [
    "Luonnossa ja tiloilla kasvaneiden peurojen painot näyttävät jakautuvan normaalisti, kun taas eläintarhan painot ovat epänormaalisti jakautuneita. Jatketaan Kruskal-Wallisin testin vaatimalla arvojen järjestämisellä. Tätä varten näytteet asetetaan yhteen riviin siten, että näytteet identifioidaan tunnistettavasti."
   ]
  },
  {
   "cell_type": "code",
   "execution_count": 3,
   "metadata": {},
   "outputs": [
    {
     "data": {
      "text/plain": [
       "       Samples\n",
       "Wild   0          11.0\n",
       "       1          18.0\n",
       "       2          10.0\n",
       "       3          12.0\n",
       "       4          21.0\n",
       "       5          17.0\n",
       "       6          16.0\n",
       "       7          20.0\n",
       "Ranch  0          15.0\n",
       "       1           7.0\n",
       "       2          14.0\n",
       "       3          13.0\n",
       "       4          22.0\n",
       "       5          23.0\n",
       "       6           8.0\n",
       "       7           2.0\n",
       "Zoo    0           9.0\n",
       "       1           6.0\n",
       "       2          19.0\n",
       "       3           1.0\n",
       "       4          24.0\n",
       "       5           3.0\n",
       "       6           5.0\n",
       "       7           4.0\n",
       "dtype: float64"
      ]
     },
     "execution_count": 3,
     "metadata": {},
     "output_type": "execute_result"
    }
   ],
   "source": [
    "rankings = pd.concat((samples.loc[:, 'Wild'],\n",
    "                      samples.loc[:, 'Ranch'],\n",
    "                      samples.loc[:, 'Zoo']),\n",
    "                     keys=['Wild', 'Ranch', 'Zoo']).rank()\n",
    "rankings"
   ]
  },
  {
   "cell_type": "markdown",
   "metadata": {},
   "source": [
    "Lasketaanpa seuraavaksi otoskohtaiset sijoitussummat."
   ]
  },
  {
   "cell_type": "code",
   "execution_count": 4,
   "metadata": {},
   "outputs": [
    {
     "data": {
      "text/plain": [
       "(125.0, 104.0, 71.0)"
      ]
     },
     "execution_count": 4,
     "metadata": {},
     "output_type": "execute_result"
    }
   ],
   "source": [
    "ranksum_wild = rankings.loc['Wild',:].sum()\n",
    "ranksum_ranch = rankings.loc['Ranch',:].sum()\n",
    "ranksum_zoo = rankings.loc['Zoo',:].sum()\n",
    "ranksums = (ranksum_wild,ranksum_ranch,ranksum_zoo)\n",
    "ranksums"
   ]
  },
  {
   "cell_type": "markdown",
   "metadata": {},
   "source": [
    "Sijoitussummat ovat seuraavat:\n",
    "\n",
    "$$T_\\text{Wild} = 125$$\n",
    "$$T_\\text{Ranch} = 104$$\n",
    "$$T_\\text{Zoo} = 71$$\n",
    "\n",
    "Varmistetaan myös kaiken varalta, ettei sijoituksissa ole jaettuja sijoja."
   ]
  },
  {
   "cell_type": "code",
   "execution_count": 5,
   "metadata": {},
   "outputs": [
    {
     "data": {
      "text/plain": [
       "True"
      ]
     },
     "execution_count": 5,
     "metadata": {},
     "output_type": "execute_result"
    }
   ],
   "source": [
    "rankings.unique().size == rankings.size"
   ]
  },
  {
   "cell_type": "markdown",
   "metadata": {},
   "source": [
    "Ei ole. Eli voidaan jatkaa eteenpäin testisuureen $H$ laskennassa käyttäen kaavaa\n",
    "\n",
    "$$ H = \\frac{12}{n_T(n_T+1)}\\sum_i\\frac{T^2_i}{n_i}-3(n_T+1)$$\n",
    "\n",
    "jossa\n",
    "\n",
    "$$n_T: \\text{Näytteiden kokonaismäärä } = 24$$\n",
    "$$n_i: \\text{Otoksen näytteiden määrä } = 8 \\text{ (vakio)}$$\n",
    "$$T_i: \\text{Otoksen sijoitusten summa }$$"
   ]
  },
  {
   "cell_type": "code",
   "execution_count": 6,
   "metadata": {},
   "outputs": [
    {
     "data": {
      "text/plain": [
       "3.7049999999999983"
      ]
     },
     "execution_count": 6,
     "metadata": {},
     "output_type": "execute_result"
    }
   ],
   "source": [
    "h_test = 12/(24*25)*sum([(ranksum**2/8) for ranksum in ranksums])-3*25\n",
    "h_test"
   ]
  },
  {
   "cell_type": "markdown",
   "metadata": {},
   "source": [
    "$$H \\approx 3.705$$"
   ]
  },
  {
   "cell_type": "markdown",
   "metadata": {},
   "source": [
    "Käyttämällä myöhemmässä osatehtävässä määritettyä arvoa $\\alpha = .05$ ja otosten määrästä johdettua arvoa $\\text{df} = k-1 = 2$, määritetään seuraavaksi, että voidaanko nollahypoteesiä \n",
    "\n",
    "$$ H_0: \\text{Jakaumat ovat identtisiä} $$\n",
    "\n",
    "hylätä. Taulukosta lukien kriittinen raja\n",
    "\n",
    "$$ H_\\alpha = 5.991 > H$$\n",
    "\n",
    "Siispä *dataan pohjaavia perusteita nollahypoteesin hylkäykseen pelkän Kruskal-Wallisin testin perusteella ei ole*. Tämän testin tulos on kuitenkin hieman epäilyttävä, ja todennäköistä on, että ``Zoo``-otoksesta löytyvä räikeä poikkeama sotkee testin."
   ]
  },
  {
   "cell_type": "markdown",
   "metadata": {},
   "source": [
    "**B. Write a linear contrast to compare the average weight of deer raised in a zoo or on a ranch to the mean weight of deer raised in the wild.**"
   ]
  },
  {
   "cell_type": "markdown",
   "metadata": {},
   "source": [
    "Aloitetaan tunnuslukujen selvittämisellä."
   ]
  },
  {
   "cell_type": "code",
   "execution_count": 11,
   "metadata": {},
   "outputs": [
    {
     "data": {
      "text/html": [
       "<div>\n",
       "<style scoped>\n",
       "    .dataframe tbody tr th:only-of-type {\n",
       "        vertical-align: middle;\n",
       "    }\n",
       "\n",
       "    .dataframe tbody tr th {\n",
       "        vertical-align: top;\n",
       "    }\n",
       "\n",
       "    .dataframe thead th {\n",
       "        text-align: right;\n",
       "    }\n",
       "</style>\n",
       "<table border=\"1\" class=\"dataframe\">\n",
       "  <thead>\n",
       "    <tr style=\"text-align: right;\">\n",
       "      <th></th>\n",
       "      <th>Wild</th>\n",
       "      <th>Ranch</th>\n",
       "      <th>Zoo</th>\n",
       "    </tr>\n",
       "  </thead>\n",
       "  <tbody>\n",
       "    <tr>\n",
       "      <th>count</th>\n",
       "      <td>8.000</td>\n",
       "      <td>8.000</td>\n",
       "      <td>8.000</td>\n",
       "    </tr>\n",
       "    <tr>\n",
       "      <th>mean</th>\n",
       "      <td>122.861</td>\n",
       "      <td>118.387</td>\n",
       "      <td>102.875</td>\n",
       "    </tr>\n",
       "    <tr>\n",
       "      <th>std</th>\n",
       "      <td>8.233</td>\n",
       "      <td>30.433</td>\n",
       "      <td>36.853</td>\n",
       "    </tr>\n",
       "  </tbody>\n",
       "</table>\n",
       "</div>"
      ],
      "text/plain": [
       "         Wild   Ranch     Zoo\n",
       "count   8.000   8.000   8.000\n",
       "mean  122.861 118.387 102.875\n",
       "std     8.233  30.433  36.853"
      ]
     },
     "execution_count": 11,
     "metadata": {},
     "output_type": "execute_result"
    }
   ],
   "source": [
    "pd.options.display.float_format = '{:.3f}'.format\n",
    "samples.describe().loc[('count','mean','std'),:]"
   ]
  },
  {
   "cell_type": "markdown",
   "metadata": {},
   "source": [
    "Muodostetaan seuraavaksi neliösummalaskennat peuraotosten vertailuun. Vertailtavana on kolme populaatiota, joista kahta verrataan yhteen vuorollaan (näin tehtävänannosta ymmärsin). Laskettavat kontrastit ovat siis\n",
    "\n",
    "- ``Wild`` vs. ``Zoo``\n",
    "- ``Ranch`` vs. ``Zoo``"
   ]
  },
  {
   "cell_type": "markdown",
   "metadata": {},
   "source": [
    "Lasketaanpa seuraavaksi varsinaiset kontrastit."
   ]
  },
  {
   "cell_type": "code",
   "execution_count": 49,
   "metadata": {},
   "outputs": [
    {
     "name": "stdout",
     "output_type": "stream",
     "text": [
      "19.99, 15.51\n"
     ]
    }
   ],
   "source": [
    "l_wild_vs_zoo = samples['Wild'].mean() - samples['Zoo'].mean()\n",
    "l_ranch_vs_zoo = samples['Ranch'].mean() - samples['Zoo'].mean()\n",
    "print(f\"{l_wild_vs_zoo:2.2f}, {l_ranch_vs_zoo:2.2f}\")"
   ]
  },
  {
   "cell_type": "code",
   "execution_count": 60,
   "metadata": {},
   "outputs": [
    {
     "name": "stdout",
     "output_type": "stream",
     "text": [
      "1598, 962.6\n"
     ]
    }
   ],
   "source": [
    "n = 8\n",
    "ssc_wild_vs_zoo = 8*l_wild_vs_zoo**2/2\n",
    "ssc_ranch_vs_zoo = 8*l_ranch_vs_zoo**2/2\n",
    "print(f\"{ssc_wild_vs_zoo:.0f}, {ssc_ranch_vs_zoo:.1f}\")"
   ]
  },
  {
   "cell_type": "markdown",
   "metadata": {},
   "source": [
    "| Contrast      | $a_\\text{Wild}$ | $a_\\text{Ranch}$ | $a_\\text{Zoo}$ | $\\sum a^2_t$ | $\\hat{l}$ | $\\text{SSC}_t$ |\n",
    "|---------------|-----------------|------------------|----------------|--------------|-----------|----------------|\n",
    "| Wild vs Zoo   | 1               | 0                | -1             | 2            | 19.99     | 1598           |\n",
    "| Ranch vs. Zoo | 0               | 1                | -1             | 2            | 15.51     | 962.6          |"
   ]
  },
  {
   "cell_type": "markdown",
   "metadata": {},
   "source": [
    "Tarkistetaan seuraavaksi, ovatko lasketut lineaarikontrastit toisilleen vastakkaisia."
   ]
  },
  {
   "cell_type": "markdown",
   "metadata": {},
   "source": [
    "$$\\hat{l}_1 \\text{ ja } \\hat{l}_2 = (1)(0) + (0)(1) + (-1)(-1) = 1 $$ "
   ]
  },
  {
   "cell_type": "markdown",
   "metadata": {},
   "source": [
    "Kontrastit eivät ole vastakkaisia, eli ne selittävät jotain toisistaan ja ovat täten jossain määrin riippuvaisia toisistaan. Tämä on toisaalta ymmärrettävää, sillä kummassakin kontrastissa esiintyy ``Zoo``."
   ]
  },
  {
   "cell_type": "markdown",
   "metadata": {},
   "source": [
    "**C. Test at the $\\alpha = .05$ level if your contrast in (b) is significantly different from zero. What conclusions can you make from this test?**"
   ]
  },
  {
   "cell_type": "markdown",
   "metadata": {},
   "source": [
    "Lopuksi lasketaan vielä kummankin kontrastin nollasta eroavuuden merkitsevyys käyttämällä $F$-testiä."
   ]
  },
  {
   "cell_type": "code",
   "execution_count": 57,
   "metadata": {},
   "outputs": [
    {
     "name": "stdout",
     "output_type": "stream",
     "text": [
      "16464\n"
     ]
    }
   ],
   "source": [
    "ssw = sum([sum([(v-sample.mean())**2 for v in sample]) for key,sample in samples.T.iterrows()])\n",
    "print(f\"{ssw:.0f}\")"
   ]
  },
  {
   "cell_type": "code",
   "execution_count": 58,
   "metadata": {},
   "outputs": [
    {
     "name": "stdout",
     "output_type": "stream",
     "text": [
      "0.0970, 0.0585\n"
     ]
    }
   ],
   "source": [
    "f_wild_vs_zoo = ssc_wild_vs_zoo/ssw\n",
    "f_ranch_vs_zoo = ssc_ranch_vs_zoo/ssw\n",
    "print(f\"{f_wild_vs_zoo:.4f}, {f_ranch_vs_zoo:.4f}\")"
   ]
  },
  {
   "cell_type": "markdown",
   "metadata": {},
   "source": [
    "$$ F_\\text{Wild vs. Zoo} = \\frac{\\text{SSC}_\\text{Wild vs. Zoo}}{s^2_W} = \\frac{1598}{16464} = .0970$$\n",
    "$$ F_\\text{Ranch vs. Zoo} = \\frac{\\text{SSC}_\\text{Ranch vs. Zoo}}{s^2_W} = \\frac{962.6}{16464} = .0585$$"
   ]
  },
  {
   "cell_type": "markdown",
   "metadata": {},
   "source": [
    "Kun $\\alpha=.05$, $\\text{df}_1 = 1$ ja $\\text{df}_2 = n_T - t = 24 - 3 = 21$ saadaan $F$-testin raja-arvoksi\n",
    "\n",
    "$$ F_{.05, 1, 21} = 4.32 \\gg (.0970, .0585) $$\n",
    "\n",
    "Tähän tietoon nojaten voidaan todeta, kummankaan lineaarikontrastin kohdalla ei voida nollahypoteesiä hylätä. Kummassakin tapauksessa lineaarikontrastit eroavat liian vähän nollasta, jolloin ne toisin sanoen ovat siis liian samankaltaisia. Tässä kohdin on kuitenkin palattava jo ensimmäsen osan havaintoon ``Zoo``-otoksen poikkeavasta arvosta, joka vaikuttaa sekä otoksen keskiarvoon että hajontaan. Näytteiden vähyyden vuoksi perusteita poikkeavan havainnon poistamiseen ei kuitenkaan mielestäni ole. "
   ]
  },
  {
   "cell_type": "markdown",
   "metadata": {},
   "source": [
    "## 10.06\n",
    "\n",
    "The test was developed in the 1980s for screening donated blood for the presence of HIV. The test is designed to detect antibodies, substances produced in the body of donors carrying the virus; however, the test is not 100% accurate. The developer of the test claimed that the test would produce fewer than 5% false positives and fewer than 1% false negatives. In order to evaluate the accuracy of the test, 1,000 persons known to have HIV and 10,000 persons known to not have HIV were given the test. The following results were tabulated:\n",
    "\n",
    "| Test Result   | Has HIV | Does Not Have HIV | Total |\n",
    "|---------------|---------|-------------------|-------|\n",
    "| Positive Test | 993     | 591               | 1584  |\n",
    "| Negative Test | 7       | 9409              | 9416  |\n",
    "| Total         | 1000    | 10000             | 11000 |"
   ]
  },
  {
   "cell_type": "markdown",
   "metadata": {},
   "source": [
    "**A. Place a 95% confidence interval on the proportion of false positives produced by the test.**"
   ]
  },
  {
   "cell_type": "code",
   "execution_count": 63,
   "metadata": {},
   "outputs": [
    {
     "data": {
      "text/plain": [
       "11000"
      ]
     },
     "execution_count": 63,
     "metadata": {},
     "output_type": "execute_result"
    }
   ],
   "source": [
    "import matplotlib.pyplot as plt\n",
    "import numpy as np\n",
    "import pandas as pd\n",
    "import scipy.stats\n",
    "import seaborn as sns\n",
    "sns.set(style='dark')\n",
    "\n",
    "true_pos = 993\n",
    "false_pos = 591\n",
    "false_neg = 7\n",
    "true_neg = 9409\n",
    "\n",
    "total_pos = true_pos+false_neg\n",
    "total_neg = false_pos+true_neg\n",
    "total = total_pos+total_neg\n",
    "total"
   ]
  },
  {
   "cell_type": "markdown",
   "metadata": {},
   "source": [
    "Tehtävänä on siis selvittää, mikä on väärien positiivisten testitulosten todennäköisyysden luottamusväli. Luottamusvälin laskennassa lähdetään siis siitä, että kirjan notaatioon nojaten\n",
    "\n",
    "$$ y = n_{(\\text{ Testi positiivinen} \\hspace{0.1cm}\\mid\\hspace{0.1cm} \\text{Ei HI-virusta })} $$"
   ]
  },
  {
   "cell_type": "code",
   "execution_count": 66,
   "metadata": {},
   "outputs": [
    {
     "data": {
      "text/plain": [
       "0.05372727272727273"
      ]
     },
     "execution_count": 66,
     "metadata": {},
     "output_type": "execute_result"
    }
   ],
   "source": [
    "false_pos_mean = false_pos/total\n",
    "false_pos_mean"
   ]
  },
  {
   "cell_type": "code",
   "execution_count": 67,
   "metadata": {},
   "outputs": [
    {
     "data": {
      "text/plain": [
       "93.06260575296108"
      ]
     },
     "execution_count": 67,
     "metadata": {},
     "output_type": "execute_result"
    }
   ],
   "source": [
    "5/false_pos_mean"
   ]
  },
  {
   "cell_type": "markdown",
   "metadata": {},
   "source": [
    "Tällöin otoksiin pohjaava arvio keskimääräisestä todennäköisyydestä on\n",
    "\n",
    "$$\\hat{\\pi} = \\frac{y}{n} = \\frac{591}{11000} \\approx .0537$$\n",
    "\n",
    "Mikäli näytteitä on riittävästi, voidaan tehtävässä käytettävää kategorista dataa käsitellä keskiarvon ja keskihajonnan avulla. Tätä vertailua varten on ensin selvitettävä\n",
    "\n",
    "$$ \\frac{5}{\\min{(\\hat{\\pi}, 1-\\hat{\\pi}})} = \\frac{5}{\\min{(.0537, .9463)}} = \\frac{5}{.0537} = 93.06 \\le n \\equiv \\text{True}$$"
   ]
  },
  {
   "cell_type": "code",
   "execution_count": 68,
   "metadata": {},
   "outputs": [
    {
     "data": {
      "text/plain": [
       "0.0021498552359839147"
      ]
     },
     "execution_count": 68,
     "metadata": {},
     "output_type": "execute_result"
    }
   ],
   "source": [
    "false_pos_std = np.sqrt(false_pos_mean*(1-false_pos_mean)/total)\n",
    "false_pos_std"
   ]
  },
  {
   "cell_type": "markdown",
   "metadata": {},
   "source": [
    "Toisin sanoen tehtävässä voidaan käyttää\n",
    "\n",
    "$$\\mu_{\\hat{\\pi}} \\approx .0537 $$\n",
    "$$\\sigma _{\\hat{\\pi}} \\approx 0.002 $$\n",
    "\n",
    "Ja toisaalsta käsketään käyttää\n",
    "\n",
    "$$\\alpha = 1-.95 = .05 $$\n",
    "\n",
    "Seuraavaksi selvitetään luottamusvälin laskentaan tarvittava $z$-arvo, joka on\n",
    "\n",
    "$$z_{1-\\alpha/2} = z_{.975} = 1.96 $$\n",
    "\n",
    "Nyt meillä on kaikki tarvittava väärien positiivisten todennäköisyyden luottamusvälin laskentaan."
   ]
  },
  {
   "cell_type": "code",
   "execution_count": 71,
   "metadata": {},
   "outputs": [
    {
     "name": "stdout",
     "output_type": "stream",
     "text": [
      "0.0495, 0.0579\n"
     ]
    }
   ],
   "source": [
    "false_pos_z = 1.96\n",
    "false_pos_ci_low = false_pos_mean - false_pos_z * false_pos_std\n",
    "false_pos_ci_high = false_pos_mean + false_pos_z * false_pos_std\n",
    "print(f\"{false_pos_ci_low:.4f}, {false_pos_ci_high:.4f}\")"
   ]
  },
  {
   "cell_type": "markdown",
   "metadata": {},
   "source": [
    "$$ \\text{CI}^\\text{FP}_{95\\%} = [.0495, .0579] $$"
   ]
  },
  {
   "cell_type": "markdown",
   "metadata": {},
   "source": [
    "**B. Is there substantial evidence ($\\alpha = .05$) that the test produces less than 5% false\n",
    "positives?**"
   ]
  },
  {
   "cell_type": "markdown",
   "metadata": {},
   "source": [
    "Vaikka otoksen keskiarvo on suurempi, kuin luvattu \"pienempi kuin 5%\", keskiarvon 95 % luottamusvälillä tätä mahdollisuutta ei voida rajata pois. Se on tosin sanottava, että luvattu minimisuorituskyky on luottamusvälin alarajan tuntumassa."
   ]
  },
  {
   "cell_type": "markdown",
   "metadata": {},
   "source": [
    "## 11.01\n",
    "\n",
    "Plot the data shown here in a scatter diagram and sketch a line through the points.\n",
    "\n",
    "| x | 5  | 10 | 15 | 20 | 25 | 30 |\n",
    "|---|----|----|----|----|----|----|\n",
    "| y | 14 | 28 | 43 | 62 | 79 | 87 |"
   ]
  },
  {
   "cell_type": "code",
   "execution_count": 145,
   "metadata": {},
   "outputs": [],
   "source": [
    "import matplotlib.pyplot as plt\n",
    "import numpy as np\n",
    "import pandas as pd\n",
    "import scipy.stats\n",
    "import seaborn as sns\n",
    "sns.set(style='dark')\n",
    "\n",
    "x = [5,10,15,20,25,30]\n",
    "y = [14,28,43,62,79,87]"
   ]
  },
  {
   "cell_type": "markdown",
   "metadata": {},
   "source": [
    "Aloitetaan pistekuvaajan piirtämisellä."
   ]
  },
  {
   "cell_type": "code",
   "execution_count": 146,
   "metadata": {},
   "outputs": [
    {
     "data": {
      "image/png": "[encoded data removed]",
      "text/plain": [
       "<Figure size 432x288 with 1 Axes>"
      ]
     },
     "metadata": {},
     "output_type": "display_data"
    }
   ],
   "source": [
    "plt.scatter(x,y)\n",
    "plt.xlabel(\"x\")\n",
    "plt.ylabel(\"y\")\n",
    "plt.show()"
   ]
  },
  {
   "cell_type": "markdown",
   "metadata": {},
   "source": [
    "Aloitetaan piirtämäällä yksinkertainen suora pisteiden läpi käyttämällä pienimpien neliövirheiden menetelmää. Sen laskentaa varten meidän on selvitettävä termit $\\hat{\\beta}_0$ ja $\\hat{\\beta}_1$. \n",
    "\n",
    "$$ \\hat{\\beta}_0 = \\bar{y} - \\hat{\\beta}_1\\bar{x} $$\n",
    "$$ \\hat{\\beta}_1 = \\frac{S_{xy}}{S_{xx}} $$\n",
    "$$ S_{xy} = \\sum_i(x_i-\\bar{x})(y_i-\\bar{y}) $$\n",
    "$$ S_{xx} = \\sum_i(x_i-\\bar{x})^2 $$"
   ]
  },
  {
   "cell_type": "code",
   "execution_count": 147,
   "metadata": {},
   "outputs": [
    {
     "name": "stdout",
     "output_type": "stream",
     "text": [
      "S_xy = 1342.5\n",
      "S_xx = 437.5\n",
      "Beta_0 = -1.533\n",
      "Beta_1 = 3.069\n"
     ]
    }
   ],
   "source": [
    "x_mean = np.mean(x)\n",
    "y_mean = np.mean(y)\n",
    "\n",
    "s_xx = sum([(x_i-x_mean)**2 for x_i in x])\n",
    "s_xy = sum([(x_i-x_mean)*(y_i-y_mean) for x_i, y_i in zip(x,y)])\n",
    "    \n",
    "print(f\"S_xy = {s_xy}\")\n",
    "print(f\"S_xx = {s_xx}\")\n",
    "\n",
    "beta_1 = s_xy/s_xx\n",
    "beta_0 = y_mean - beta_1*x_mean\n",
    "print(f\"Beta_0 = {beta_0:.3f}\")\n",
    "print(f\"Beta_1 = {beta_1:.3f}\")"
   ]
  },
  {
   "cell_type": "markdown",
   "metadata": {},
   "source": [
    "$$ \\hat{\\beta}_0 = -1.533 $$\n",
    "$$ \\hat{\\beta}_1 = 3.069 $$\n",
    "\n",
    "Kulmakerroin on siis sovitetusta lineaarimallista lukien n. kolme. Visualisoidaanpa seuraavaksi opittu lineaarimalli suhteessa dataan."
   ]
  },
  {
   "cell_type": "code",
   "execution_count": 148,
   "metadata": {},
   "outputs": [
    {
     "data": {
      "image/png": "[encoded data removed]",
      "text/plain": [
       "<Figure size 432x288 with 1 Axes>"
      ]
     },
     "metadata": {},
     "output_type": "display_data"
    }
   ],
   "source": [
    "least_squares = lambda x: beta_0 + beta_1 * x\n",
    "y_hat = list(map(least_squares, x))\n",
    "plt.plot(x,y_hat,label='LeastSquares',color='darkorange')\n",
    "for x_i, y_i, y_hat_i in zip(x,y,y_hat):\n",
    "    plt.plot([x_i,x_i],[y_i,y_hat_i],color='royalblue')\n",
    "plt.scatter(x,y,label='Data',color='royalblue')\n",
    "plt.legend()\n",
    "plt.show()"
   ]
  },
  {
   "cell_type": "markdown",
   "metadata": {},
   "source": [
    "Piirretään tämän lisäksi myös sovitetun mallin residuaalit."
   ]
  },
  {
   "cell_type": "code",
   "execution_count": 152,
   "metadata": {
    "scrolled": true
   },
   "outputs": [
    {
     "data": {
      "image/png": "[encoded data removed]",
      "text/plain": [
       "<Figure size 432x288 with 1 Axes>"
      ]
     },
     "metadata": {},
     "output_type": "display_data"
    }
   ],
   "source": [
    "residuals = [y_i-y_hat_i for y_i, y_hat_i in zip(y,y_hat)]\n",
    "residuals_mean = np.mean(residuals)\n",
    "plt.plot([x[0],x[-1]],[residuals_mean,residuals_mean],label=\"Mean Error\")\n",
    "plt.scatter(x,residuals,label=\"Residuals\")\n",
    "plt.legend()\n",
    "plt.show()"
   ]
  },
  {
   "cell_type": "markdown",
   "metadata": {},
   "source": [
    "Residuaaleista lukien näyttäisi siltä, että arvojen kasvaessa myös mallin ennustekyky alkaisi heiketä. Kolmannen asteen funktio voisi tavoittaa pisteet huomattavasti tarkemmin, kuin nyt käytetty ensimmäisen asteen funktio."
   ]
  },
  {
   "cell_type": "markdown",
   "metadata": {},
   "source": [
    "## 12.08\n",
    "\n",
    "A pharmaceutical firm would like to obtain information on the relationship between the dose level and potency of a drug product. To do this, each of 15 test tubes is inoculated with a virus culture and incubated for 5 days at 30° C. Three test tubes are randomly assigned to each of the five different dose levels to be investigated (2, 4, 8, 16, and 32 mg). Each tube is injected with only one dose level and the response of interest (a measure of the protective strength of the product against the virus culture) is obtained. The data are given here.\n",
    "\n",
    "| Dose Level | Response |\n",
    "|------------|----------|\n",
    "| 2          | 5,7,3    |\n",
    "| 4          | 10,12,14 |\n",
    "| 8          | 15,17,18 |\n",
    "| 16         | 20,21,19 |\n",
    "| 32         | 23,24,29 |"
   ]
  },
  {
   "cell_type": "markdown",
   "metadata": {},
   "source": [
    "**A. Plot the data.**"
   ]
  },
  {
   "cell_type": "code",
   "execution_count": 171,
   "metadata": {},
   "outputs": [],
   "source": [
    "import matplotlib.pyplot as plt\n",
    "import numpy as np\n",
    "import pandas as pd\n",
    "import scipy.stats\n",
    "import seaborn as sns\n",
    "sns.set(style='dark')\n",
    "\n",
    "doses = [2, 4, 8, 16, 32]\n",
    "responses = [[5, 7, 3],\n",
    "             [10, 12, 13],\n",
    "             [15, 17, 18],\n",
    "             [20, 21, 19],\n",
    "             [23, 24, 29]]"
   ]
  },
  {
   "cell_type": "markdown",
   "metadata": {},
   "source": [
    "Rakennetaanpa ensin selkeämpi ``(x,y)``-parinen näytejoukko."
   ]
  },
  {
   "cell_type": "code",
   "execution_count": 172,
   "metadata": {},
   "outputs": [],
   "source": [
    "build_dose_responses = lambda x,ys: [(x,y) for y in ys]\n",
    "samples = []\n",
    "for dose_responses in list(map(build_dose_responses, doses, responses)):\n",
    "    samples += list(dose_responses)\n",
    "x, y = list(zip(*samples))"
   ]
  },
  {
   "cell_type": "markdown",
   "metadata": {},
   "source": [
    "Seuraavaksi visualisoidaan data."
   ]
  },
  {
   "cell_type": "code",
   "execution_count": 173,
   "metadata": {},
   "outputs": [
    {
     "data": {
      "image/png": "[encoded data removed]",
      "text/plain": [
       "<Figure size 432x288 with 1 Axes>"
      ]
     },
     "metadata": {},
     "output_type": "display_data"
    }
   ],
   "source": [
    "plt.scatter(x,y)\n",
    "plt.xlabel(\"Dose\")\n",
    "plt.ylabel(\"Response\")\n",
    "plt.show()"
   ]
  },
  {
   "cell_type": "markdown",
   "metadata": {},
   "source": [
    "**B. Fit a linear regression model to these data.**"
   ]
  },
  {
   "cell_type": "markdown",
   "metadata": {},
   "source": [
    "Tämän jälkeen koitetaan sovittaa dataan lineearimalli. Aloitetaan sen kertoimien laskennasta."
   ]
  },
  {
   "cell_type": "code",
   "execution_count": 174,
   "metadata": {},
   "outputs": [
    {
     "name": "stdout",
     "output_type": "stream",
     "text": [
      "S_xy = 1035.6\n",
      "S_xx = 1785.6\n",
      "Beta_0 = 8.542\n",
      "Beta_1 = 0.580\n"
     ]
    }
   ],
   "source": [
    "x_mean = np.mean(x)\n",
    "y_mean = np.mean(y)\n",
    "\n",
    "s_xx = sum([(x_i-x_mean)**2 for x_i in x])\n",
    "s_xy = sum([(x_i-x_mean)*(y_i-y_mean) for x_i, y_i in zip(x,y)])\n",
    "    \n",
    "print(f\"S_xy = {s_xy:.1f}\")\n",
    "print(f\"S_xx = {s_xx:.1f}\")\n",
    "\n",
    "beta_1 = s_xy/s_xx\n",
    "beta_0 = y_mean - beta_1*x_mean\n",
    "print(f\"Beta_0 = {beta_0:.3f}\")\n",
    "print(f\"Beta_1 = {beta_1:.3f}\")"
   ]
  },
  {
   "cell_type": "markdown",
   "metadata": {},
   "source": [
    "$$ \\hat{\\beta}_0 = 8.542 $$\n",
    "$$ \\hat{\\beta}_1 = 0.580 $$\n",
    "\n",
    "Visualisoidaanpa seuraavaksi opittu lineaarimalli suhteessa dataan."
   ]
  },
  {
   "cell_type": "code",
   "execution_count": 175,
   "metadata": {},
   "outputs": [
    {
     "data": {
      "image/png": "[encoded data removed]",
      "text/plain": [
       "<Figure size 432x288 with 1 Axes>"
      ]
     },
     "metadata": {},
     "output_type": "display_data"
    }
   ],
   "source": [
    "least_squares = lambda x: beta_0 + beta_1 * x\n",
    "y_hat = list(map(least_squares, x))\n",
    "plt.plot(x,y_hat,label='LeastSquares',color='darkorange')\n",
    "for x_i, y_i, y_hat_i in zip(x,y,y_hat):\n",
    "    plt.plot([x_i,x_i],[y_i,y_hat_i],color='royalblue')\n",
    "plt.scatter(x,y,label='Data',color='royalblue')\n",
    "plt.legend()\n",
    "plt.show()"
   ]
  },
  {
   "cell_type": "markdown",
   "metadata": {},
   "source": [
    "Piirretään tämän lisäksi myös sovitetun mallin residuaalit."
   ]
  },
  {
   "cell_type": "code",
   "execution_count": 176,
   "metadata": {
    "scrolled": true
   },
   "outputs": [
    {
     "data": {
      "image/png": "[encoded data removed]",
      "text/plain": [
       "<Figure size 432x288 with 1 Axes>"
      ]
     },
     "metadata": {},
     "output_type": "display_data"
    }
   ],
   "source": [
    "residuals = [y_i-y_hat_i for y_i, y_hat_i in zip(y,y_hat)]\n",
    "residuals_mean = np.mean(residuals)\n",
    "plt.plot([x[0],x[-1]],[residuals_mean,residuals_mean],label=\"Mean Error\")\n",
    "plt.scatter(x,residuals,label=\"Residuals\")\n",
    "plt.legend()\n",
    "plt.show()"
   ]
  },
  {
   "cell_type": "markdown",
   "metadata": {},
   "source": [
    "Yksinkertainen lineaarimalli ei oikein näyttäisi istuvan käytettyyn dataan."
   ]
  },
  {
   "cell_type": "markdown",
   "metadata": {},
   "source": [
    "**C. What other regression model might be appropriate?**"
   ]
  },
  {
   "cell_type": "markdown",
   "metadata": {},
   "source": [
    "Silmämääräisesti näyttäisikin ennemmin siltä, että esimerkiksi nollan kautta hyperbolinen funktio voisi sovittua dataan parhaiten. Esimerkiksi epälineaarinen\n",
    "\n",
    "$$ y = \\beta_1\\tanh{(x)} + \\epsilon $$\n",
    "\n",
    "voisi muotonsa puolesta soveltua havaintojen mallintamiseen hyvin."
   ]
  },
  {
   "cell_type": "markdown",
   "metadata": {},
   "source": [
    "**D. SAS computer output is shown for both a linear and quadratic regression equation. Which regression equation appears to fit the data better? Why?**"
   ]
  },
  {
   "cell_type": "markdown",
   "metadata": {},
   "source": [
    "Silmämääräisesti kuvaajat näyttäisivät siltä, että toisen asteen funktio sopii dataan paremmin tuottaen magnitudiltaan pienempiä residuaaleja. Analyysin tulokset ovat kootusti seuraavat:\n",
    "\n",
    "| Metric   | Linear | Quadratic |\n",
    "|----------|--------|-----------|\n",
    "| Root MSE | 3.653  | 2.747     |\n",
    "| R-square | .7730  | .8815     |"
   ]
  },
  {
   "cell_type": "markdown",
   "metadata": {},
   "source": [
    "Näiden arvojen valossa toisen asteen funktio näyttäisi olevan kahdesta parempi. Mikäli varianssianalyysin tuloksia $F$-arvojen osalta kuitenkin tulkitsen oikein, niin molemmat mallit hylätään näytteitä kuvaavina."
   ]
  },
  {
   "cell_type": "markdown",
   "metadata": {},
   "source": [
    "## 13.08"
   ]
  },
  {
   "cell_type": "code",
   "execution_count": null,
   "metadata": {},
   "outputs": [],
   "source": []
  },
  {
   "cell_type": "markdown",
   "metadata": {},
   "source": [
    "## 14.17"
   ]
  },
  {
   "cell_type": "code",
   "execution_count": null,
   "metadata": {},
   "outputs": [],
   "source": []
  },
  {
   "cell_type": "markdown",
   "metadata": {},
   "source": [
    "## 15.04"
   ]
  },
  {
   "cell_type": "code",
   "execution_count": null,
   "metadata": {},
   "outputs": [],
   "source": []
  }
 ],
 "metadata": {
  "kernelspec": {
   "display_name": "Python 3",
   "language": "python",
   "name": "python3"
  },
  "language_info": {
   "codemirror_mode": {
    "name": "ipython",
    "version": 3
   },
   "file_extension": ".py",
   "mimetype": "text/x-python",
   "name": "python",
   "nbconvert_exporter": "python",
   "pygments_lexer": "ipython3",
   "version": "3.7.2"
  },
  "toc": {
   "base_numbering": 1,
   "nav_menu": {},
   "number_sections": false,
   "sideBar": true,
   "skip_h1_title": true,
   "title_cell": "Sisällysluettelo",
   "title_sidebar": "Contents",
   "toc_cell": true,
   "toc_position": {},
   "toc_section_display": true,
   "toc_window_display": false
  }
 },
 "nbformat": 4,
 "nbformat_minor": 2
}
